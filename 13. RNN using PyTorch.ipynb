{
  "nbformat": 4,
  "nbformat_minor": 0,
  "metadata": {
    "colab": {
      "provenance": [],
      "gpuType": "T4"
    },
    "kernelspec": {
      "name": "python3",
      "display_name": "Python 3"
    },
    "language_info": {
      "name": "python"
    },
    "accelerator": "GPU"
  },
  "cells": [
    {
      "cell_type": "markdown",
      "source": [
        "**This is Food Ingredients recipe RNN model, that gives the reciepy for the given food ingredients**"
      ],
      "metadata": {
        "id": "xL8fJo6Ww7Jf"
      }
    },
    {
      "cell_type": "markdown",
      "source": [
        "# **RNN**\n",
        "A Recurrent Neural Network (RNN) is a type of neural network designed for processing sequential data. Unlike traditional feedforward networks, which process inputs independently, RNNs maintain a memory of previous inputs by using loops in their architecture.\n",
        "\n",
        "This makes them well-suited for tasks where context and order matter, such as time series forecasting, speech recognition and text generation"
      ],
      "metadata": {
        "id": "e805FUb62RS8"
      }
    },
    {
      "cell_type": "code",
      "execution_count": 2,
      "metadata": {
        "colab": {
          "base_uri": "https://localhost:8080/"
        },
        "id": "UNbbdCCtupfE",
        "outputId": "37071915-d94f-4c0b-c1e9-ef34720a1739"
      },
      "outputs": [
        {
          "output_type": "stream",
          "name": "stdout",
          "text": [
            "Downloading from https://www.kaggle.com/api/v1/datasets/download/pes12017000148/food-ingredients-and-recipe-dataset-with-images?dataset_version_number=1...\n"
          ]
        },
        {
          "output_type": "stream",
          "name": "stderr",
          "text": [
            "100%|██████████| 206M/206M [00:05<00:00, 39.9MB/s]"
          ]
        },
        {
          "output_type": "stream",
          "name": "stdout",
          "text": [
            "Extracting files...\n"
          ]
        },
        {
          "output_type": "stream",
          "name": "stderr",
          "text": [
            "\n"
          ]
        },
        {
          "output_type": "stream",
          "name": "stdout",
          "text": [
            "Path to dataset files: /root/.cache/kagglehub/datasets/pes12017000148/food-ingredients-and-recipe-dataset-with-images/versions/1\n"
          ]
        }
      ],
      "source": [
        "import kagglehub\n",
        "\n",
        "# Download latest version\n",
        "path = kagglehub.dataset_download(\"pes12017000148/food-ingredients-and-recipe-dataset-with-images\")\n",
        "\n",
        "print(\"Path to dataset files:\", path)"
      ]
    },
    {
      "cell_type": "code",
      "source": [
        "!mv /root/.cache/kagglehub/datasets/pes12017000148/food-ingredients-and-recipe-dataset-with-images/versions/1 /content"
      ],
      "metadata": {
        "id": "b8xfqJaQw76l"
      },
      "execution_count": 3,
      "outputs": []
    },
    {
      "cell_type": "code",
      "source": [
        "import pandas as pd\n",
        "\n",
        "df = pd.read_csv(\"/content/1/Food Ingredients and Recipe Dataset with Image Name Mapping.csv\")\n",
        "df.head()"
      ],
      "metadata": {
        "colab": {
          "base_uri": "https://localhost:8080/",
          "height": 310
        },
        "id": "W3qHojvFxR-X",
        "outputId": "e1e0bb0b-59af-4c37-ce64-260773a25fb2"
      },
      "execution_count": 1,
      "outputs": [
        {
          "output_type": "execute_result",
          "data": {
            "text/plain": [
              "   Unnamed: 0                                              Title  \\\n",
              "0           0  Miso-Butter Roast Chicken With Acorn Squash Pa...   \n",
              "1           1                    Crispy Salt and Pepper Potatoes   \n",
              "2           2                        Thanksgiving Mac and Cheese   \n",
              "3           3                 Italian Sausage and Bread Stuffing   \n",
              "4           4                                       Newton's Law   \n",
              "\n",
              "                                         Ingredients  \\\n",
              "0  ['1 (3½–4-lb.) whole chicken', '2¾ tsp. kosher...   \n",
              "1  ['2 large egg whites', '1 pound new potatoes (...   \n",
              "2  ['1 cup evaporated milk', '1 cup whole milk', ...   \n",
              "3  ['1 (¾- to 1-pound) round Italian loaf, cut in...   \n",
              "4  ['1 teaspoon dark brown sugar', '1 teaspoon ho...   \n",
              "\n",
              "                                        Instructions  \\\n",
              "0  Pat chicken dry with paper towels, season all ...   \n",
              "1  Preheat oven to 400°F and line a rimmed baking...   \n",
              "2  Place a rack in middle of oven; preheat to 400...   \n",
              "3  Preheat oven to 350°F with rack in middle. Gen...   \n",
              "4  Stir together brown sugar and hot water in a c...   \n",
              "\n",
              "                                          Image_Name  \\\n",
              "0  miso-butter-roast-chicken-acorn-squash-panzanella   \n",
              "1         crispy-salt-and-pepper-potatoes-dan-kluger   \n",
              "2         thanksgiving-mac-and-cheese-erick-williams   \n",
              "3          italian-sausage-and-bread-stuffing-240559   \n",
              "4                 newtons-law-apple-bourbon-cocktail   \n",
              "\n",
              "                                 Cleaned_Ingredients  \n",
              "0  ['1 (3½–4-lb.) whole chicken', '2¾ tsp. kosher...  \n",
              "1  ['2 large egg whites', '1 pound new potatoes (...  \n",
              "2  ['1 cup evaporated milk', '1 cup whole milk', ...  \n",
              "3  ['1 (¾- to 1-pound) round Italian loaf, cut in...  \n",
              "4  ['1 teaspoon dark brown sugar', '1 teaspoon ho...  "
            ],
            "text/html": [
              "\n",
              "  <div id=\"df-fe984531-92a6-4c60-897f-d815fe69ef60\" class=\"colab-df-container\">\n",
              "    <div>\n",
              "<style scoped>\n",
              "    .dataframe tbody tr th:only-of-type {\n",
              "        vertical-align: middle;\n",
              "    }\n",
              "\n",
              "    .dataframe tbody tr th {\n",
              "        vertical-align: top;\n",
              "    }\n",
              "\n",
              "    .dataframe thead th {\n",
              "        text-align: right;\n",
              "    }\n",
              "</style>\n",
              "<table border=\"1\" class=\"dataframe\">\n",
              "  <thead>\n",
              "    <tr style=\"text-align: right;\">\n",
              "      <th></th>\n",
              "      <th>Unnamed: 0</th>\n",
              "      <th>Title</th>\n",
              "      <th>Ingredients</th>\n",
              "      <th>Instructions</th>\n",
              "      <th>Image_Name</th>\n",
              "      <th>Cleaned_Ingredients</th>\n",
              "    </tr>\n",
              "  </thead>\n",
              "  <tbody>\n",
              "    <tr>\n",
              "      <th>0</th>\n",
              "      <td>0</td>\n",
              "      <td>Miso-Butter Roast Chicken With Acorn Squash Pa...</td>\n",
              "      <td>['1 (3½–4-lb.) whole chicken', '2¾ tsp. kosher...</td>\n",
              "      <td>Pat chicken dry with paper towels, season all ...</td>\n",
              "      <td>miso-butter-roast-chicken-acorn-squash-panzanella</td>\n",
              "      <td>['1 (3½–4-lb.) whole chicken', '2¾ tsp. kosher...</td>\n",
              "    </tr>\n",
              "    <tr>\n",
              "      <th>1</th>\n",
              "      <td>1</td>\n",
              "      <td>Crispy Salt and Pepper Potatoes</td>\n",
              "      <td>['2 large egg whites', '1 pound new potatoes (...</td>\n",
              "      <td>Preheat oven to 400°F and line a rimmed baking...</td>\n",
              "      <td>crispy-salt-and-pepper-potatoes-dan-kluger</td>\n",
              "      <td>['2 large egg whites', '1 pound new potatoes (...</td>\n",
              "    </tr>\n",
              "    <tr>\n",
              "      <th>2</th>\n",
              "      <td>2</td>\n",
              "      <td>Thanksgiving Mac and Cheese</td>\n",
              "      <td>['1 cup evaporated milk', '1 cup whole milk', ...</td>\n",
              "      <td>Place a rack in middle of oven; preheat to 400...</td>\n",
              "      <td>thanksgiving-mac-and-cheese-erick-williams</td>\n",
              "      <td>['1 cup evaporated milk', '1 cup whole milk', ...</td>\n",
              "    </tr>\n",
              "    <tr>\n",
              "      <th>3</th>\n",
              "      <td>3</td>\n",
              "      <td>Italian Sausage and Bread Stuffing</td>\n",
              "      <td>['1 (¾- to 1-pound) round Italian loaf, cut in...</td>\n",
              "      <td>Preheat oven to 350°F with rack in middle. Gen...</td>\n",
              "      <td>italian-sausage-and-bread-stuffing-240559</td>\n",
              "      <td>['1 (¾- to 1-pound) round Italian loaf, cut in...</td>\n",
              "    </tr>\n",
              "    <tr>\n",
              "      <th>4</th>\n",
              "      <td>4</td>\n",
              "      <td>Newton's Law</td>\n",
              "      <td>['1 teaspoon dark brown sugar', '1 teaspoon ho...</td>\n",
              "      <td>Stir together brown sugar and hot water in a c...</td>\n",
              "      <td>newtons-law-apple-bourbon-cocktail</td>\n",
              "      <td>['1 teaspoon dark brown sugar', '1 teaspoon ho...</td>\n",
              "    </tr>\n",
              "  </tbody>\n",
              "</table>\n",
              "</div>\n",
              "    <div class=\"colab-df-buttons\">\n",
              "\n",
              "  <div class=\"colab-df-container\">\n",
              "    <button class=\"colab-df-convert\" onclick=\"convertToInteractive('df-fe984531-92a6-4c60-897f-d815fe69ef60')\"\n",
              "            title=\"Convert this dataframe to an interactive table.\"\n",
              "            style=\"display:none;\">\n",
              "\n",
              "  <svg xmlns=\"http://www.w3.org/2000/svg\" height=\"24px\" viewBox=\"0 -960 960 960\">\n",
              "    <path d=\"M120-120v-720h720v720H120Zm60-500h600v-160H180v160Zm220 220h160v-160H400v160Zm0 220h160v-160H400v160ZM180-400h160v-160H180v160Zm440 0h160v-160H620v160ZM180-180h160v-160H180v160Zm440 0h160v-160H620v160Z\"/>\n",
              "  </svg>\n",
              "    </button>\n",
              "\n",
              "  <style>\n",
              "    .colab-df-container {\n",
              "      display:flex;\n",
              "      gap: 12px;\n",
              "    }\n",
              "\n",
              "    .colab-df-convert {\n",
              "      background-color: #E8F0FE;\n",
              "      border: none;\n",
              "      border-radius: 50%;\n",
              "      cursor: pointer;\n",
              "      display: none;\n",
              "      fill: #1967D2;\n",
              "      height: 32px;\n",
              "      padding: 0 0 0 0;\n",
              "      width: 32px;\n",
              "    }\n",
              "\n",
              "    .colab-df-convert:hover {\n",
              "      background-color: #E2EBFA;\n",
              "      box-shadow: 0px 1px 2px rgba(60, 64, 67, 0.3), 0px 1px 3px 1px rgba(60, 64, 67, 0.15);\n",
              "      fill: #174EA6;\n",
              "    }\n",
              "\n",
              "    .colab-df-buttons div {\n",
              "      margin-bottom: 4px;\n",
              "    }\n",
              "\n",
              "    [theme=dark] .colab-df-convert {\n",
              "      background-color: #3B4455;\n",
              "      fill: #D2E3FC;\n",
              "    }\n",
              "\n",
              "    [theme=dark] .colab-df-convert:hover {\n",
              "      background-color: #434B5C;\n",
              "      box-shadow: 0px 1px 3px 1px rgba(0, 0, 0, 0.15);\n",
              "      filter: drop-shadow(0px 1px 2px rgba(0, 0, 0, 0.3));\n",
              "      fill: #FFFFFF;\n",
              "    }\n",
              "  </style>\n",
              "\n",
              "    <script>\n",
              "      const buttonEl =\n",
              "        document.querySelector('#df-fe984531-92a6-4c60-897f-d815fe69ef60 button.colab-df-convert');\n",
              "      buttonEl.style.display =\n",
              "        google.colab.kernel.accessAllowed ? 'block' : 'none';\n",
              "\n",
              "      async function convertToInteractive(key) {\n",
              "        const element = document.querySelector('#df-fe984531-92a6-4c60-897f-d815fe69ef60');\n",
              "        const dataTable =\n",
              "          await google.colab.kernel.invokeFunction('convertToInteractive',\n",
              "                                                    [key], {});\n",
              "        if (!dataTable) return;\n",
              "\n",
              "        const docLinkHtml = 'Like what you see? Visit the ' +\n",
              "          '<a target=\"_blank\" href=https://colab.research.google.com/notebooks/data_table.ipynb>data table notebook</a>'\n",
              "          + ' to learn more about interactive tables.';\n",
              "        element.innerHTML = '';\n",
              "        dataTable['output_type'] = 'display_data';\n",
              "        await google.colab.output.renderOutput(dataTable, element);\n",
              "        const docLink = document.createElement('div');\n",
              "        docLink.innerHTML = docLinkHtml;\n",
              "        element.appendChild(docLink);\n",
              "      }\n",
              "    </script>\n",
              "  </div>\n",
              "\n",
              "\n",
              "    <div id=\"df-281fdd2b-7e13-4873-9fe6-a530b07c3ffe\">\n",
              "      <button class=\"colab-df-quickchart\" onclick=\"quickchart('df-281fdd2b-7e13-4873-9fe6-a530b07c3ffe')\"\n",
              "                title=\"Suggest charts\"\n",
              "                style=\"display:none;\">\n",
              "\n",
              "<svg xmlns=\"http://www.w3.org/2000/svg\" height=\"24px\"viewBox=\"0 0 24 24\"\n",
              "     width=\"24px\">\n",
              "    <g>\n",
              "        <path d=\"M19 3H5c-1.1 0-2 .9-2 2v14c0 1.1.9 2 2 2h14c1.1 0 2-.9 2-2V5c0-1.1-.9-2-2-2zM9 17H7v-7h2v7zm4 0h-2V7h2v10zm4 0h-2v-4h2v4z\"/>\n",
              "    </g>\n",
              "</svg>\n",
              "      </button>\n",
              "\n",
              "<style>\n",
              "  .colab-df-quickchart {\n",
              "      --bg-color: #E8F0FE;\n",
              "      --fill-color: #1967D2;\n",
              "      --hover-bg-color: #E2EBFA;\n",
              "      --hover-fill-color: #174EA6;\n",
              "      --disabled-fill-color: #AAA;\n",
              "      --disabled-bg-color: #DDD;\n",
              "  }\n",
              "\n",
              "  [theme=dark] .colab-df-quickchart {\n",
              "      --bg-color: #3B4455;\n",
              "      --fill-color: #D2E3FC;\n",
              "      --hover-bg-color: #434B5C;\n",
              "      --hover-fill-color: #FFFFFF;\n",
              "      --disabled-bg-color: #3B4455;\n",
              "      --disabled-fill-color: #666;\n",
              "  }\n",
              "\n",
              "  .colab-df-quickchart {\n",
              "    background-color: var(--bg-color);\n",
              "    border: none;\n",
              "    border-radius: 50%;\n",
              "    cursor: pointer;\n",
              "    display: none;\n",
              "    fill: var(--fill-color);\n",
              "    height: 32px;\n",
              "    padding: 0;\n",
              "    width: 32px;\n",
              "  }\n",
              "\n",
              "  .colab-df-quickchart:hover {\n",
              "    background-color: var(--hover-bg-color);\n",
              "    box-shadow: 0 1px 2px rgba(60, 64, 67, 0.3), 0 1px 3px 1px rgba(60, 64, 67, 0.15);\n",
              "    fill: var(--button-hover-fill-color);\n",
              "  }\n",
              "\n",
              "  .colab-df-quickchart-complete:disabled,\n",
              "  .colab-df-quickchart-complete:disabled:hover {\n",
              "    background-color: var(--disabled-bg-color);\n",
              "    fill: var(--disabled-fill-color);\n",
              "    box-shadow: none;\n",
              "  }\n",
              "\n",
              "  .colab-df-spinner {\n",
              "    border: 2px solid var(--fill-color);\n",
              "    border-color: transparent;\n",
              "    border-bottom-color: var(--fill-color);\n",
              "    animation:\n",
              "      spin 1s steps(1) infinite;\n",
              "  }\n",
              "\n",
              "  @keyframes spin {\n",
              "    0% {\n",
              "      border-color: transparent;\n",
              "      border-bottom-color: var(--fill-color);\n",
              "      border-left-color: var(--fill-color);\n",
              "    }\n",
              "    20% {\n",
              "      border-color: transparent;\n",
              "      border-left-color: var(--fill-color);\n",
              "      border-top-color: var(--fill-color);\n",
              "    }\n",
              "    30% {\n",
              "      border-color: transparent;\n",
              "      border-left-color: var(--fill-color);\n",
              "      border-top-color: var(--fill-color);\n",
              "      border-right-color: var(--fill-color);\n",
              "    }\n",
              "    40% {\n",
              "      border-color: transparent;\n",
              "      border-right-color: var(--fill-color);\n",
              "      border-top-color: var(--fill-color);\n",
              "    }\n",
              "    60% {\n",
              "      border-color: transparent;\n",
              "      border-right-color: var(--fill-color);\n",
              "    }\n",
              "    80% {\n",
              "      border-color: transparent;\n",
              "      border-right-color: var(--fill-color);\n",
              "      border-bottom-color: var(--fill-color);\n",
              "    }\n",
              "    90% {\n",
              "      border-color: transparent;\n",
              "      border-bottom-color: var(--fill-color);\n",
              "    }\n",
              "  }\n",
              "</style>\n",
              "\n",
              "      <script>\n",
              "        async function quickchart(key) {\n",
              "          const quickchartButtonEl =\n",
              "            document.querySelector('#' + key + ' button');\n",
              "          quickchartButtonEl.disabled = true;  // To prevent multiple clicks.\n",
              "          quickchartButtonEl.classList.add('colab-df-spinner');\n",
              "          try {\n",
              "            const charts = await google.colab.kernel.invokeFunction(\n",
              "                'suggestCharts', [key], {});\n",
              "          } catch (error) {\n",
              "            console.error('Error during call to suggestCharts:', error);\n",
              "          }\n",
              "          quickchartButtonEl.classList.remove('colab-df-spinner');\n",
              "          quickchartButtonEl.classList.add('colab-df-quickchart-complete');\n",
              "        }\n",
              "        (() => {\n",
              "          let quickchartButtonEl =\n",
              "            document.querySelector('#df-281fdd2b-7e13-4873-9fe6-a530b07c3ffe button');\n",
              "          quickchartButtonEl.style.display =\n",
              "            google.colab.kernel.accessAllowed ? 'block' : 'none';\n",
              "        })();\n",
              "      </script>\n",
              "    </div>\n",
              "\n",
              "    </div>\n",
              "  </div>\n"
            ],
            "application/vnd.google.colaboratory.intrinsic+json": {
              "type": "dataframe",
              "variable_name": "df",
              "summary": "{\n  \"name\": \"df\",\n  \"rows\": 13501,\n  \"fields\": [\n    {\n      \"column\": \"Unnamed: 0\",\n      \"properties\": {\n        \"dtype\": \"number\",\n        \"std\": 3897,\n        \"min\": 0,\n        \"max\": 13500,\n        \"num_unique_values\": 13501,\n        \"samples\": [\n          13335,\n          4385,\n          1175\n        ],\n        \"semantic_type\": \"\",\n        \"description\": \"\"\n      }\n    },\n    {\n      \"column\": \"Title\",\n      \"properties\": {\n        \"dtype\": \"string\",\n        \"num_unique_values\": 13305,\n        \"samples\": [\n          \"Whole Grilled Fish with Lime\",\n          \"Espresso Chocolate Sable\\u0301s\",\n          \"Turkey Shawarma With Crunchy Vegetables\"\n        ],\n        \"semantic_type\": \"\",\n        \"description\": \"\"\n      }\n    },\n    {\n      \"column\": \"Ingredients\",\n      \"properties\": {\n        \"dtype\": \"string\",\n        \"num_unique_values\": 13473,\n        \"samples\": [\n          \"['2 cups packed torn kale leaves, stems removed', '1 cup packed fresh basil leaves', '1 teaspoon sea salt', '1/4 cup extra virgin olive oil', '1/4 cup toasted walnuts', '4 cloves garlic, chopped', '1/2 cup grated Parmesan cheese']\",\n          \"['1/4 cup thinly sliced peeled fresh ginger', '1/4 cup thinly sliced fresh lemongrass, cut from bottom 4 inches of 4 stalks with tough leaves removed', '1/4 cup fresh lime juice', '2 tablespoons fish sauce (such as nam pla or nuoc nam)*', '2 tablespoons water', '3 tablespoons sweet chili sauce*', '1/2 cup diced seeded peeled cucumber', '1/4 cup chopped green onions', '1/4 cup diced seeded plum tomato', '2 tablespoons chopped seeded jalape\\u00f1o chile', '1 tablespoon finely chopped fresh cilantro', '1 tablespoon finely chopped fresh mint', '1 tablespoon finely chopped fresh basil (preferably Vietnamese or Thai)', '1 14- to 16-ounce package firm tofu, drained, cut into 1/2-inch cubes, patted dry', '6 large or 12 medium butter lettuce leaves']\",\n          \"['1/4 cup dried unsweetened cranberries', '3 tablespoons unseasoned rice vinegar', '2 (1 1/2\\\"-thick) bone-in pork rib chops (about 1 pound each), patted dry', '4 tablespoons extra-virgin olive oil, divided', '3 sprigs thyme', '3 garlic cloves, smashed', '3 tablespoons unsalted butter, cut into pieces', '1 small shallot, finely chopped', '6 large or 8 medium celery stalks, thinly sliced on a diagonal', '1/2 cup parsley leaves with tender stems', '1/4 cup chopped salted, dry-roasted almonds', '1 ounce Parmesan, shaved', 'Kosher salt']\"\n        ],\n        \"semantic_type\": \"\",\n        \"description\": \"\"\n      }\n    },\n    {\n      \"column\": \"Instructions\",\n      \"properties\": {\n        \"dtype\": \"string\",\n        \"num_unique_values\": 13464,\n        \"samples\": [\n          \"Preheat oven to 350\\u00b0F. Mix first 5 ingredients in small bowl to blend. Set aside.\\nBrush oil over both sides of bread. Arrange bread in single layer on large baking sheet. Bake until bread is just crisp, about 5 minutes per side. (Cheese mixture and toasts can be made 2 days ahead. Cover cheese mixture and chill. Cool toasts; store airtight at room temperature.)\\nSpread cheese mixture over toasts. Top with salmon, trimming to fit. Garnish with lemon peel strips and tarragon sprigs. Arrange on platter and serve.\",\n          \"Line 9x5x3-inch metal loaf pan with plastic wrap, leaving generous overhang. Sprinkle almonds evenly over bottom of pan. Using electric mixer, beat whipping cream in large bowl until soft peaks form. Refrigerate whipped cream while making custard.\\nWhisk 1 1/4 cups sugar, egg yolks, lemon juice, lemon peel, and salt in large metal bowl to blend. Set bowl over large saucepan of simmering water and whisk constantly until yolk mixture is thick and fluffy and instant-read thermometer inserted into mixture registers 170\\u00b0F, about 4 minutes. Remove bowl from over simmering water. Using electric mixer, beat mixture until cool, thick, and doubled in volume, about 6 minutes. Fold in chilled whipped cream. Transfer mixture to prepared loaf pan and smooth top. Tap loaf pan lightly on work surface to remove air pockets. Fold plastic wrap overhang over top to cover. Freeze semifreddo until firm, at least 8 hours or overnight. DO AHEAD: Semifreddo can be made 3 days ahead. Keep frozen. Gently mix all berries and remaining 2 tablespoons sugar in large bowl. DO AHEAD: Can be made 3 hours ahead. Cover and refrigerate.\\nUnfold plastic wrap from top of semifreddo and invert dessert onto platter; remove plastic wrap. Dip heavy large knife into hot water; cut semifreddo crosswise into 1-inch-thick slices. Transfer to plates; spoon berries alongside and serve.\",\n          \"Rub steak with 2 tablespoons oil; season generously with salt and pepper. Let sit at room temperature 30 minutes.\\nPrepare a grill for medium-high heat; oil grill grate. Grill steak to desired doneness, 5\\u20137 minutes per side for medium-rare. Let rest 5 minutes before slicing against the grain.\\nMeanwhile, toss parsley, Parmesan, lemon juice, and remaining 1 tablespoon oil in a medium bowl; season with salt, pepper, and more lemon juice, if desired. Serve steak topped with parsley-Parmesan salad.\"\n        ],\n        \"semantic_type\": \"\",\n        \"description\": \"\"\n      }\n    },\n    {\n      \"column\": \"Image_Name\",\n      \"properties\": {\n        \"dtype\": \"string\",\n        \"num_unique_values\": 13472,\n        \"samples\": [\n          \"bibb-lettuce-salad-231346\",\n          \"grilled-pork-tenderloin-with-cherry-salsa-365469\",\n          \"pork-chops-with-celery-and-almond-salad\"\n        ],\n        \"semantic_type\": \"\",\n        \"description\": \"\"\n      }\n    },\n    {\n      \"column\": \"Cleaned_Ingredients\",\n      \"properties\": {\n        \"dtype\": \"string\",\n        \"num_unique_values\": 13473,\n        \"samples\": [\n          \"['2 cups packed torn kale leaves, stems removed', '1 cup packed fresh basil leaves', '1 teaspoon sea salt', '1/4 cup extra virgin olive oil', '1/4 cup toasted walnuts', '4 cloves garlic, chopped', '1/2 cup grated Parmesan cheese']\",\n          \"['1/4 cup thinly sliced peeled fresh ginger', '1/4 cup thinly sliced fresh lemongrass, cut from bottom 4 inches of 4 stalks with tough leaves removed', '1/4 cup fresh lime juice', '2 tablespoons fish sauce (such as nam pla or nuoc nam)*', '2 tablespoons water', '3 tablespoons sweet chili sauce*', '1/2 cup diced seeded peeled cucumber', '1/4 cup chopped green onions', '1/4 cup diced seeded plum tomato', '2 tablespoons chopped seeded jalape\\u00f1o chile', '1 tablespoon finely chopped fresh cilantro', '1 tablespoon finely chopped fresh mint', '1 tablespoon finely chopped fresh basil (preferably Vietnamese or Thai)', '1 14- to 16-ounce package firm tofu, drained, cut into 1/2-inch cubes, patted dry', '6 large or 12 medium butter lettuce leaves']\",\n          \"['1/4 cup dried unsweetened cranberries', '3 tablespoons unseasoned rice vinegar', '2 (1 1/2\\\"-thick) bone-in pork rib chops (about 1 pound each), patted dry', '4 tablespoons extra-virgin olive oil, divided', '3 sprigs thyme', '3 garlic cloves, smashed', '3 tablespoons unsalted butter, cut into pieces', '1 small shallot, finely chopped', '6 large or 8 medium celery stalks, thinly sliced on a diagonal', '1/2 cup parsley leaves with tender stems', '1/4 cup chopped salted, dry-roasted almonds', '1 ounce Parmesan, shaved', 'Kosher salt']\"\n        ],\n        \"semantic_type\": \"\",\n        \"description\": \"\"\n      }\n    }\n  ]\n}"
            }
          },
          "metadata": {},
          "execution_count": 1
        }
      ]
    },
    {
      "cell_type": "code",
      "source": [
        "df['Cleaned_Ingredients'][0]"
      ],
      "metadata": {
        "colab": {
          "base_uri": "https://localhost:8080/",
          "height": 122
        },
        "id": "o7HhYhzoxdlm",
        "outputId": "7dbe0af9-ddbc-4bbf-dbd8-20ee46dd6afb"
      },
      "execution_count": 2,
      "outputs": [
        {
          "output_type": "execute_result",
          "data": {
            "text/plain": [
              "'[\\'1 (3½–4-lb.) whole chicken\\', \\'2¾ tsp. kosher salt, divided, plus more\\', \\'2 small acorn squash (about 3 lb. total)\\', \\'2 Tbsp. finely chopped sage\\', \\'1 Tbsp. finely chopped rosemary\\', \\'6 Tbsp. unsalted butter, melted, plus 3 Tbsp. room temperature\\', \\'¼ tsp. ground allspice\\', \\'Pinch of crushed red pepper flakes\\', \\'Freshly ground black pepper\\', \\'⅓ loaf good-quality sturdy white bread, torn into 1\" pieces (about 2½ cups)\\', \\'2 medium apples (such as Gala or Pink Lady; about 14 oz. total), cored, cut into 1\" pieces\\', \\'2 Tbsp. extra-virgin olive oil\\', \\'½ small red onion, thinly sliced\\', \\'3 Tbsp. apple cider vinegar\\', \\'1 Tbsp. white miso\\', \\'¼ cup all-purpose flour\\', \\'2 Tbsp. unsalted butter, room temperature\\', \\'¼ cup dry white wine\\', \\'2 cups unsalted chicken broth\\', \\'2 tsp. white miso\\', \\'Kosher salt\\', \\'freshly ground pepper\\']'"
            ],
            "application/vnd.google.colaboratory.intrinsic+json": {
              "type": "string"
            }
          },
          "metadata": {},
          "execution_count": 2
        }
      ]
    },
    {
      "cell_type": "markdown",
      "source": [
        "## Data Cleaning"
      ],
      "metadata": {
        "id": "0kxJibIw4kP6"
      }
    },
    {
      "cell_type": "code",
      "source": [
        "import re\n",
        "import ast\n",
        "\n",
        "stoplist = {\n",
        "    'tsp', 'teaspoon', 'tbsp', 'tablespoon', 'cup', 'cups', 'oz', 'lb', 'pound', 'pounds', 'inch', 'inches', 'pinch',\n",
        "    'loaf', 'piece', 'pieces', 'sprig', 'sprigs', 'clove', 'cloves', 'head', 'heads', 'bunch', 'bunches', 'can', 'cans',\n",
        "    'jar', 'jars', 'package', 'packages', 'bottle', 'bottles', 'slice', 'slices', 'strip', 'strips', 'sheet', 'sheets',\n",
        "    'block', 'blocks', 'stick', 'sticks', 'cube', 'cubes', 'dash', 'drop', 'drops', 'handful', 'handfuls', 'scoop',\n",
        "    'scoops', 'splash', 'splashes', 'wedge', 'wedges', 'zest', 'zests', 'grated', 'minced', 'chopped', 'sliced', 'diced',\n",
        "    'peeled', 'seeded', 'halved', 'quartered', 'crushed', 'ground', 'freshly', 'divided', 'plus', 'more', 'room',\n",
        "    'temperature', 'optional', 'for', 'serving', 'to', 'taste', 'small', 'medium', 'large', 'whole', 'bone-in', 'skinless',\n",
        "    'boneless', 'skin-on', 'fresh', 'dried', 'canned', 'storebought', 'homemade', 'about', 'lightly', 'packed', 'coarsely',\n",
        "    'finely', 'thinly', 'thickly', 'preferably', 'such', 'as', 'like', 'e.g.', 'i.e.', 'or', 'and', 'with', 'without',\n",
        "    'including', 'excluding', 'total', 'approx', 'approximately', 'etc', 'of', 'into', 'cut', 'torn', 'melted', 'cored',\n",
        "    'seeded', 'peeled', 'drained', 'rinsed', 'trimmed', 'scrubbed', 'halved', 'quartered', 'sliced', 'diced', 'chopped',\n",
        "    'minced', 'grated', 'crushed', 'ground', 'freshly', 'stems', 'removed','-inch','-qt','flat-leaf','round', 'Italian','teaspoons',\n",
        "    'tablespoon', 'sage','ozg','lbg','in','allspice','cupg','cupskg','cupsml','cupml','tbspml', 'any', 'combination','fruit',\n",
        "    'Zatarains', 'recipe', 'ounces', '-ounce', 'ounce'\n",
        "}\n",
        "\n",
        "all_items = set()\n",
        "\n",
        "# Function to check if a word is a number, fraction, or single character\n",
        "def is_number_fraction_or_single_char(word):\n",
        "    # Check if word is a single character\n",
        "    if len(word) == 1:\n",
        "        return True\n",
        "    # Check if word is numeric\n",
        "    if word.isdigit():\n",
        "        return True\n",
        "    # Check if word contains fraction characters\n",
        "    if any(char in '½¾⅓⅔¼⅛' for char in word):\n",
        "        return True\n",
        "    return False\n",
        "\n",
        "# Function to clean a single ingredient string\n",
        "def clean_ingredient(ingredient):\n",
        "    # Remove brackets and their contents\n",
        "    ingredient = re.sub(r'\\[.*?\\]|\\(.*?\\)', '', ingredient)\n",
        "    # Remove all characters that are not letters, spaces, or hyphens\n",
        "    ingredient = re.sub(r'[^a-zA-Z\\s-]', '', ingredient)\n",
        "    # Split into words\n",
        "    words = ingredient.split()\n",
        "    # Filter out stop words, numbers, fractions, and single characters\n",
        "    filtered_words = [word for word in words if word.lower() not in stoplist and not is_number_fraction_or_single_char(word)]\n",
        "    # Join back into a string\n",
        "    cleaned = ' '.join(filtered_words)\n",
        "    # Return None if empty\n",
        "    return cleaned if cleaned else None\n",
        "\n",
        "# Function to process a list of ingredients\n",
        "def clean_ingredient_list(ingredient_list):\n",
        "    # If input is a string, safely evaluate it to a list\n",
        "    if isinstance(ingredient_list, str):\n",
        "        try:\n",
        "            ingredient_list = ast.literal_eval(ingredient_list)\n",
        "        except (ValueError, SyntaxError):\n",
        "            return []\n",
        "    # Clean each ingredient and filter out None values\n",
        "    items = [cleaned for cleaned in (clean_ingredient(ing) for ing in ingredient_list) if cleaned]\n",
        "    all_items.update(items)\n",
        "    # Return a comma-separated string\n",
        "    return \",\".join(items)\n",
        "\n",
        "\n",
        "data = df['Cleaned_Ingredients'][200].split(\", \")\n",
        "cleaned = clean_ingredient_list(data)\n",
        "\n",
        "cleaned\n"
      ],
      "metadata": {
        "colab": {
          "base_uri": "https://localhost:8080/",
          "height": 0
        },
        "id": "oLW8SiQrxijQ",
        "outputId": "646da319-7c9b-4801-a978-48fe9b0a5ec7"
      },
      "execution_count": 3,
      "outputs": [
        {
          "output_type": "execute_result",
          "data": {
            "text/plain": [
              "'sugar,water,watermelon,cantaloupe,pineapple,papaya,strawberries,oranges,peaches,mangoes,Ice,Lemon lime'"
            ],
            "application/vnd.google.colaboratory.intrinsic+json": {
              "type": "string"
            }
          },
          "metadata": {},
          "execution_count": 3
        }
      ]
    },
    {
      "cell_type": "code",
      "source": [
        "df['Cleaned_Item_Names'] = df['Cleaned_Ingredients'].apply(clean_ingredient_list)"
      ],
      "metadata": {
        "id": "TVPcXaV9yCKT"
      },
      "execution_count": 4,
      "outputs": []
    },
    {
      "cell_type": "code",
      "source": [
        "df.drop([\"Cleaned_Ingredients\",\"Unnamed: 0\"], axis=1, inplace=True)"
      ],
      "metadata": {
        "id": "puH0m9cu41xN"
      },
      "execution_count": 5,
      "outputs": []
    },
    {
      "cell_type": "code",
      "source": [
        "df.drop_duplicates(inplace=True)\n",
        "df.dropna(inplace=True)"
      ],
      "metadata": {
        "id": "dd4KWIi45Unj"
      },
      "execution_count": 6,
      "outputs": []
    },
    {
      "cell_type": "code",
      "source": [
        "df.head()"
      ],
      "metadata": {
        "colab": {
          "base_uri": "https://localhost:8080/",
          "height": 0
        },
        "id": "Qi5TuyqA4uu4",
        "outputId": "f9fd822a-c293-4b96-a701-930cc60b2e18"
      },
      "execution_count": 7,
      "outputs": [
        {
          "output_type": "execute_result",
          "data": {
            "text/plain": [
              "                                               Title  \\\n",
              "0  Miso-Butter Roast Chicken With Acorn Squash Pa...   \n",
              "1                    Crispy Salt and Pepper Potatoes   \n",
              "2                        Thanksgiving Mac and Cheese   \n",
              "3                 Italian Sausage and Bread Stuffing   \n",
              "4                                       Newton's Law   \n",
              "\n",
              "                                         Ingredients  \\\n",
              "0  ['1 (3½–4-lb.) whole chicken', '2¾ tsp. kosher...   \n",
              "1  ['2 large egg whites', '1 pound new potatoes (...   \n",
              "2  ['1 cup evaporated milk', '1 cup whole milk', ...   \n",
              "3  ['1 (¾- to 1-pound) round Italian loaf, cut in...   \n",
              "4  ['1 teaspoon dark brown sugar', '1 teaspoon ho...   \n",
              "\n",
              "                                        Instructions  \\\n",
              "0  Pat chicken dry with paper towels, season all ...   \n",
              "1  Preheat oven to 400°F and line a rimmed baking...   \n",
              "2  Place a rack in middle of oven; preheat to 400...   \n",
              "3  Preheat oven to 350°F with rack in middle. Gen...   \n",
              "4  Stir together brown sugar and hot water in a c...   \n",
              "\n",
              "                                          Image_Name  \\\n",
              "0  miso-butter-roast-chicken-acorn-squash-panzanella   \n",
              "1         crispy-salt-and-pepper-potatoes-dan-kluger   \n",
              "2         thanksgiving-mac-and-cheese-erick-williams   \n",
              "3          italian-sausage-and-bread-stuffing-240559   \n",
              "4                 newtons-law-apple-bourbon-cocktail   \n",
              "\n",
              "                                  Cleaned_Item_Names  \n",
              "0  chicken,kosher salt,acorn squash,rosemary,unsa...  \n",
              "1  egg whites,new potatoes,kosher salt,black pepp...  \n",
              "2  evaporated milk,milk,garlic powder,onion powde...  \n",
              "3  Italian,tablespoons olive oil,sweet Italian sa...  \n",
              "4  dark brown sugar,hot water,bourbon,lemon juice...  "
            ],
            "text/html": [
              "\n",
              "  <div id=\"df-a3f59e3b-ba14-4df6-a649-c4b7fe41e3f2\" class=\"colab-df-container\">\n",
              "    <div>\n",
              "<style scoped>\n",
              "    .dataframe tbody tr th:only-of-type {\n",
              "        vertical-align: middle;\n",
              "    }\n",
              "\n",
              "    .dataframe tbody tr th {\n",
              "        vertical-align: top;\n",
              "    }\n",
              "\n",
              "    .dataframe thead th {\n",
              "        text-align: right;\n",
              "    }\n",
              "</style>\n",
              "<table border=\"1\" class=\"dataframe\">\n",
              "  <thead>\n",
              "    <tr style=\"text-align: right;\">\n",
              "      <th></th>\n",
              "      <th>Title</th>\n",
              "      <th>Ingredients</th>\n",
              "      <th>Instructions</th>\n",
              "      <th>Image_Name</th>\n",
              "      <th>Cleaned_Item_Names</th>\n",
              "    </tr>\n",
              "  </thead>\n",
              "  <tbody>\n",
              "    <tr>\n",
              "      <th>0</th>\n",
              "      <td>Miso-Butter Roast Chicken With Acorn Squash Pa...</td>\n",
              "      <td>['1 (3½–4-lb.) whole chicken', '2¾ tsp. kosher...</td>\n",
              "      <td>Pat chicken dry with paper towels, season all ...</td>\n",
              "      <td>miso-butter-roast-chicken-acorn-squash-panzanella</td>\n",
              "      <td>chicken,kosher salt,acorn squash,rosemary,unsa...</td>\n",
              "    </tr>\n",
              "    <tr>\n",
              "      <th>1</th>\n",
              "      <td>Crispy Salt and Pepper Potatoes</td>\n",
              "      <td>['2 large egg whites', '1 pound new potatoes (...</td>\n",
              "      <td>Preheat oven to 400°F and line a rimmed baking...</td>\n",
              "      <td>crispy-salt-and-pepper-potatoes-dan-kluger</td>\n",
              "      <td>egg whites,new potatoes,kosher salt,black pepp...</td>\n",
              "    </tr>\n",
              "    <tr>\n",
              "      <th>2</th>\n",
              "      <td>Thanksgiving Mac and Cheese</td>\n",
              "      <td>['1 cup evaporated milk', '1 cup whole milk', ...</td>\n",
              "      <td>Place a rack in middle of oven; preheat to 400...</td>\n",
              "      <td>thanksgiving-mac-and-cheese-erick-williams</td>\n",
              "      <td>evaporated milk,milk,garlic powder,onion powde...</td>\n",
              "    </tr>\n",
              "    <tr>\n",
              "      <th>3</th>\n",
              "      <td>Italian Sausage and Bread Stuffing</td>\n",
              "      <td>['1 (¾- to 1-pound) round Italian loaf, cut in...</td>\n",
              "      <td>Preheat oven to 350°F with rack in middle. Gen...</td>\n",
              "      <td>italian-sausage-and-bread-stuffing-240559</td>\n",
              "      <td>Italian,tablespoons olive oil,sweet Italian sa...</td>\n",
              "    </tr>\n",
              "    <tr>\n",
              "      <th>4</th>\n",
              "      <td>Newton's Law</td>\n",
              "      <td>['1 teaspoon dark brown sugar', '1 teaspoon ho...</td>\n",
              "      <td>Stir together brown sugar and hot water in a c...</td>\n",
              "      <td>newtons-law-apple-bourbon-cocktail</td>\n",
              "      <td>dark brown sugar,hot water,bourbon,lemon juice...</td>\n",
              "    </tr>\n",
              "  </tbody>\n",
              "</table>\n",
              "</div>\n",
              "    <div class=\"colab-df-buttons\">\n",
              "\n",
              "  <div class=\"colab-df-container\">\n",
              "    <button class=\"colab-df-convert\" onclick=\"convertToInteractive('df-a3f59e3b-ba14-4df6-a649-c4b7fe41e3f2')\"\n",
              "            title=\"Convert this dataframe to an interactive table.\"\n",
              "            style=\"display:none;\">\n",
              "\n",
              "  <svg xmlns=\"http://www.w3.org/2000/svg\" height=\"24px\" viewBox=\"0 -960 960 960\">\n",
              "    <path d=\"M120-120v-720h720v720H120Zm60-500h600v-160H180v160Zm220 220h160v-160H400v160Zm0 220h160v-160H400v160ZM180-400h160v-160H180v160Zm440 0h160v-160H620v160ZM180-180h160v-160H180v160Zm440 0h160v-160H620v160Z\"/>\n",
              "  </svg>\n",
              "    </button>\n",
              "\n",
              "  <style>\n",
              "    .colab-df-container {\n",
              "      display:flex;\n",
              "      gap: 12px;\n",
              "    }\n",
              "\n",
              "    .colab-df-convert {\n",
              "      background-color: #E8F0FE;\n",
              "      border: none;\n",
              "      border-radius: 50%;\n",
              "      cursor: pointer;\n",
              "      display: none;\n",
              "      fill: #1967D2;\n",
              "      height: 32px;\n",
              "      padding: 0 0 0 0;\n",
              "      width: 32px;\n",
              "    }\n",
              "\n",
              "    .colab-df-convert:hover {\n",
              "      background-color: #E2EBFA;\n",
              "      box-shadow: 0px 1px 2px rgba(60, 64, 67, 0.3), 0px 1px 3px 1px rgba(60, 64, 67, 0.15);\n",
              "      fill: #174EA6;\n",
              "    }\n",
              "\n",
              "    .colab-df-buttons div {\n",
              "      margin-bottom: 4px;\n",
              "    }\n",
              "\n",
              "    [theme=dark] .colab-df-convert {\n",
              "      background-color: #3B4455;\n",
              "      fill: #D2E3FC;\n",
              "    }\n",
              "\n",
              "    [theme=dark] .colab-df-convert:hover {\n",
              "      background-color: #434B5C;\n",
              "      box-shadow: 0px 1px 3px 1px rgba(0, 0, 0, 0.15);\n",
              "      filter: drop-shadow(0px 1px 2px rgba(0, 0, 0, 0.3));\n",
              "      fill: #FFFFFF;\n",
              "    }\n",
              "  </style>\n",
              "\n",
              "    <script>\n",
              "      const buttonEl =\n",
              "        document.querySelector('#df-a3f59e3b-ba14-4df6-a649-c4b7fe41e3f2 button.colab-df-convert');\n",
              "      buttonEl.style.display =\n",
              "        google.colab.kernel.accessAllowed ? 'block' : 'none';\n",
              "\n",
              "      async function convertToInteractive(key) {\n",
              "        const element = document.querySelector('#df-a3f59e3b-ba14-4df6-a649-c4b7fe41e3f2');\n",
              "        const dataTable =\n",
              "          await google.colab.kernel.invokeFunction('convertToInteractive',\n",
              "                                                    [key], {});\n",
              "        if (!dataTable) return;\n",
              "\n",
              "        const docLinkHtml = 'Like what you see? Visit the ' +\n",
              "          '<a target=\"_blank\" href=https://colab.research.google.com/notebooks/data_table.ipynb>data table notebook</a>'\n",
              "          + ' to learn more about interactive tables.';\n",
              "        element.innerHTML = '';\n",
              "        dataTable['output_type'] = 'display_data';\n",
              "        await google.colab.output.renderOutput(dataTable, element);\n",
              "        const docLink = document.createElement('div');\n",
              "        docLink.innerHTML = docLinkHtml;\n",
              "        element.appendChild(docLink);\n",
              "      }\n",
              "    </script>\n",
              "  </div>\n",
              "\n",
              "\n",
              "    <div id=\"df-7298ac3c-238e-4be5-891a-7c4f7fa4234b\">\n",
              "      <button class=\"colab-df-quickchart\" onclick=\"quickchart('df-7298ac3c-238e-4be5-891a-7c4f7fa4234b')\"\n",
              "                title=\"Suggest charts\"\n",
              "                style=\"display:none;\">\n",
              "\n",
              "<svg xmlns=\"http://www.w3.org/2000/svg\" height=\"24px\"viewBox=\"0 0 24 24\"\n",
              "     width=\"24px\">\n",
              "    <g>\n",
              "        <path d=\"M19 3H5c-1.1 0-2 .9-2 2v14c0 1.1.9 2 2 2h14c1.1 0 2-.9 2-2V5c0-1.1-.9-2-2-2zM9 17H7v-7h2v7zm4 0h-2V7h2v10zm4 0h-2v-4h2v4z\"/>\n",
              "    </g>\n",
              "</svg>\n",
              "      </button>\n",
              "\n",
              "<style>\n",
              "  .colab-df-quickchart {\n",
              "      --bg-color: #E8F0FE;\n",
              "      --fill-color: #1967D2;\n",
              "      --hover-bg-color: #E2EBFA;\n",
              "      --hover-fill-color: #174EA6;\n",
              "      --disabled-fill-color: #AAA;\n",
              "      --disabled-bg-color: #DDD;\n",
              "  }\n",
              "\n",
              "  [theme=dark] .colab-df-quickchart {\n",
              "      --bg-color: #3B4455;\n",
              "      --fill-color: #D2E3FC;\n",
              "      --hover-bg-color: #434B5C;\n",
              "      --hover-fill-color: #FFFFFF;\n",
              "      --disabled-bg-color: #3B4455;\n",
              "      --disabled-fill-color: #666;\n",
              "  }\n",
              "\n",
              "  .colab-df-quickchart {\n",
              "    background-color: var(--bg-color);\n",
              "    border: none;\n",
              "    border-radius: 50%;\n",
              "    cursor: pointer;\n",
              "    display: none;\n",
              "    fill: var(--fill-color);\n",
              "    height: 32px;\n",
              "    padding: 0;\n",
              "    width: 32px;\n",
              "  }\n",
              "\n",
              "  .colab-df-quickchart:hover {\n",
              "    background-color: var(--hover-bg-color);\n",
              "    box-shadow: 0 1px 2px rgba(60, 64, 67, 0.3), 0 1px 3px 1px rgba(60, 64, 67, 0.15);\n",
              "    fill: var(--button-hover-fill-color);\n",
              "  }\n",
              "\n",
              "  .colab-df-quickchart-complete:disabled,\n",
              "  .colab-df-quickchart-complete:disabled:hover {\n",
              "    background-color: var(--disabled-bg-color);\n",
              "    fill: var(--disabled-fill-color);\n",
              "    box-shadow: none;\n",
              "  }\n",
              "\n",
              "  .colab-df-spinner {\n",
              "    border: 2px solid var(--fill-color);\n",
              "    border-color: transparent;\n",
              "    border-bottom-color: var(--fill-color);\n",
              "    animation:\n",
              "      spin 1s steps(1) infinite;\n",
              "  }\n",
              "\n",
              "  @keyframes spin {\n",
              "    0% {\n",
              "      border-color: transparent;\n",
              "      border-bottom-color: var(--fill-color);\n",
              "      border-left-color: var(--fill-color);\n",
              "    }\n",
              "    20% {\n",
              "      border-color: transparent;\n",
              "      border-left-color: var(--fill-color);\n",
              "      border-top-color: var(--fill-color);\n",
              "    }\n",
              "    30% {\n",
              "      border-color: transparent;\n",
              "      border-left-color: var(--fill-color);\n",
              "      border-top-color: var(--fill-color);\n",
              "      border-right-color: var(--fill-color);\n",
              "    }\n",
              "    40% {\n",
              "      border-color: transparent;\n",
              "      border-right-color: var(--fill-color);\n",
              "      border-top-color: var(--fill-color);\n",
              "    }\n",
              "    60% {\n",
              "      border-color: transparent;\n",
              "      border-right-color: var(--fill-color);\n",
              "    }\n",
              "    80% {\n",
              "      border-color: transparent;\n",
              "      border-right-color: var(--fill-color);\n",
              "      border-bottom-color: var(--fill-color);\n",
              "    }\n",
              "    90% {\n",
              "      border-color: transparent;\n",
              "      border-bottom-color: var(--fill-color);\n",
              "    }\n",
              "  }\n",
              "</style>\n",
              "\n",
              "      <script>\n",
              "        async function quickchart(key) {\n",
              "          const quickchartButtonEl =\n",
              "            document.querySelector('#' + key + ' button');\n",
              "          quickchartButtonEl.disabled = true;  // To prevent multiple clicks.\n",
              "          quickchartButtonEl.classList.add('colab-df-spinner');\n",
              "          try {\n",
              "            const charts = await google.colab.kernel.invokeFunction(\n",
              "                'suggestCharts', [key], {});\n",
              "          } catch (error) {\n",
              "            console.error('Error during call to suggestCharts:', error);\n",
              "          }\n",
              "          quickchartButtonEl.classList.remove('colab-df-spinner');\n",
              "          quickchartButtonEl.classList.add('colab-df-quickchart-complete');\n",
              "        }\n",
              "        (() => {\n",
              "          let quickchartButtonEl =\n",
              "            document.querySelector('#df-7298ac3c-238e-4be5-891a-7c4f7fa4234b button');\n",
              "          quickchartButtonEl.style.display =\n",
              "            google.colab.kernel.accessAllowed ? 'block' : 'none';\n",
              "        })();\n",
              "      </script>\n",
              "    </div>\n",
              "\n",
              "    </div>\n",
              "  </div>\n"
            ],
            "application/vnd.google.colaboratory.intrinsic+json": {
              "type": "dataframe",
              "variable_name": "df",
              "summary": "{\n  \"name\": \"df\",\n  \"rows\": 13493,\n  \"fields\": [\n    {\n      \"column\": \"Title\",\n      \"properties\": {\n        \"dtype\": \"string\",\n        \"num_unique_values\": 13302,\n        \"samples\": [\n          \"Chayote and Hearts-of-Palm Salad\",\n          \"Espresso Chocolate Sable\\u0301s\",\n          \"Turkey Shawarma With Crunchy Vegetables\"\n        ],\n        \"semantic_type\": \"\",\n        \"description\": \"\"\n      }\n    },\n    {\n      \"column\": \"Ingredients\",\n      \"properties\": {\n        \"dtype\": \"string\",\n        \"num_unique_values\": 13471,\n        \"samples\": [\n          \"['1/2 cup fresh cilantro leaves with tender stems', '1/2 cup fresh flat-leaf parsley leaves with tender stems', '1 garlic clove, chopped', '2 small green chiles, such as Thai, seeds removed, chopped, divided', '1/2 cup olive oil, divided', '3/4 teaspoon kosher salt, plus more', '3/4 cup plain whole-milk Greek yogurt', '1 tablespoon fresh lemon juice', '2 medium eggplants (about 1 1/2 pounds), cut into 1 1/2\\\" pieces', 'Vegetable oil (for frying; about 2 cups)', '1 pound small tomatoes (about 8), cut into wedges', '1/2 pound Persian cucumbers (about 3), sliced', 'A deep-fry thermometer']\",\n          \"['1 cup (2 sticks) chilled salted butter, cut into pieces', '3/4 cup granulated sugar', '1 vanilla bean, split lengthwise', '2 large eggs', '2 cups all-purpose flour, plus more', '1 cup white sanding sugar', 'A 3\\\"-diameter and a 1 1/2\\\"-diameter fluted cookie cutter']\",\n          \"['1 package (1/4 ounce) active dry yeast', '1 1/4 cups warm milk', '1 cup sugar', '1 cup (2 sticks) unsalted butter, melted and cooled, plus more for brushing', '3 large egg yolks', '1 teaspoon salt', '3 1/2 cups all-purpose flour, plus more for dusting', '2 tablespoons ground cinnamon']\"\n        ],\n        \"semantic_type\": \"\",\n        \"description\": \"\"\n      }\n    },\n    {\n      \"column\": \"Instructions\",\n      \"properties\": {\n        \"dtype\": \"string\",\n        \"num_unique_values\": 13464,\n        \"samples\": [\n          \"Preheat oven to 350\\u00b0F. Mix first 5 ingredients in small bowl to blend. Set aside.\\nBrush oil over both sides of bread. Arrange bread in single layer on large baking sheet. Bake until bread is just crisp, about 5 minutes per side. (Cheese mixture and toasts can be made 2 days ahead. Cover cheese mixture and chill. Cool toasts; store airtight at room temperature.)\\nSpread cheese mixture over toasts. Top with salmon, trimming to fit. Garnish with lemon peel strips and tarragon sprigs. Arrange on platter and serve.\",\n          \"Line 9x5x3-inch metal loaf pan with plastic wrap, leaving generous overhang. Sprinkle almonds evenly over bottom of pan. Using electric mixer, beat whipping cream in large bowl until soft peaks form. Refrigerate whipped cream while making custard.\\nWhisk 1 1/4 cups sugar, egg yolks, lemon juice, lemon peel, and salt in large metal bowl to blend. Set bowl over large saucepan of simmering water and whisk constantly until yolk mixture is thick and fluffy and instant-read thermometer inserted into mixture registers 170\\u00b0F, about 4 minutes. Remove bowl from over simmering water. Using electric mixer, beat mixture until cool, thick, and doubled in volume, about 6 minutes. Fold in chilled whipped cream. Transfer mixture to prepared loaf pan and smooth top. Tap loaf pan lightly on work surface to remove air pockets. Fold plastic wrap overhang over top to cover. Freeze semifreddo until firm, at least 8 hours or overnight. DO AHEAD: Semifreddo can be made 3 days ahead. Keep frozen. Gently mix all berries and remaining 2 tablespoons sugar in large bowl. DO AHEAD: Can be made 3 hours ahead. Cover and refrigerate.\\nUnfold plastic wrap from top of semifreddo and invert dessert onto platter; remove plastic wrap. Dip heavy large knife into hot water; cut semifreddo crosswise into 1-inch-thick slices. Transfer to plates; spoon berries alongside and serve.\",\n          \"Rub steak with 2 tablespoons oil; season generously with salt and pepper. Let sit at room temperature 30 minutes.\\nPrepare a grill for medium-high heat; oil grill grate. Grill steak to desired doneness, 5\\u20137 minutes per side for medium-rare. Let rest 5 minutes before slicing against the grain.\\nMeanwhile, toss parsley, Parmesan, lemon juice, and remaining 1 tablespoon oil in a medium bowl; season with salt, pepper, and more lemon juice, if desired. Serve steak topped with parsley-Parmesan salad.\"\n        ],\n        \"semantic_type\": \"\",\n        \"description\": \"\"\n      }\n    },\n    {\n      \"column\": \"Image_Name\",\n      \"properties\": {\n        \"dtype\": \"string\",\n        \"num_unique_values\": 13464,\n        \"samples\": [\n          \"smoked-salmon-fennel-and-goat-cheese-toasts-102632\",\n          \"roasted-cod-on-large-garlic-croutons-242490\",\n          \"skillet-bruschetta-with-beans-and-greens-51234250\"\n        ],\n        \"semantic_type\": \"\",\n        \"description\": \"\"\n      }\n    },\n    {\n      \"column\": \"Cleaned_Item_Names\",\n      \"properties\": {\n        \"dtype\": \"string\",\n        \"num_unique_values\": 13466,\n        \"samples\": [\n          \"lemon juice,tablespoons Dijon mustard,tablespoons dill,tablespoons honey,garlic,extra-virgin olive oil,Kosher salt black pepper,Perfect Pan-Roasted Chicken Thighs fat from pan reserved,thick rustic bread crusts,cherries stemmed pitted,butter lettuce,radishes,chives\",\n          \"cleaned squid bodies tentacles separated,baby arugula,cherry tomatoes,cooked white beans,extra-virgin olive oil,tablespoons lemon juice\",\n          \"cumin seeds,sunflower other neutral oil,black brown mustard seeds,Persian cucumbers,plain whole-milk Greek yogurt,lemon juice,garlic,cilantro,Kosher salt,Kashmiri chili powder paprika\"\n        ],\n        \"semantic_type\": \"\",\n        \"description\": \"\"\n      }\n    }\n  ]\n}"
            }
          },
          "metadata": {},
          "execution_count": 7
        }
      ]
    },
    {
      "cell_type": "code",
      "source": [
        "all_items_list = list(all_items)\n",
        "all_items_list[:10]"
      ],
      "metadata": {
        "colab": {
          "base_uri": "https://localhost:8080/"
        },
        "id": "NA06ZN034v9e",
        "outputId": "72dc5819-9b98-4d0c-dbc1-90cb6c0b3a2f"
      },
      "execution_count": 8,
      "outputs": [
        {
          "output_type": "execute_result",
          "data": {
            "text/plain": [
              "['creamy peanut butter',\n",
              " 'sweetened whipped cream',\n",
              " 'Bosc pears -inch-thick',\n",
              " 'bacon squares',\n",
              " '-inch-diameter golden beets healthy greens beets each greens -inch-wide',\n",
              " 'peppermint extract',\n",
              " '-pound beef tenderloin well',\n",
              " '-pound chickens lengthwise patted dry',\n",
              " 'thick piquillo peppers roasted red peppers from',\n",
              " 'hardwood chips']"
            ]
          },
          "metadata": {},
          "execution_count": 8
        }
      ]
    },
    {
      "cell_type": "markdown",
      "source": [
        "## Data Preprocessing"
      ],
      "metadata": {
        "id": "sm3M5kMB8XAe"
      }
    },
    {
      "cell_type": "code",
      "source": [
        "df['ID'] = range(0, len(df))"
      ],
      "metadata": {
        "id": "8CiJo92e_GVL"
      },
      "execution_count": 9,
      "outputs": []
    },
    {
      "cell_type": "code",
      "source": [
        "df.head()"
      ],
      "metadata": {
        "colab": {
          "base_uri": "https://localhost:8080/",
          "height": 293
        },
        "id": "Jl5hCavh_Imz",
        "outputId": "e0293ea2-4bb1-4d76-c32c-69b018de81eb"
      },
      "execution_count": 10,
      "outputs": [
        {
          "output_type": "execute_result",
          "data": {
            "text/plain": [
              "                                               Title  \\\n",
              "0  Miso-Butter Roast Chicken With Acorn Squash Pa...   \n",
              "1                    Crispy Salt and Pepper Potatoes   \n",
              "2                        Thanksgiving Mac and Cheese   \n",
              "3                 Italian Sausage and Bread Stuffing   \n",
              "4                                       Newton's Law   \n",
              "\n",
              "                                         Ingredients  \\\n",
              "0  ['1 (3½–4-lb.) whole chicken', '2¾ tsp. kosher...   \n",
              "1  ['2 large egg whites', '1 pound new potatoes (...   \n",
              "2  ['1 cup evaporated milk', '1 cup whole milk', ...   \n",
              "3  ['1 (¾- to 1-pound) round Italian loaf, cut in...   \n",
              "4  ['1 teaspoon dark brown sugar', '1 teaspoon ho...   \n",
              "\n",
              "                                        Instructions  \\\n",
              "0  Pat chicken dry with paper towels, season all ...   \n",
              "1  Preheat oven to 400°F and line a rimmed baking...   \n",
              "2  Place a rack in middle of oven; preheat to 400...   \n",
              "3  Preheat oven to 350°F with rack in middle. Gen...   \n",
              "4  Stir together brown sugar and hot water in a c...   \n",
              "\n",
              "                                          Image_Name  \\\n",
              "0  miso-butter-roast-chicken-acorn-squash-panzanella   \n",
              "1         crispy-salt-and-pepper-potatoes-dan-kluger   \n",
              "2         thanksgiving-mac-and-cheese-erick-williams   \n",
              "3          italian-sausage-and-bread-stuffing-240559   \n",
              "4                 newtons-law-apple-bourbon-cocktail   \n",
              "\n",
              "                                  Cleaned_Item_Names  ID  \n",
              "0  chicken,kosher salt,acorn squash,rosemary,unsa...   0  \n",
              "1  egg whites,new potatoes,kosher salt,black pepp...   1  \n",
              "2  evaporated milk,milk,garlic powder,onion powde...   2  \n",
              "3  Italian,tablespoons olive oil,sweet Italian sa...   3  \n",
              "4  dark brown sugar,hot water,bourbon,lemon juice...   4  "
            ],
            "text/html": [
              "\n",
              "  <div id=\"df-6199f563-3452-440f-9e34-58b3fca60fe4\" class=\"colab-df-container\">\n",
              "    <div>\n",
              "<style scoped>\n",
              "    .dataframe tbody tr th:only-of-type {\n",
              "        vertical-align: middle;\n",
              "    }\n",
              "\n",
              "    .dataframe tbody tr th {\n",
              "        vertical-align: top;\n",
              "    }\n",
              "\n",
              "    .dataframe thead th {\n",
              "        text-align: right;\n",
              "    }\n",
              "</style>\n",
              "<table border=\"1\" class=\"dataframe\">\n",
              "  <thead>\n",
              "    <tr style=\"text-align: right;\">\n",
              "      <th></th>\n",
              "      <th>Title</th>\n",
              "      <th>Ingredients</th>\n",
              "      <th>Instructions</th>\n",
              "      <th>Image_Name</th>\n",
              "      <th>Cleaned_Item_Names</th>\n",
              "      <th>ID</th>\n",
              "    </tr>\n",
              "  </thead>\n",
              "  <tbody>\n",
              "    <tr>\n",
              "      <th>0</th>\n",
              "      <td>Miso-Butter Roast Chicken With Acorn Squash Pa...</td>\n",
              "      <td>['1 (3½–4-lb.) whole chicken', '2¾ tsp. kosher...</td>\n",
              "      <td>Pat chicken dry with paper towels, season all ...</td>\n",
              "      <td>miso-butter-roast-chicken-acorn-squash-panzanella</td>\n",
              "      <td>chicken,kosher salt,acorn squash,rosemary,unsa...</td>\n",
              "      <td>0</td>\n",
              "    </tr>\n",
              "    <tr>\n",
              "      <th>1</th>\n",
              "      <td>Crispy Salt and Pepper Potatoes</td>\n",
              "      <td>['2 large egg whites', '1 pound new potatoes (...</td>\n",
              "      <td>Preheat oven to 400°F and line a rimmed baking...</td>\n",
              "      <td>crispy-salt-and-pepper-potatoes-dan-kluger</td>\n",
              "      <td>egg whites,new potatoes,kosher salt,black pepp...</td>\n",
              "      <td>1</td>\n",
              "    </tr>\n",
              "    <tr>\n",
              "      <th>2</th>\n",
              "      <td>Thanksgiving Mac and Cheese</td>\n",
              "      <td>['1 cup evaporated milk', '1 cup whole milk', ...</td>\n",
              "      <td>Place a rack in middle of oven; preheat to 400...</td>\n",
              "      <td>thanksgiving-mac-and-cheese-erick-williams</td>\n",
              "      <td>evaporated milk,milk,garlic powder,onion powde...</td>\n",
              "      <td>2</td>\n",
              "    </tr>\n",
              "    <tr>\n",
              "      <th>3</th>\n",
              "      <td>Italian Sausage and Bread Stuffing</td>\n",
              "      <td>['1 (¾- to 1-pound) round Italian loaf, cut in...</td>\n",
              "      <td>Preheat oven to 350°F with rack in middle. Gen...</td>\n",
              "      <td>italian-sausage-and-bread-stuffing-240559</td>\n",
              "      <td>Italian,tablespoons olive oil,sweet Italian sa...</td>\n",
              "      <td>3</td>\n",
              "    </tr>\n",
              "    <tr>\n",
              "      <th>4</th>\n",
              "      <td>Newton's Law</td>\n",
              "      <td>['1 teaspoon dark brown sugar', '1 teaspoon ho...</td>\n",
              "      <td>Stir together brown sugar and hot water in a c...</td>\n",
              "      <td>newtons-law-apple-bourbon-cocktail</td>\n",
              "      <td>dark brown sugar,hot water,bourbon,lemon juice...</td>\n",
              "      <td>4</td>\n",
              "    </tr>\n",
              "  </tbody>\n",
              "</table>\n",
              "</div>\n",
              "    <div class=\"colab-df-buttons\">\n",
              "\n",
              "  <div class=\"colab-df-container\">\n",
              "    <button class=\"colab-df-convert\" onclick=\"convertToInteractive('df-6199f563-3452-440f-9e34-58b3fca60fe4')\"\n",
              "            title=\"Convert this dataframe to an interactive table.\"\n",
              "            style=\"display:none;\">\n",
              "\n",
              "  <svg xmlns=\"http://www.w3.org/2000/svg\" height=\"24px\" viewBox=\"0 -960 960 960\">\n",
              "    <path d=\"M120-120v-720h720v720H120Zm60-500h600v-160H180v160Zm220 220h160v-160H400v160Zm0 220h160v-160H400v160ZM180-400h160v-160H180v160Zm440 0h160v-160H620v160ZM180-180h160v-160H180v160Zm440 0h160v-160H620v160Z\"/>\n",
              "  </svg>\n",
              "    </button>\n",
              "\n",
              "  <style>\n",
              "    .colab-df-container {\n",
              "      display:flex;\n",
              "      gap: 12px;\n",
              "    }\n",
              "\n",
              "    .colab-df-convert {\n",
              "      background-color: #E8F0FE;\n",
              "      border: none;\n",
              "      border-radius: 50%;\n",
              "      cursor: pointer;\n",
              "      display: none;\n",
              "      fill: #1967D2;\n",
              "      height: 32px;\n",
              "      padding: 0 0 0 0;\n",
              "      width: 32px;\n",
              "    }\n",
              "\n",
              "    .colab-df-convert:hover {\n",
              "      background-color: #E2EBFA;\n",
              "      box-shadow: 0px 1px 2px rgba(60, 64, 67, 0.3), 0px 1px 3px 1px rgba(60, 64, 67, 0.15);\n",
              "      fill: #174EA6;\n",
              "    }\n",
              "\n",
              "    .colab-df-buttons div {\n",
              "      margin-bottom: 4px;\n",
              "    }\n",
              "\n",
              "    [theme=dark] .colab-df-convert {\n",
              "      background-color: #3B4455;\n",
              "      fill: #D2E3FC;\n",
              "    }\n",
              "\n",
              "    [theme=dark] .colab-df-convert:hover {\n",
              "      background-color: #434B5C;\n",
              "      box-shadow: 0px 1px 3px 1px rgba(0, 0, 0, 0.15);\n",
              "      filter: drop-shadow(0px 1px 2px rgba(0, 0, 0, 0.3));\n",
              "      fill: #FFFFFF;\n",
              "    }\n",
              "  </style>\n",
              "\n",
              "    <script>\n",
              "      const buttonEl =\n",
              "        document.querySelector('#df-6199f563-3452-440f-9e34-58b3fca60fe4 button.colab-df-convert');\n",
              "      buttonEl.style.display =\n",
              "        google.colab.kernel.accessAllowed ? 'block' : 'none';\n",
              "\n",
              "      async function convertToInteractive(key) {\n",
              "        const element = document.querySelector('#df-6199f563-3452-440f-9e34-58b3fca60fe4');\n",
              "        const dataTable =\n",
              "          await google.colab.kernel.invokeFunction('convertToInteractive',\n",
              "                                                    [key], {});\n",
              "        if (!dataTable) return;\n",
              "\n",
              "        const docLinkHtml = 'Like what you see? Visit the ' +\n",
              "          '<a target=\"_blank\" href=https://colab.research.google.com/notebooks/data_table.ipynb>data table notebook</a>'\n",
              "          + ' to learn more about interactive tables.';\n",
              "        element.innerHTML = '';\n",
              "        dataTable['output_type'] = 'display_data';\n",
              "        await google.colab.output.renderOutput(dataTable, element);\n",
              "        const docLink = document.createElement('div');\n",
              "        docLink.innerHTML = docLinkHtml;\n",
              "        element.appendChild(docLink);\n",
              "      }\n",
              "    </script>\n",
              "  </div>\n",
              "\n",
              "\n",
              "    <div id=\"df-9b48f5cf-0729-409b-9fba-57c5c854d4bd\">\n",
              "      <button class=\"colab-df-quickchart\" onclick=\"quickchart('df-9b48f5cf-0729-409b-9fba-57c5c854d4bd')\"\n",
              "                title=\"Suggest charts\"\n",
              "                style=\"display:none;\">\n",
              "\n",
              "<svg xmlns=\"http://www.w3.org/2000/svg\" height=\"24px\"viewBox=\"0 0 24 24\"\n",
              "     width=\"24px\">\n",
              "    <g>\n",
              "        <path d=\"M19 3H5c-1.1 0-2 .9-2 2v14c0 1.1.9 2 2 2h14c1.1 0 2-.9 2-2V5c0-1.1-.9-2-2-2zM9 17H7v-7h2v7zm4 0h-2V7h2v10zm4 0h-2v-4h2v4z\"/>\n",
              "    </g>\n",
              "</svg>\n",
              "      </button>\n",
              "\n",
              "<style>\n",
              "  .colab-df-quickchart {\n",
              "      --bg-color: #E8F0FE;\n",
              "      --fill-color: #1967D2;\n",
              "      --hover-bg-color: #E2EBFA;\n",
              "      --hover-fill-color: #174EA6;\n",
              "      --disabled-fill-color: #AAA;\n",
              "      --disabled-bg-color: #DDD;\n",
              "  }\n",
              "\n",
              "  [theme=dark] .colab-df-quickchart {\n",
              "      --bg-color: #3B4455;\n",
              "      --fill-color: #D2E3FC;\n",
              "      --hover-bg-color: #434B5C;\n",
              "      --hover-fill-color: #FFFFFF;\n",
              "      --disabled-bg-color: #3B4455;\n",
              "      --disabled-fill-color: #666;\n",
              "  }\n",
              "\n",
              "  .colab-df-quickchart {\n",
              "    background-color: var(--bg-color);\n",
              "    border: none;\n",
              "    border-radius: 50%;\n",
              "    cursor: pointer;\n",
              "    display: none;\n",
              "    fill: var(--fill-color);\n",
              "    height: 32px;\n",
              "    padding: 0;\n",
              "    width: 32px;\n",
              "  }\n",
              "\n",
              "  .colab-df-quickchart:hover {\n",
              "    background-color: var(--hover-bg-color);\n",
              "    box-shadow: 0 1px 2px rgba(60, 64, 67, 0.3), 0 1px 3px 1px rgba(60, 64, 67, 0.15);\n",
              "    fill: var(--button-hover-fill-color);\n",
              "  }\n",
              "\n",
              "  .colab-df-quickchart-complete:disabled,\n",
              "  .colab-df-quickchart-complete:disabled:hover {\n",
              "    background-color: var(--disabled-bg-color);\n",
              "    fill: var(--disabled-fill-color);\n",
              "    box-shadow: none;\n",
              "  }\n",
              "\n",
              "  .colab-df-spinner {\n",
              "    border: 2px solid var(--fill-color);\n",
              "    border-color: transparent;\n",
              "    border-bottom-color: var(--fill-color);\n",
              "    animation:\n",
              "      spin 1s steps(1) infinite;\n",
              "  }\n",
              "\n",
              "  @keyframes spin {\n",
              "    0% {\n",
              "      border-color: transparent;\n",
              "      border-bottom-color: var(--fill-color);\n",
              "      border-left-color: var(--fill-color);\n",
              "    }\n",
              "    20% {\n",
              "      border-color: transparent;\n",
              "      border-left-color: var(--fill-color);\n",
              "      border-top-color: var(--fill-color);\n",
              "    }\n",
              "    30% {\n",
              "      border-color: transparent;\n",
              "      border-left-color: var(--fill-color);\n",
              "      border-top-color: var(--fill-color);\n",
              "      border-right-color: var(--fill-color);\n",
              "    }\n",
              "    40% {\n",
              "      border-color: transparent;\n",
              "      border-right-color: var(--fill-color);\n",
              "      border-top-color: var(--fill-color);\n",
              "    }\n",
              "    60% {\n",
              "      border-color: transparent;\n",
              "      border-right-color: var(--fill-color);\n",
              "    }\n",
              "    80% {\n",
              "      border-color: transparent;\n",
              "      border-right-color: var(--fill-color);\n",
              "      border-bottom-color: var(--fill-color);\n",
              "    }\n",
              "    90% {\n",
              "      border-color: transparent;\n",
              "      border-bottom-color: var(--fill-color);\n",
              "    }\n",
              "  }\n",
              "</style>\n",
              "\n",
              "      <script>\n",
              "        async function quickchart(key) {\n",
              "          const quickchartButtonEl =\n",
              "            document.querySelector('#' + key + ' button');\n",
              "          quickchartButtonEl.disabled = true;  // To prevent multiple clicks.\n",
              "          quickchartButtonEl.classList.add('colab-df-spinner');\n",
              "          try {\n",
              "            const charts = await google.colab.kernel.invokeFunction(\n",
              "                'suggestCharts', [key], {});\n",
              "          } catch (error) {\n",
              "            console.error('Error during call to suggestCharts:', error);\n",
              "          }\n",
              "          quickchartButtonEl.classList.remove('colab-df-spinner');\n",
              "          quickchartButtonEl.classList.add('colab-df-quickchart-complete');\n",
              "        }\n",
              "        (() => {\n",
              "          let quickchartButtonEl =\n",
              "            document.querySelector('#df-9b48f5cf-0729-409b-9fba-57c5c854d4bd button');\n",
              "          quickchartButtonEl.style.display =\n",
              "            google.colab.kernel.accessAllowed ? 'block' : 'none';\n",
              "        })();\n",
              "      </script>\n",
              "    </div>\n",
              "\n",
              "    </div>\n",
              "  </div>\n"
            ],
            "application/vnd.google.colaboratory.intrinsic+json": {
              "type": "dataframe",
              "variable_name": "df",
              "summary": "{\n  \"name\": \"df\",\n  \"rows\": 13493,\n  \"fields\": [\n    {\n      \"column\": \"Title\",\n      \"properties\": {\n        \"dtype\": \"string\",\n        \"num_unique_values\": 13302,\n        \"samples\": [\n          \"Chayote and Hearts-of-Palm Salad\",\n          \"Espresso Chocolate Sable\\u0301s\",\n          \"Turkey Shawarma With Crunchy Vegetables\"\n        ],\n        \"semantic_type\": \"\",\n        \"description\": \"\"\n      }\n    },\n    {\n      \"column\": \"Ingredients\",\n      \"properties\": {\n        \"dtype\": \"string\",\n        \"num_unique_values\": 13471,\n        \"samples\": [\n          \"['1/2 cup fresh cilantro leaves with tender stems', '1/2 cup fresh flat-leaf parsley leaves with tender stems', '1 garlic clove, chopped', '2 small green chiles, such as Thai, seeds removed, chopped, divided', '1/2 cup olive oil, divided', '3/4 teaspoon kosher salt, plus more', '3/4 cup plain whole-milk Greek yogurt', '1 tablespoon fresh lemon juice', '2 medium eggplants (about 1 1/2 pounds), cut into 1 1/2\\\" pieces', 'Vegetable oil (for frying; about 2 cups)', '1 pound small tomatoes (about 8), cut into wedges', '1/2 pound Persian cucumbers (about 3), sliced', 'A deep-fry thermometer']\",\n          \"['1 cup (2 sticks) chilled salted butter, cut into pieces', '3/4 cup granulated sugar', '1 vanilla bean, split lengthwise', '2 large eggs', '2 cups all-purpose flour, plus more', '1 cup white sanding sugar', 'A 3\\\"-diameter and a 1 1/2\\\"-diameter fluted cookie cutter']\",\n          \"['1 package (1/4 ounce) active dry yeast', '1 1/4 cups warm milk', '1 cup sugar', '1 cup (2 sticks) unsalted butter, melted and cooled, plus more for brushing', '3 large egg yolks', '1 teaspoon salt', '3 1/2 cups all-purpose flour, plus more for dusting', '2 tablespoons ground cinnamon']\"\n        ],\n        \"semantic_type\": \"\",\n        \"description\": \"\"\n      }\n    },\n    {\n      \"column\": \"Instructions\",\n      \"properties\": {\n        \"dtype\": \"string\",\n        \"num_unique_values\": 13464,\n        \"samples\": [\n          \"Preheat oven to 350\\u00b0F. Mix first 5 ingredients in small bowl to blend. Set aside.\\nBrush oil over both sides of bread. Arrange bread in single layer on large baking sheet. Bake until bread is just crisp, about 5 minutes per side. (Cheese mixture and toasts can be made 2 days ahead. Cover cheese mixture and chill. Cool toasts; store airtight at room temperature.)\\nSpread cheese mixture over toasts. Top with salmon, trimming to fit. Garnish with lemon peel strips and tarragon sprigs. Arrange on platter and serve.\",\n          \"Line 9x5x3-inch metal loaf pan with plastic wrap, leaving generous overhang. Sprinkle almonds evenly over bottom of pan. Using electric mixer, beat whipping cream in large bowl until soft peaks form. Refrigerate whipped cream while making custard.\\nWhisk 1 1/4 cups sugar, egg yolks, lemon juice, lemon peel, and salt in large metal bowl to blend. Set bowl over large saucepan of simmering water and whisk constantly until yolk mixture is thick and fluffy and instant-read thermometer inserted into mixture registers 170\\u00b0F, about 4 minutes. Remove bowl from over simmering water. Using electric mixer, beat mixture until cool, thick, and doubled in volume, about 6 minutes. Fold in chilled whipped cream. Transfer mixture to prepared loaf pan and smooth top. Tap loaf pan lightly on work surface to remove air pockets. Fold plastic wrap overhang over top to cover. Freeze semifreddo until firm, at least 8 hours or overnight. DO AHEAD: Semifreddo can be made 3 days ahead. Keep frozen. Gently mix all berries and remaining 2 tablespoons sugar in large bowl. DO AHEAD: Can be made 3 hours ahead. Cover and refrigerate.\\nUnfold plastic wrap from top of semifreddo and invert dessert onto platter; remove plastic wrap. Dip heavy large knife into hot water; cut semifreddo crosswise into 1-inch-thick slices. Transfer to plates; spoon berries alongside and serve.\",\n          \"Rub steak with 2 tablespoons oil; season generously with salt and pepper. Let sit at room temperature 30 minutes.\\nPrepare a grill for medium-high heat; oil grill grate. Grill steak to desired doneness, 5\\u20137 minutes per side for medium-rare. Let rest 5 minutes before slicing against the grain.\\nMeanwhile, toss parsley, Parmesan, lemon juice, and remaining 1 tablespoon oil in a medium bowl; season with salt, pepper, and more lemon juice, if desired. Serve steak topped with parsley-Parmesan salad.\"\n        ],\n        \"semantic_type\": \"\",\n        \"description\": \"\"\n      }\n    },\n    {\n      \"column\": \"Image_Name\",\n      \"properties\": {\n        \"dtype\": \"string\",\n        \"num_unique_values\": 13464,\n        \"samples\": [\n          \"smoked-salmon-fennel-and-goat-cheese-toasts-102632\",\n          \"roasted-cod-on-large-garlic-croutons-242490\",\n          \"skillet-bruschetta-with-beans-and-greens-51234250\"\n        ],\n        \"semantic_type\": \"\",\n        \"description\": \"\"\n      }\n    },\n    {\n      \"column\": \"Cleaned_Item_Names\",\n      \"properties\": {\n        \"dtype\": \"string\",\n        \"num_unique_values\": 13466,\n        \"samples\": [\n          \"lemon juice,tablespoons Dijon mustard,tablespoons dill,tablespoons honey,garlic,extra-virgin olive oil,Kosher salt black pepper,Perfect Pan-Roasted Chicken Thighs fat from pan reserved,thick rustic bread crusts,cherries stemmed pitted,butter lettuce,radishes,chives\",\n          \"cleaned squid bodies tentacles separated,baby arugula,cherry tomatoes,cooked white beans,extra-virgin olive oil,tablespoons lemon juice\",\n          \"cumin seeds,sunflower other neutral oil,black brown mustard seeds,Persian cucumbers,plain whole-milk Greek yogurt,lemon juice,garlic,cilantro,Kosher salt,Kashmiri chili powder paprika\"\n        ],\n        \"semantic_type\": \"\",\n        \"description\": \"\"\n      }\n    },\n    {\n      \"column\": \"ID\",\n      \"properties\": {\n        \"dtype\": \"number\",\n        \"std\": 3895,\n        \"min\": 0,\n        \"max\": 13492,\n        \"num_unique_values\": 13493,\n        \"samples\": [\n          3859,\n          833,\n          3288\n        ],\n        \"semantic_type\": \"\",\n        \"description\": \"\"\n      }\n    }\n  ]\n}"
            }
          },
          "metadata": {},
          "execution_count": 10
        }
      ]
    },
    {
      "cell_type": "code",
      "source": [
        "# tokenize\n",
        "def tokenize(text):\n",
        "    text = text.lower()\n",
        "    tokens = []\n",
        "    for part in text.split(','):\n",
        "        tokens.extend(part.split())\n",
        "    return tokens"
      ],
      "metadata": {
        "id": "nlURzcVc8Wxy"
      },
      "execution_count": 11,
      "outputs": []
    },
    {
      "cell_type": "code",
      "source": [
        "tokenize(df['Cleaned_Item_Names'][200])"
      ],
      "metadata": {
        "colab": {
          "base_uri": "https://localhost:8080/"
        },
        "id": "rz4ZtwNX82pD",
        "outputId": "e98f2b1e-ec5d-44c3-a2a1-e79e314488a6"
      },
      "execution_count": 12,
      "outputs": [
        {
          "output_type": "execute_result",
          "data": {
            "text/plain": [
              "['sugar', 'water', 'ice', 'lemon', 'lime']"
            ]
          },
          "metadata": {},
          "execution_count": 12
        }
      ]
    },
    {
      "cell_type": "code",
      "source": [
        "# vocab\n",
        "vocab = {'<UNK>':0}"
      ],
      "metadata": {
        "id": "NhoA8cm25CkI"
      },
      "execution_count": 13,
      "outputs": []
    },
    {
      "cell_type": "code",
      "source": [
        "def build_vocab(row):\n",
        "    tokenized_row = tokenize(row)\n",
        "    for token in tokenized_row:\n",
        "        if token not in vocab:\n",
        "            vocab[token] = len(vocab)"
      ],
      "metadata": {
        "id": "ljPe-jT6_c52"
      },
      "execution_count": 14,
      "outputs": []
    },
    {
      "cell_type": "code",
      "source": [
        "df['Cleaned_Item_Names'].apply(build_vocab)\n",
        "len(vocab)"
      ],
      "metadata": {
        "colab": {
          "base_uri": "https://localhost:8080/"
        },
        "id": "Rp3dthIIBKs7",
        "outputId": "2c1be8c3-f88c-4ea0-b591-4969c369018b"
      },
      "execution_count": 15,
      "outputs": [
        {
          "output_type": "execute_result",
          "data": {
            "text/plain": [
              "7072"
            ]
          },
          "metadata": {},
          "execution_count": 15
        }
      ]
    },
    {
      "cell_type": "code",
      "source": [
        "# tokenize words to numerical indices\n",
        "def text_to_indices(text, vocab):\n",
        "    indexed_text = []\n",
        "    for token in tokenize(text):\n",
        "        if token in vocab:\n",
        "            indexed_text.append(vocab[token])\n",
        "        else:\n",
        "            indexed_text.append(vocab['<UNK>'])\n",
        "    return indexed_text"
      ],
      "metadata": {
        "id": "I-QUQ1-G8g20"
      },
      "execution_count": 16,
      "outputs": []
    },
    {
      "cell_type": "markdown",
      "source": [
        "## Data Loading"
      ],
      "metadata": {
        "id": "xrrunk8wCjPX"
      }
    },
    {
      "cell_type": "code",
      "source": [
        "import torch\n",
        "from torch.utils.data import Dataset, DataLoader"
      ],
      "metadata": {
        "id": "YQS8RYhqCYiA"
      },
      "execution_count": 17,
      "outputs": []
    },
    {
      "cell_type": "code",
      "source": [
        "class IngredientsDataset(Dataset):\n",
        "    def __init__(self, df, vocab):\n",
        "        self.df = df\n",
        "        self.vocab = vocab\n",
        "\n",
        "    def __len__(self):\n",
        "        return self.df.shape[0]\n",
        "\n",
        "    def __getitem__(self, idx):\n",
        "        numerical_ingredients = text_to_indices(self.df['Cleaned_Item_Names'].iloc[idx], self.vocab)\n",
        "        numerical_dish = self.df['ID'].iloc[idx]\n",
        "        return torch.tensor(numerical_ingredients, dtype=torch.long), torch.tensor(numerical_dish, dtype=torch.long)\n"
      ],
      "metadata": {
        "id": "U0fB_uWeCrjs"
      },
      "execution_count": 18,
      "outputs": []
    },
    {
      "cell_type": "code",
      "source": [
        "dataset = IngredientsDataset(df, vocab)"
      ],
      "metadata": {
        "id": "hbDQBha9Dn9M"
      },
      "execution_count": 19,
      "outputs": []
    },
    {
      "cell_type": "code",
      "source": [
        "dataset[0]"
      ],
      "metadata": {
        "colab": {
          "base_uri": "https://localhost:8080/"
        },
        "id": "OShkNmUZDqqd",
        "outputId": "8f936a60-32e7-4ed7-d38e-73091f9cb744"
      },
      "execution_count": 20,
      "outputs": [
        {
          "output_type": "execute_result",
          "data": {
            "text/plain": [
              "(tensor([ 1,  2,  3,  4,  5,  6,  7,  8,  9, 10, 11, 12, 10, 13, 14, 15, 16, 17,\n",
              "         18, 19, 20,  9, 21, 22, 23, 24, 15, 25, 26, 27,  7,  8, 28, 15, 29,  7,\n",
              "          1, 30, 15, 25,  2,  3, 10]),\n",
              " tensor(0))"
            ]
          },
          "metadata": {},
          "execution_count": 20
        }
      ]
    },
    {
      "cell_type": "code",
      "source": [
        "from torch.nn.utils.rnn import pad_sequence\n",
        "\n",
        "def collate_fn(batch):\n",
        "    texts, labels = zip(*batch)\n",
        "    padded_texts = pad_sequence(texts, batch_first=True, padding_value=0)\n",
        "    return padded_texts, torch.stack(labels)"
      ],
      "metadata": {
        "id": "-zSjOrK9EWbH"
      },
      "execution_count": 21,
      "outputs": []
    },
    {
      "cell_type": "code",
      "source": [
        "dataloader = DataLoader(dataset, batch_size=32, collate_fn=collate_fn, shuffle=True, pin_memory=True)"
      ],
      "metadata": {
        "id": "wl3sqbZ_DtD6"
      },
      "execution_count": 22,
      "outputs": []
    },
    {
      "cell_type": "markdown",
      "source": [
        "## Model"
      ],
      "metadata": {
        "id": "oFPIQfGXFJZ_"
      }
    },
    {
      "cell_type": "code",
      "source": [
        "import torch.nn as nn"
      ],
      "metadata": {
        "id": "HDiZSaaNEkZt"
      },
      "execution_count": 23,
      "outputs": []
    },
    {
      "cell_type": "code",
      "source": [
        "device = torch.device(\"cuda\" if torch.cuda.is_available() else \"cpu\")\n",
        "print(\"using device:\",device)"
      ],
      "metadata": {
        "colab": {
          "base_uri": "https://localhost:8080/"
        },
        "id": "AUVXLoLSWYDR",
        "outputId": "ce1de493-7d23-4b35-a440-34dd1a4de168"
      },
      "execution_count": 24,
      "outputs": [
        {
          "output_type": "stream",
          "name": "stdout",
          "text": [
            "using device: cuda\n"
          ]
        }
      ]
    },
    {
      "cell_type": "code",
      "source": [
        "class IngredientsRNN(nn.Module):\n",
        "    def __init__(self, vocab_size, num_classes):\n",
        "        super().__init__()\n",
        "        self.embedding = nn.Embedding(vocab_size, embedding_dim=50)\n",
        "        self.rnn = nn.RNN(50, 64, batch_first=True)\n",
        "\n",
        "        self.fc = nn.Linear(64, num_classes)\n",
        "\n",
        "    def forward(self, ingredients):\n",
        "        embedded = self.embedding(ingredients)                       # (batch_size, seq_len, 50)\n",
        "        hidden, _ = self.rnn(embedded)                               # (batch_size, seq_len, 64)\n",
        "        last_hidden = hidden[:, -1, :]                               # (batch_size, 64)\n",
        "        output = self.fc(last_hidden)                                # (batch_size, vocab_size)\n",
        "        return output"
      ],
      "metadata": {
        "id": "mNjpJyTqFIB2"
      },
      "execution_count": 25,
      "outputs": []
    },
    {
      "cell_type": "code",
      "source": [
        "learning_rate = 0.0001\n",
        "epochs = 20"
      ],
      "metadata": {
        "id": "90QtMsH0HLPP"
      },
      "execution_count": 26,
      "outputs": []
    },
    {
      "cell_type": "code",
      "source": [
        "num_classes = df['ID'].nunique()"
      ],
      "metadata": {
        "id": "T5sO5yqtk5P7"
      },
      "execution_count": 27,
      "outputs": []
    },
    {
      "cell_type": "code",
      "source": [
        "model = IngredientsRNN(len(vocab), num_classes).to(device)\n",
        "\n",
        "loss_function = nn.CrossEntropyLoss()\n",
        "optimizer = torch.optim.Adam(model.parameters(), lr=learning_rate)"
      ],
      "metadata": {
        "id": "KiQvjCRSHRpO"
      },
      "execution_count": 28,
      "outputs": []
    },
    {
      "cell_type": "code",
      "source": [
        "# training loop\n",
        "for epoch in range(epochs):\n",
        "    total_loss = 0\n",
        "    for ingredients, labels in dataloader:\n",
        "        ingredients = ingredients.to(device)\n",
        "        labels = labels.to(device)\n",
        "\n",
        "        optimizer.zero_grad()\n",
        "\n",
        "        # forward pass\n",
        "        output = model(ingredients)\n",
        "\n",
        "        # loss\n",
        "        loss = loss_function(output, labels)\n",
        "\n",
        "        # back prop\n",
        "        loss.backward()\n",
        "\n",
        "        # update\n",
        "        optimizer.step()\n",
        "        total_loss += loss.item()\n",
        "    print(f\"Epoch: {epoch+1}, Loss: {total_loss/len(dataloader)}\")"
      ],
      "metadata": {
        "colab": {
          "base_uri": "https://localhost:8080/"
        },
        "id": "S86VjlO9HuKl",
        "outputId": "656d55f7-0237-4aa0-dcaf-5ae3b94c6dd0"
      },
      "execution_count": 29,
      "outputs": [
        {
          "output_type": "stream",
          "name": "stdout",
          "text": [
            "Epoch: 1, Loss: 9.562265622107338\n",
            "Epoch: 2, Loss: 9.517507797168895\n",
            "Epoch: 3, Loss: 9.515052201058626\n",
            "Epoch: 4, Loss: 9.513130377819188\n",
            "Epoch: 5, Loss: 9.512443861125204\n",
            "Epoch: 6, Loss: 9.510432819619563\n",
            "Epoch: 7, Loss: 9.509827600271215\n",
            "Epoch: 8, Loss: 9.508330869448693\n",
            "Epoch: 9, Loss: 9.507395373701485\n",
            "Epoch: 10, Loss: 9.505241606472794\n",
            "Epoch: 11, Loss: 9.50433792548157\n",
            "Epoch: 12, Loss: 9.503478983567224\n",
            "Epoch: 13, Loss: 9.502446321514546\n",
            "Epoch: 14, Loss: 9.501116289346704\n",
            "Epoch: 15, Loss: 9.499479162749521\n",
            "Epoch: 16, Loss: 9.498637988104074\n",
            "Epoch: 17, Loss: 9.497064509098\n",
            "Epoch: 18, Loss: 9.495778947079916\n",
            "Epoch: 19, Loss: 9.494330767771643\n",
            "Epoch: 20, Loss: 9.493984629192623\n"
          ]
        }
      ]
    },
    {
      "cell_type": "code",
      "source": [
        "def predict(model, question, threshold=0.5):\n",
        "    numerical_ingredients = text_to_indices(question, vocab)\n",
        "    tensor_ingredients = torch.tensor(numerical_ingredients, dtype=torch.long).unsqueeze(0).to(device)\n",
        "    output = model(tensor_ingredients)\n",
        "    probabilities = torch.nn.functional.softmax(output, dim=1)\n",
        "    value, index = torch.max(probabilities, dim=1)\n",
        "\n",
        "\n",
        "\n",
        "    return value, index\n"
      ],
      "metadata": {
        "id": "Z8q0Yl4nkDSB"
      },
      "execution_count": 58,
      "outputs": []
    },
    {
      "cell_type": "code",
      "source": [
        "# Predict dish based on input ingredients\n",
        "ingredients = \"green onions,tablespoons sugar,garlic,ginger thin rounds,soy sauce,mirin,Asian sesame oil,tablespoons toasted sesame seeds,black pepper,boned butterflied leg lamb excess fat,Asian pear,green onions,soy sauce,mirin,tablespoons sugar,tablespoons Asian sesame oil,tablespoons toasted sesame seeds,Nonstick vegetable oil spray,jalapeo chiles,garlic,kochujang,butter lettuce leaves separated left,Ingredient info Mirin is sold the Asian foods section some supermarkets at Japanese markets Kochujang is spicy red paste made pureed fermented soybeans hot chiles Its available at Korean markets online from koamartcom If you cant find Kochujang substitute miso mixed tablespoons sriracha hot sauce Test-Kitchen tip Ask your butcher bone butterfly trim the leg lamb you Save the bone pop it the freezer use it make soup stock,metal skewers bamboo skewers soaked water at least hour\"\n",
        "value, index = predict(model, ingredients)\n",
        "\n",
        "# Print prediction confidence\n",
        "print(f\"Confidence: {value.item() * 100:.2f}%\")\n",
        "\n",
        "# Move index to CPU and convert to integer\n",
        "index = index.cpu().item()\n",
        "\n",
        "# Retrieve corresponding dish from DataFrame\n",
        "row = df[df[\"ID\"] == index]\n",
        "\n",
        "# Display dish information\n",
        "if not row.empty:\n",
        "    print(f\"\\nTitle: {row['Title'].values[0]}\")\n",
        "    print(f\"Ingredients: {row['Ingredients'].values[0]}\")\n",
        "    print(f\"Instructions: {row['Instructions'].values[0]}\")\n",
        "    print(f\"Image Name: {row['Image_Name'].values[0]}\")\n",
        "    print(f\"Cleaned Item Names: {row['Cleaned_Item_Names'].values[0]}\")\n",
        "else:\n",
        "    print(\"ID not found.\")\n"
      ],
      "metadata": {
        "colab": {
          "base_uri": "https://localhost:8080/"
        },
        "id": "0XvoeMDkoDMr",
        "outputId": "dded7c77-ecf5-4441-e77b-53e1547c33c6"
      },
      "execution_count": 68,
      "outputs": [
        {
          "output_type": "stream",
          "name": "stdout",
          "text": [
            "Confidence: 0.04%\n",
            "\n",
            "Title: Lamb Bulgogi with Asian Pear Dipping Sauce\n",
            "Ingredients: ['4 green onions, coarsely chopped', '3 tablespoons sugar', '3 garlic cloves, coarsely chopped', '1 2-inch piece fresh ginger, peeled, cut into thin rounds', '2/3 cup soy sauce', '2/3 cup mirin (sweet Japanese rice wine)', '1/3 cup Asian sesame oil', '2 tablespoons toasted sesame seeds', '1 teaspoon freshly ground black pepper', '1 boned butterflied leg of lamb (about 5 1/2 pounds; from one 6 1/2- to 7-pound bone-in leg), trimmed of excess fat', '1 cup chopped peeled cored Asian pear (about 1/2 large)', '10 green onions; 2 chopped, 8 trimmed', '1/2 cup soy sauce', '1/2 cup mirin (sweet Japanese rice wine)', '3 tablespoons sugar', '3 tablespoons Asian sesame oil', '4 tablespoons toasted sesame seeds, divided', 'Nonstick vegetable oil spray', '8 jalapeño chiles, halved (seeded, if desired)', '8 garlic cloves, peeled', '1/2 cup kochujang (Korean hot pepper paste)', '1 large head of butter lettuce, leaves separated and left whole', \"Ingredient info: Mirin is sold in the Asian foods section of some supermarkets and at Japanese markets. Kochujang is a spicy red paste made with pureed fermented soybeans (miso) and hot chiles. It's available at Korean markets and online from koamart.com. If you can't find Kochujang, substitute 1/3 cup miso mixed with 2 tablespoons sriracha hot sauce.\", 'Test-Kitchen tip: Ask your butcher to bone, butterfly, and trim the leg of lamb for you. Save the bone, pop it in the freezer, and use it to make soup or stock.', '3 metal skewers or bamboo skewers soaked in water at least 1 hour']\n",
            "Instructions: Place green onions, sugar, chopped garlic, and sliced ginger in processor and blend until finely chopped, stopping occasionally to scrape down sides of bowl. Transfer mixture to medium bowl. Add soy sauce, mirin, Asian sesame oil, toasted sesame seeds, and black pepper; whisk marinade to blend. Pour 1 cup marinade into 15x10x2-inch glass baking dish. Open boned leg of lamb like book; add to baking dish, arranging in single layer. Pour remaining marinade over lamb, spreading to cover evenly. Cover and refrigerate at least 4 hours and up to 1 day, turning lamb occasionally.\n",
            "Puree Asian pear and chopped green onions in processor until smooth. Add soy sauce, mirin, and sugar and process until sugar dissolves. Add Asian sesame oil and 2 tablespoons toasted sesame seeds; process until sesame oil is incorporated (most sesame seeds will remain intact). Transfer sauce to 2-cup measuring cup. Season sauce to taste with salt and pepper. DO AHEAD: Dipping sauce can be made 1 day ahead. Cover and refrigerate.\n",
            "Coat grill rack with nonstick spray; prepare barbecue (medium heat). Thread jalapeño chile halves onto 2 metal skewers, dividing equally. Thread garlic cloves onto another metal skewer, spacing slightly apart. Place jalapeño and garlic skewers on plate and set aside.\n",
            "Remove lamb from marinade and place on prepared grill with some marinade still clinging to surface (discard marinade in dish). Grill lamb until meat is cooked to desired doneness, about 15 to 20 minutes per side for medium (if lamb begins to burn, slide large sheet of heavy-duty aluminum foil underneath and continue to grill). Transfer lamb to work surface and let rest 10 minutes.\n",
            "While lamb rests, grill jalapeños, garlic, and trimmed green onions until slightly charred and tender, 3 to 4 minutes per side. Transfer to work surface.\n",
            "Place kochujang (hot pepper paste) in small bowl. Stir dipping sauce and divide among 8 small dishes. Arrange butter lettuce leaves on large serving platter to cover. Thinly slice grilled lamb and arrange over lettuce leaves. Cut garlic cloves lengthwise in half. Cut green onions into 2-inch pieces. Arrange jalapeños, garlic, and green onions around lamb. Sprinkle remaining 2 tablespoons toasted sesame seeds over lamb. Serve grilled lamb and vegetables with hot pepper paste. Allow guests to spread very small amounts of kochujang over lettuce leaves, arrange lamb and vegetables in lettuce leaves, then wrap filling with lettuce leaves and dip into sauce.\n",
            "Image Name: lamb-bulgogi-with-asian-pear-dipping-sauce-359749\n",
            "Cleaned Item Names: green onions,tablespoons sugar,garlic,ginger thin rounds,soy sauce,mirin,Asian sesame oil,tablespoons toasted sesame seeds,black pepper,boned butterflied leg lamb excess fat,Asian pear,green onions,soy sauce,mirin,tablespoons sugar,tablespoons Asian sesame oil,tablespoons toasted sesame seeds,Nonstick vegetable oil spray,jalapeo chiles,garlic,kochujang,butter lettuce leaves separated left,Ingredient info Mirin is sold the Asian foods section some supermarkets at Japanese markets Kochujang is spicy red paste made pureed fermented soybeans hot chiles Its available at Korean markets online from koamartcom If you cant find Kochujang substitute miso mixed tablespoons sriracha hot sauce Test-Kitchen tip Ask your butcher bone butterfly trim the leg lamb you Save the bone pop it the freezer use it make soup stock,metal skewers bamboo skewers soaked water at least hour\n"
          ]
        }
      ]
    },
    {
      "cell_type": "code",
      "source": [],
      "metadata": {
        "id": "-npXno5gpGYT"
      },
      "execution_count": null,
      "outputs": []
    }
  ]
}