{
  "nbformat": 4,
  "nbformat_minor": 0,
  "metadata": {
    "colab": {
      "provenance": [],
      "gpuType": "T4"
    },
    "kernelspec": {
      "name": "python3",
      "display_name": "Python 3"
    },
    "language_info": {
      "name": "python"
    },
    "accelerator": "GPU"
  },
  "cells": [
    {
      "cell_type": "markdown",
      "source": [
        "# **What are Tensors?**\n",
        "\n",
        "**Definition**\n",
        "A tensor is a specialized multi-dimensional array designed for mathematical and computational efficiency.\n",
        "\n",
        "---\n",
        "\n"
      ],
      "metadata": {
        "id": "uWkneNspzV2j"
      }
    },
    {
      "cell_type": "markdown",
      "source": [
        "## **Real-World Examples of Tensors**\n",
        "\n",
        "### 1. Scalars (0D Tensors)\n",
        "\n",
        "* **Represents:** A single value (used for constants or simple metrics).\n",
        "* **Example:**\n",
        "\n",
        "  * *Loss Value:* A single scalar result after model evaluation.\n",
        "  * Example values: `5.0`, `-3.14`\n",
        "\n",
        "### 2. Vectors (1D Tensors)\n",
        "\n",
        "* **Represents:** A sequence or list of values.\n",
        "* **Example:**\n",
        "\n",
        "  * *Feature Vector:* Word embeddings in NLP as 1D vectors.\n",
        "  * Example: `[0.12, -0.84, 0.33]` (e.g., from Word2Vec or GloVe)\n",
        "\n",
        "### 3. Matrices (2D Tensors)\n",
        "\n",
        "* **Represents:** Tabular or grid-like data.\n",
        "* **Example:**\n",
        "\n",
        "  * *Grayscale Images:* Stored as 2D tensors, each entry = pixel intensity.\n",
        "  * Example:\n",
        "\n",
        "    ```plaintext\n",
        "    [[0, 255, 128],\n",
        "     [34, 90, 180]]\n",
        "    ```\n",
        "\n",
        "### 4. 3D Tensors\n",
        "\n",
        "* **Represents:** Colored RGB images (width × height × channels).\n",
        "* **Example:**\n",
        "\n",
        "  * A 256×256 RGB image: Shape = `[256, 256, 3]`\n",
        "\n",
        "### 5. 4D Tensors\n",
        "\n",
        "* **Represents:** Batches of RGB images (adds batch size).\n",
        "* **Example:**\n",
        "\n",
        "  * Batch of 32 images, each 128×128 with 3 color channels:\n",
        "    Shape = `[32, 128, 128, 3]`\n",
        "\n",
        "### 6. 5D Tensors\n",
        "\n",
        "* **Represents:** Video data (adds time dimension for frames).\n",
        "* **Example:**\n",
        "\n",
        "  * Batch of 10 video clips, each with 16 frames of 64×64 and 3 channels:\n",
        "    Shape = `[10, 16, 64, 64, 3]`\n",
        "\n",
        "---\n",
        "\n"
      ],
      "metadata": {
        "id": "LdSsjZn02kLp"
      }
    },
    {
      "cell_type": "markdown",
      "source": [
        "## **Why Are Tensors Useful?**\n",
        "\n",
        "### 1. Mathematical Operations\n",
        "\n",
        "* **Tensors enable efficient mathematical computations** (addition, multiplication, dot product, etc.) necessary for neural network operations.\n",
        "\n",
        "### 2. Representation of Real-world Data\n",
        "\n",
        "* **Data like images, audio, videos, and text can be represented as tensors:**\n",
        "\n",
        "  * **Images:** Represented as 3D tensors (width × height × channels).\n",
        "  * **Text:** Tokenized and represented as 2D or 3D tensors (sequence length × embedding size).\n",
        "\n",
        "### 3. Efficient Computations\n",
        "\n",
        "* **Tensors are optimized for hardware acceleration**, allowing computations on GPUs or TPUs, which are crucial for training deep learning models.\n",
        "\n",
        "---\n",
        "\n"
      ],
      "metadata": {
        "id": "JhGXrw3v1e85"
      }
    },
    {
      "cell_type": "markdown",
      "source": [
        "\n",
        "## **Where Are Tensors Used in Deep Learning?**\n",
        "\n",
        "1. **Data Storage**\n",
        "\n",
        "   * Training data (images, text, etc.) is stored in tensors.\n",
        "\n",
        "2. **Weights and Biases**\n",
        "\n",
        "   * The learnable parameters of a neural network (weights, biases) are stored as tensors.\n",
        "\n",
        "3. **Matrix Operations**\n",
        "\n",
        "   * Neural networks involve operations like matrix multiplication, dot products, and broadcasting—all performed using tensors.\n",
        "\n",
        "4. **Training Process**\n",
        "\n",
        "   * During forward passes, tensors flow through the network.\n",
        "   * Gradients, represented as tensors, are calculated during the backward pass.\n"
      ],
      "metadata": {
        "id": "4Ws6_5y_2XPJ"
      }
    },
    {
      "cell_type": "markdown",
      "source": [
        "# **Practical Example**"
      ],
      "metadata": {
        "id": "bUoAvlrz2_pV"
      }
    },
    {
      "cell_type": "code",
      "execution_count": 1,
      "metadata": {
        "colab": {
          "base_uri": "https://localhost:8080/"
        },
        "id": "QUPZLgnUyGJN",
        "outputId": "6b331650-d54f-4787-bea2-136448813cb0"
      },
      "outputs": [
        {
          "output_type": "stream",
          "name": "stdout",
          "text": [
            "2.5.1+cu124\n"
          ]
        }
      ],
      "source": [
        "import torch\n",
        "\n",
        "print(torch.__version__)"
      ]
    },
    {
      "cell_type": "code",
      "source": [
        "if torch.cuda.is_available():\n",
        "  print(\"GPU is Available\")\n",
        "  print(\"Using GPU :\",torch.cuda.get_device_name(0))\n",
        "else:\n",
        "  print(\"GPU not Available\")"
      ],
      "metadata": {
        "colab": {
          "base_uri": "https://localhost:8080/"
        },
        "id": "fqHpuc323N3g",
        "outputId": "eb52d663-e438-4259-ccef-b673b56849fd"
      },
      "execution_count": 3,
      "outputs": [
        {
          "output_type": "stream",
          "name": "stdout",
          "text": [
            "GPU is Available\n",
            "Using GPU : Tesla T4\n"
          ]
        }
      ]
    },
    {
      "cell_type": "markdown",
      "source": [
        "## **Creating a Tensor**"
      ],
      "metadata": {
        "id": "WpPKVjv_368E"
      }
    },
    {
      "cell_type": "code",
      "source": [
        "# using empty : alots empty storage with the specified shape and returs the values at that location\n",
        "a = torch.empty(2,3)\n",
        "a"
      ],
      "metadata": {
        "colab": {
          "base_uri": "https://localhost:8080/"
        },
        "id": "N7i5ygSL3xUk",
        "outputId": "4e805c4c-1fbf-458a-ecfa-c0b135885fc8"
      },
      "execution_count": null,
      "outputs": [
        {
          "output_type": "execute_result",
          "data": {
            "text/plain": [
              "tensor([[2.7543e+28, 4.5696e-41, 2.7543e+28],\n",
              "        [4.5696e-41, 4.4842e-44, 0.0000e+00]])"
            ]
          },
          "metadata": {},
          "execution_count": 5
        }
      ]
    },
    {
      "cell_type": "code",
      "source": [
        "# check type\n",
        "type(a)"
      ],
      "metadata": {
        "colab": {
          "base_uri": "https://localhost:8080/"
        },
        "id": "Qwj54fvv4Kl0",
        "outputId": "e937756d-9d49-4148-d4ff-482082bc7651"
      },
      "execution_count": null,
      "outputs": [
        {
          "output_type": "execute_result",
          "data": {
            "text/plain": [
              "torch.Tensor"
            ]
          },
          "metadata": {},
          "execution_count": 6
        }
      ]
    },
    {
      "cell_type": "code",
      "source": [
        "# using zeros\n",
        "torch.zeros(2,3)"
      ],
      "metadata": {
        "colab": {
          "base_uri": "https://localhost:8080/"
        },
        "id": "FoFuo6Rb4fBF",
        "outputId": "b1630d9c-9118-4998-8179-2552dbadb339"
      },
      "execution_count": null,
      "outputs": [
        {
          "output_type": "execute_result",
          "data": {
            "text/plain": [
              "tensor([[0., 0., 0.],\n",
              "        [0., 0., 0.]])"
            ]
          },
          "metadata": {},
          "execution_count": 12
        }
      ]
    },
    {
      "cell_type": "code",
      "source": [
        "# using ones\n",
        "torch.ones(2,3)"
      ],
      "metadata": {
        "colab": {
          "base_uri": "https://localhost:8080/"
        },
        "id": "g4Jkp_-r4hXc",
        "outputId": "d461efba-2c32-40b3-e9c8-7ad363d9417f"
      },
      "execution_count": null,
      "outputs": [
        {
          "output_type": "execute_result",
          "data": {
            "text/plain": [
              "tensor([[1., 1., 1.],\n",
              "        [1., 1., 1.]])"
            ]
          },
          "metadata": {},
          "execution_count": 13
        }
      ]
    },
    {
      "cell_type": "code",
      "source": [
        "# using rand # random numbers in the range of 0 to 1\n",
        "torch.rand(2,3)"
      ],
      "metadata": {
        "colab": {
          "base_uri": "https://localhost:8080/"
        },
        "id": "v8u5gADM4iwb",
        "outputId": "6bf0ee8b-b749-465f-8ee2-8c43d8448d81"
      },
      "execution_count": null,
      "outputs": [
        {
          "output_type": "execute_result",
          "data": {
            "text/plain": [
              "tensor([[0.5716, 0.9077, 0.0494],\n",
              "        [0.0350, 0.7057, 0.8845]])"
            ]
          },
          "metadata": {},
          "execution_count": 15
        }
      ]
    },
    {
      "cell_type": "code",
      "source": [
        "# use of seed\n",
        "# when using rand, it produces some random value each time so in order to get Reproducibility, ie, each time get the same random numbers then"
      ],
      "metadata": {
        "id": "lqsIjkf74kGE"
      },
      "execution_count": null,
      "outputs": []
    },
    {
      "cell_type": "code",
      "source": [
        "# manual_seed\n",
        "torch.manual_seed(100)\n",
        "torch.rand(2,3)"
      ],
      "metadata": {
        "colab": {
          "base_uri": "https://localhost:8080/"
        },
        "id": "MNTfEHV24nVc",
        "outputId": "095111d1-9e9c-4191-bd0e-e40f357a92d8"
      },
      "execution_count": null,
      "outputs": [
        {
          "output_type": "execute_result",
          "data": {
            "text/plain": [
              "tensor([[0.1117, 0.8158, 0.2626],\n",
              "        [0.4839, 0.6765, 0.7539]])"
            ]
          },
          "metadata": {},
          "execution_count": 18
        }
      ]
    },
    {
      "cell_type": "code",
      "source": [
        "torch.manual_seed(100)\n",
        "torch.rand(2,3)"
      ],
      "metadata": {
        "colab": {
          "base_uri": "https://localhost:8080/"
        },
        "id": "Y55aDGqN5glF",
        "outputId": "e698ed12-82e5-40e9-bd26-1f8c5d383b39"
      },
      "execution_count": null,
      "outputs": [
        {
          "output_type": "execute_result",
          "data": {
            "text/plain": [
              "tensor([[0.1117, 0.8158, 0.2626],\n",
              "        [0.4839, 0.6765, 0.7539]])"
            ]
          },
          "metadata": {},
          "execution_count": 19
        }
      ]
    },
    {
      "cell_type": "code",
      "source": [
        "# using tensor\n",
        "torch.tensor([[1,2],[3,4]])"
      ],
      "metadata": {
        "colab": {
          "base_uri": "https://localhost:8080/"
        },
        "id": "yiau3d3-4qcJ",
        "outputId": "8d27c433-5e88-48bf-a6a8-9a2ae4f883de"
      },
      "execution_count": null,
      "outputs": [
        {
          "output_type": "execute_result",
          "data": {
            "text/plain": [
              "tensor([[1, 2],\n",
              "        [3, 4]])"
            ]
          },
          "metadata": {},
          "execution_count": 20
        }
      ]
    },
    {
      "cell_type": "code",
      "source": [
        "# other ways\n",
        "\n",
        "# arange\n",
        "print(\"using arange ->\", torch.arange(0,10,2))\n",
        "\n",
        "# using linspace\n",
        "print(\"using linspace ->\", torch.linspace(0,10,10))\n",
        "\n",
        "# using eye :  generates IIdentity matrix\n",
        "print(\"using eye ->\", torch.eye(5))\n",
        "\n",
        "# using full\n",
        "print(\"using full ->\", torch.full((3, 3), 5))"
      ],
      "metadata": {
        "colab": {
          "base_uri": "https://localhost:8080/"
        },
        "id": "Zs4nnuxi59xP",
        "outputId": "4e8b3635-92d0-4890-b793-c4ea996fe736"
      },
      "execution_count": null,
      "outputs": [
        {
          "output_type": "stream",
          "name": "stdout",
          "text": [
            "using arange -> tensor([0, 2, 4, 6, 8])\n",
            "using linspace -> tensor([ 0.0000,  1.1111,  2.2222,  3.3333,  4.4444,  5.5556,  6.6667,  7.7778,\n",
            "         8.8889, 10.0000])\n",
            "using eye -> tensor([[1., 0., 0., 0., 0.],\n",
            "        [0., 1., 0., 0., 0.],\n",
            "        [0., 0., 1., 0., 0.],\n",
            "        [0., 0., 0., 1., 0.],\n",
            "        [0., 0., 0., 0., 1.]])\n",
            "using full -> tensor([[5, 5, 5],\n",
            "        [5, 5, 5],\n",
            "        [5, 5, 5]])\n"
          ]
        }
      ]
    },
    {
      "cell_type": "markdown",
      "source": [
        "## **Tensor Shapes**"
      ],
      "metadata": {
        "id": "ov3faPfY6bZX"
      }
    },
    {
      "cell_type": "code",
      "source": [
        "x = torch.tensor([[1,2],[3,4]])\n",
        "x"
      ],
      "metadata": {
        "colab": {
          "base_uri": "https://localhost:8080/"
        },
        "id": "E6vRW0Px6H2Y",
        "outputId": "b8bd9eea-f4ce-4996-b7bd-d22233ba0661"
      },
      "execution_count": null,
      "outputs": [
        {
          "output_type": "execute_result",
          "data": {
            "text/plain": [
              "tensor([[1, 2],\n",
              "        [3, 4]])"
            ]
          },
          "metadata": {},
          "execution_count": 2
        }
      ]
    },
    {
      "cell_type": "code",
      "source": [
        "x.shape"
      ],
      "metadata": {
        "colab": {
          "base_uri": "https://localhost:8080/"
        },
        "id": "ybr7r9L_6q_b",
        "outputId": "7857873d-9ab4-4bcf-87e5-d5d3a0781ee1"
      },
      "execution_count": null,
      "outputs": [
        {
          "output_type": "execute_result",
          "data": {
            "text/plain": [
              "torch.Size([2, 2])"
            ]
          },
          "metadata": {},
          "execution_count": 3
        }
      ]
    },
    {
      "cell_type": "code",
      "source": [
        "# to create another tensor of the same shape\n",
        "torch.empty_like(x)"
      ],
      "metadata": {
        "colab": {
          "base_uri": "https://localhost:8080/"
        },
        "id": "NjnKVzk06ryB",
        "outputId": "adc53b6c-b618-454f-945d-d225cf5a6e2f"
      },
      "execution_count": null,
      "outputs": [
        {
          "output_type": "execute_result",
          "data": {
            "text/plain": [
              "tensor([[       450971566080, 8319683848551211643],\n",
              "        [3180222411935070754, 4189017755886035488]])"
            ]
          },
          "metadata": {},
          "execution_count": 4
        }
      ]
    },
    {
      "cell_type": "code",
      "source": [
        "torch.zeros_like(x)"
      ],
      "metadata": {
        "colab": {
          "base_uri": "https://localhost:8080/"
        },
        "id": "xShLm6kL7BQR",
        "outputId": "42df6cf1-e7b6-48c4-cb77-90e5a03f862e"
      },
      "execution_count": null,
      "outputs": [
        {
          "output_type": "execute_result",
          "data": {
            "text/plain": [
              "tensor([[0, 0],\n",
              "        [0, 0]])"
            ]
          },
          "metadata": {},
          "execution_count": 5
        }
      ]
    },
    {
      "cell_type": "code",
      "source": [
        "torch.ones_like(x)"
      ],
      "metadata": {
        "colab": {
          "base_uri": "https://localhost:8080/"
        },
        "id": "fKn03XwM7FEL",
        "outputId": "963725f9-7d71-4b14-a13c-3aa905a18b41"
      },
      "execution_count": null,
      "outputs": [
        {
          "output_type": "execute_result",
          "data": {
            "text/plain": [
              "tensor([[1, 1],\n",
              "        [1, 1]])"
            ]
          },
          "metadata": {},
          "execution_count": 6
        }
      ]
    },
    {
      "cell_type": "code",
      "source": [
        "torch.rand_like(x) # this error because the the values in x are of int but the rand produces values of float soo"
      ],
      "metadata": {
        "colab": {
          "base_uri": "https://localhost:8080/",
          "height": 141
        },
        "id": "o3iEanDl7IVq",
        "outputId": "0e6d214d-fdcb-469f-af10-b0e47cafdb54"
      },
      "execution_count": null,
      "outputs": [
        {
          "output_type": "error",
          "ename": "RuntimeError",
          "evalue": "\"check_uniform_bounds\" not implemented for 'Long'",
          "traceback": [
            "\u001b[0;31m---------------------------------------------------------------------------\u001b[0m",
            "\u001b[0;31mRuntimeError\u001b[0m                              Traceback (most recent call last)",
            "\u001b[0;32m<ipython-input-8-2955567573>\u001b[0m in \u001b[0;36m<cell line: 0>\u001b[0;34m()\u001b[0m\n\u001b[0;32m----> 1\u001b[0;31m \u001b[0mtorch\u001b[0m\u001b[0;34m.\u001b[0m\u001b[0mrand_like\u001b[0m\u001b[0;34m(\u001b[0m\u001b[0mx\u001b[0m\u001b[0;34m)\u001b[0m \u001b[0;31m# this error because the the values in x are of int but the rand produces values of float soo\u001b[0m\u001b[0;34m\u001b[0m\u001b[0;34m\u001b[0m\u001b[0m\n\u001b[0m",
            "\u001b[0;31mRuntimeError\u001b[0m: \"check_uniform_bounds\" not implemented for 'Long'"
          ]
        }
      ]
    },
    {
      "cell_type": "markdown",
      "source": [
        "## **Torch Data Types**"
      ],
      "metadata": {
        "id": "fIb4NA9M7dRq"
      }
    },
    {
      "cell_type": "code",
      "source": [
        "# find data type\n",
        "x.dtype"
      ],
      "metadata": {
        "colab": {
          "base_uri": "https://localhost:8080/"
        },
        "id": "Jdjd_R2B7NpO",
        "outputId": "7dc57318-9a2f-4ea9-f673-a3be3434c983"
      },
      "execution_count": null,
      "outputs": [
        {
          "output_type": "execute_result",
          "data": {
            "text/plain": [
              "torch.int64"
            ]
          },
          "metadata": {},
          "execution_count": 11
        }
      ]
    },
    {
      "cell_type": "code",
      "source": [
        "# assign data type\n",
        "torch.tensor([1.3, 4.6, 2.5], dtype=torch.int32)"
      ],
      "metadata": {
        "colab": {
          "base_uri": "https://localhost:8080/"
        },
        "id": "JuG1TAdP7kts",
        "outputId": "5b297b01-1975-45a3-de09-097bf33d94e8"
      },
      "execution_count": null,
      "outputs": [
        {
          "output_type": "execute_result",
          "data": {
            "text/plain": [
              "tensor([1, 4, 2], dtype=torch.int32)"
            ]
          },
          "metadata": {},
          "execution_count": 12
        }
      ]
    },
    {
      "cell_type": "code",
      "source": [
        "torch.tensor([1, 4, 2], dtype=torch.float32)"
      ],
      "metadata": {
        "colab": {
          "base_uri": "https://localhost:8080/"
        },
        "id": "xZ8fO4wd7mvA",
        "outputId": "39531960-8fb8-4ce0-8dc8-b3db2bf33f34"
      },
      "execution_count": null,
      "outputs": [
        {
          "output_type": "execute_result",
          "data": {
            "text/plain": [
              "tensor([1., 4., 2.])"
            ]
          },
          "metadata": {},
          "execution_count": 13
        }
      ]
    },
    {
      "cell_type": "code",
      "source": [
        "x.to(torch.float32)"
      ],
      "metadata": {
        "colab": {
          "base_uri": "https://localhost:8080/"
        },
        "id": "mmb2WnN87_tc",
        "outputId": "2742206d-af75-4982-840e-0777d4aae6a8"
      },
      "execution_count": null,
      "outputs": [
        {
          "output_type": "execute_result",
          "data": {
            "text/plain": [
              "tensor([[1., 2.],\n",
              "        [3., 4.]])"
            ]
          },
          "metadata": {},
          "execution_count": 14
        }
      ]
    },
    {
      "cell_type": "code",
      "source": [
        "torch.rand_like(x, dtype=torch.float32) # Specify the dtype to resolve this error"
      ],
      "metadata": {
        "colab": {
          "base_uri": "https://localhost:8080/"
        },
        "id": "pZHB_XhI87Rl",
        "outputId": "c5c849c4-9d40-401b-9dd1-af900a908131"
      },
      "execution_count": null,
      "outputs": [
        {
          "output_type": "execute_result",
          "data": {
            "text/plain": [
              "tensor([[0.1633, 0.8267],\n",
              "        [0.3377, 0.5696]])"
            ]
          },
          "metadata": {},
          "execution_count": 17
        }
      ]
    },
    {
      "cell_type": "markdown",
      "source": [
        "----\n",
        "\n",
        "| **Data Type**             | **Dtype**         | **Description**                                                                                                                                                                |\n",
        "|---------------------------|-------------------|--------------------------------------------------------------------------------------------------------------------------------------------------------------------------------|\n",
        "| **32-bit Floating Point** | `torch.float32`   | Standard floating-point type used for most deep learning tasks. Provides a balance between precision and memory usage.                                                         |\n",
        "| **64-bit Floating Point** | `torch.float64`   | Double-precision floating point. Useful for high-precision numerical tasks but uses more memory.                                                                               |\n",
        "| **16-bit Floating Point** | `torch.float16`   | Half-precision floating point. Commonly used in mixed-precision training to reduce memory and computational overhead on modern GPUs.                                            |\n",
        "| **BFloat16**              | `torch.bfloat16`  | Brain floating-point format with reduced precision compared to `float16`. Used in mixed-precision training, especially on TPUs.                                                |\n",
        "| **8-bit Floating Point**  | `torch.float8`    | Ultra-low-precision floating point. Used for experimental applications and extreme memory-constrained environments (less common).                                               |\n",
        "| **8-bit Integer**         | `torch.int8`      | 8-bit signed integer. Used for quantized models to save memory and computation in inference.                                                                                   |\n",
        "| **16-bit Integer**        | `torch.int16`     | 16-bit signed integer. Useful for special numerical tasks requiring intermediate precision.                                                                                    |\n",
        "| **32-bit Integer**        | `torch.int32`     | Standard signed integer type. Commonly used for indexing and general-purpose numerical tasks.                                                                                  |\n",
        "| **64-bit Integer**        | `torch.int64`     | Long integer type. Often used for large indexing arrays or for tasks involving large numbers.                                                                                  |\n",
        "| **8-bit Unsigned Integer**| `torch.uint8`     | 8-bit unsigned integer. Commonly used for image data (e.g., pixel values between 0 and 255).                                                                                    |\n",
        "| **Boolean**               | `torch.bool`      | Boolean type, stores `True` or `False` values. Often used for masks in logical operations.                                                                                      |\n",
        "| **Complex 64**            | `torch.complex64` | Complex number type with 32-bit real and 32-bit imaginary parts. Used for scientific and signal processing tasks.                                                               |\n",
        "| **Complex 128**           | `torch.complex128`| Complex number type with 64-bit real and 64-bit imaginary parts. Offers higher precision but uses more memory.                                                                 |\n",
        "| **Quantized Integer**     | `torch.qint8`     | Quantized signed 8-bit integer. Used in quantized models for efficient inference.                                                                                              |\n",
        "| **Quantized Unsigned Integer** | `torch.quint8` | Quantized unsigned 8-bit integer. Often used for quantized tensors in image-related tasks.                                                                                     |\n",
        "\n",
        "---"
      ],
      "metadata": {
        "id": "13RrqnTT8Vbl"
      }
    },
    {
      "cell_type": "markdown",
      "source": [
        "## **Mathematical Operations**"
      ],
      "metadata": {
        "id": "xOeUsuu89lea"
      }
    },
    {
      "cell_type": "markdown",
      "source": [
        "### **1. Scalar operation**"
      ],
      "metadata": {
        "id": "HTxacRLR9q6Z"
      }
    },
    {
      "cell_type": "code",
      "source": [
        "x = torch.rand(2,2)\n",
        "x"
      ],
      "metadata": {
        "colab": {
          "base_uri": "https://localhost:8080/"
        },
        "id": "pENJI6zo8Gl_",
        "outputId": "7f75ec48-b21d-414b-f19c-06a4e8d0eec9"
      },
      "execution_count": null,
      "outputs": [
        {
          "output_type": "execute_result",
          "data": {
            "text/plain": [
              "tensor([[0.3427, 0.2074],\n",
              "        [0.0454, 0.4331]])"
            ]
          },
          "metadata": {},
          "execution_count": 18
        }
      ]
    },
    {
      "cell_type": "code",
      "source": [
        "# addition\n",
        "print(\"addition\")\n",
        "print(x + 2)\n",
        "\n",
        "# substraction\n",
        "print(\"substraction\")\n",
        "print(x - 2)\n",
        "\n",
        "# multiplication\n",
        "print(\"multiplication\")\n",
        "print(x * 3)\n",
        "\n",
        "# division\n",
        "print(\"division\")\n",
        "print(x / 3)\n",
        "\n",
        "# int division\n",
        "print(\"int division\")\n",
        "print((x * 100)//3)\n",
        "\n",
        "# mod\n",
        "print(\"mod\")\n",
        "print(((x * 100)//3)%2)\n",
        "\n",
        "# power\n",
        "print(\"power\")\n",
        "print(x**2)"
      ],
      "metadata": {
        "colab": {
          "base_uri": "https://localhost:8080/"
        },
        "id": "kvLYPVU890m7",
        "outputId": "d4e60942-e20f-43cf-bf5c-17adb9296d51"
      },
      "execution_count": null,
      "outputs": [
        {
          "output_type": "stream",
          "name": "stdout",
          "text": [
            "addition\n",
            "tensor([[2.3427, 2.2074],\n",
            "        [2.0454, 2.4331]])\n",
            "substraction\n",
            "tensor([[-1.6573, -1.7926],\n",
            "        [-1.9546, -1.5669]])\n",
            "multiplication\n",
            "tensor([[1.0281, 0.6221],\n",
            "        [0.1362, 1.2994]])\n",
            "division\n",
            "tensor([[0.1142, 0.0691],\n",
            "        [0.0151, 0.1444]])\n",
            "int division\n",
            "tensor([[11.,  6.],\n",
            "        [ 1., 14.]])\n",
            "mod\n",
            "tensor([[1., 0.],\n",
            "        [1., 0.]])\n",
            "power\n",
            "tensor([[0.1174, 0.0430],\n",
            "        [0.0021, 0.1876]])\n"
          ]
        }
      ]
    },
    {
      "cell_type": "markdown",
      "source": [
        "### **2. Element wise operation**"
      ],
      "metadata": {
        "id": "tRLIQ1Zm97-K"
      }
    },
    {
      "cell_type": "code",
      "source": [
        "a = torch.rand(2,3)\n",
        "b = torch.rand(2,3)\n",
        "\n",
        "print(a)\n",
        "print(b)"
      ],
      "metadata": {
        "colab": {
          "base_uri": "https://localhost:8080/"
        },
        "id": "Dbr0K8Wj92GH",
        "outputId": "0886d0ff-09e2-49d6-8585-ccf594d7363f"
      },
      "execution_count": null,
      "outputs": [
        {
          "output_type": "stream",
          "name": "stdout",
          "text": [
            "tensor([[0.5730, 0.7059, 0.3330],\n",
            "        [0.8424, 0.0514, 0.7820]])\n",
            "tensor([[0.7460, 0.2880, 0.1249],\n",
            "        [0.7406, 0.0641, 0.5905]])\n"
          ]
        }
      ]
    },
    {
      "cell_type": "code",
      "source": [
        "# add\n",
        "print(a + b)\n",
        "\n",
        "# sub\n",
        "print(a - b)\n",
        "\n",
        "# multiply\n",
        "print(a * b)\n",
        "\n",
        "# division\n",
        "print(a / b)\n",
        "\n",
        "# power\n",
        "print(a ** b)\n",
        "\n",
        "# mod\n",
        "print(a % b)"
      ],
      "metadata": {
        "colab": {
          "base_uri": "https://localhost:8080/"
        },
        "id": "v_mTOZzE-Do_",
        "outputId": "3e65c712-f144-44a4-e9ed-6ca5ddf287db"
      },
      "execution_count": null,
      "outputs": [
        {
          "output_type": "stream",
          "name": "stdout",
          "text": [
            "tensor([[1.3190, 0.9939, 0.4579],\n",
            "        [1.5831, 0.1155, 1.3725]])\n",
            "tensor([[-0.1730,  0.4179,  0.2081],\n",
            "        [ 0.1018, -0.0127,  0.1915]])\n",
            "tensor([[0.4275, 0.2033, 0.0416],\n",
            "        [0.6239, 0.0033, 0.4618]])\n",
            "tensor([[0.7681, 2.4514, 2.6660],\n",
            "        [1.1374, 0.8024, 1.3243]])\n",
            "tensor([[0.6601, 0.9046, 0.8717],\n",
            "        [0.8807, 0.8269, 0.8649]])\n",
            "tensor([[0.5730, 0.1300, 0.0832],\n",
            "        [0.1018, 0.0514, 0.1915]])\n"
          ]
        }
      ]
    },
    {
      "cell_type": "code",
      "source": [
        "c = torch.tensor([1, -2, 3, -4])"
      ],
      "metadata": {
        "id": "nWil6tdM--FL"
      },
      "execution_count": null,
      "outputs": []
    },
    {
      "cell_type": "code",
      "source": [
        "# abs\n",
        "torch.abs(c)"
      ],
      "metadata": {
        "colab": {
          "base_uri": "https://localhost:8080/"
        },
        "id": "1Mso3nus_Tlq",
        "outputId": "8ffac041-1a0d-4d15-e259-c9a215458c09"
      },
      "execution_count": null,
      "outputs": [
        {
          "output_type": "execute_result",
          "data": {
            "text/plain": [
              "tensor([1, 2, 3, 4])"
            ]
          },
          "metadata": {},
          "execution_count": 27
        }
      ]
    },
    {
      "cell_type": "code",
      "source": [
        "# negative\n",
        "torch.neg(c)"
      ],
      "metadata": {
        "colab": {
          "base_uri": "https://localhost:8080/"
        },
        "id": "brOzWxix_Um1",
        "outputId": "ca0d6b24-04a9-486c-d2c2-f438f433424a"
      },
      "execution_count": null,
      "outputs": [
        {
          "output_type": "execute_result",
          "data": {
            "text/plain": [
              "tensor([-1,  2, -3,  4])"
            ]
          },
          "metadata": {},
          "execution_count": 28
        }
      ]
    },
    {
      "cell_type": "code",
      "source": [
        "d = torch.tensor([1.9, 2.3, 3.5, 4.4])"
      ],
      "metadata": {
        "id": "sUxwMXoG_Vz0"
      },
      "execution_count": null,
      "outputs": []
    },
    {
      "cell_type": "code",
      "source": [
        "# round\n",
        "torch.round(d)"
      ],
      "metadata": {
        "colab": {
          "base_uri": "https://localhost:8080/"
        },
        "id": "5CNbN1_a_XNc",
        "outputId": "053efba9-7f9f-40a8-8693-0f526656ebf6"
      },
      "execution_count": null,
      "outputs": [
        {
          "output_type": "execute_result",
          "data": {
            "text/plain": [
              "tensor([2., 2., 4., 4.])"
            ]
          },
          "metadata": {},
          "execution_count": 33
        }
      ]
    },
    {
      "cell_type": "code",
      "source": [
        "# ceil\n",
        "torch.ceil(d)"
      ],
      "metadata": {
        "colab": {
          "base_uri": "https://localhost:8080/"
        },
        "id": "F-yHZgHK_YO1",
        "outputId": "b1e66d22-482c-4e54-f23b-be6ecca691e8"
      },
      "execution_count": null,
      "outputs": [
        {
          "output_type": "execute_result",
          "data": {
            "text/plain": [
              "tensor([2., 3., 4., 5.])"
            ]
          },
          "metadata": {},
          "execution_count": 34
        }
      ]
    },
    {
      "cell_type": "code",
      "source": [
        "# floor\n",
        "torch.floor(d)"
      ],
      "metadata": {
        "colab": {
          "base_uri": "https://localhost:8080/"
        },
        "id": "HhFe3YBr_ZyY",
        "outputId": "96abdb74-c57e-4820-d029-d49ebd7ae63b"
      },
      "execution_count": null,
      "outputs": [
        {
          "output_type": "execute_result",
          "data": {
            "text/plain": [
              "tensor([1., 2., 3., 4.])"
            ]
          },
          "metadata": {},
          "execution_count": 35
        }
      ]
    },
    {
      "cell_type": "code",
      "source": [
        "# clamp : numbers less than 2 will become 2 numbers greater than 3 will become 3\n",
        "torch.clamp(d, min=2, max=3)"
      ],
      "metadata": {
        "colab": {
          "base_uri": "https://localhost:8080/"
        },
        "id": "J1H2SBBO_e7V",
        "outputId": "27ca26d6-5640-4dcf-bf0c-5fe896928425"
      },
      "execution_count": null,
      "outputs": [
        {
          "output_type": "execute_result",
          "data": {
            "text/plain": [
              "tensor([2.0000, 2.3000, 3.0000, 3.0000])"
            ]
          },
          "metadata": {},
          "execution_count": 37
        }
      ]
    },
    {
      "cell_type": "markdown",
      "source": [
        "### **3. Reduction operation**"
      ],
      "metadata": {
        "id": "s2vX59sq_0dx"
      }
    },
    {
      "cell_type": "code",
      "source": [
        "e = torch.randint(size=(2,3), low=0, high=10, dtype=torch.float32)\n",
        "e"
      ],
      "metadata": {
        "colab": {
          "base_uri": "https://localhost:8080/"
        },
        "id": "6ysPPy7U_hPL",
        "outputId": "51be48cf-38d8-478e-91a7-4c13896e054b"
      },
      "execution_count": null,
      "outputs": [
        {
          "output_type": "execute_result",
          "data": {
            "text/plain": [
              "tensor([[9., 7., 1.],\n",
              "        [7., 6., 3.]])"
            ]
          },
          "metadata": {},
          "execution_count": 38
        }
      ]
    },
    {
      "cell_type": "code",
      "source": [
        "# sum\n",
        "torch.sum(e)"
      ],
      "metadata": {
        "colab": {
          "base_uri": "https://localhost:8080/"
        },
        "id": "2cDR-NPd_7ip",
        "outputId": "82640df5-e1ba-4540-c5d7-3cfd20093913"
      },
      "execution_count": null,
      "outputs": [
        {
          "output_type": "execute_result",
          "data": {
            "text/plain": [
              "tensor(33.)"
            ]
          },
          "metadata": {},
          "execution_count": 40
        }
      ]
    },
    {
      "cell_type": "code",
      "source": [
        "# sum along columns\n",
        "torch.sum(e, dim=0)"
      ],
      "metadata": {
        "colab": {
          "base_uri": "https://localhost:8080/"
        },
        "id": "ax7t-JcZ_-tt",
        "outputId": "a444dd53-d532-4c23-9645-a6e85a7db05f"
      },
      "execution_count": null,
      "outputs": [
        {
          "output_type": "execute_result",
          "data": {
            "text/plain": [
              "tensor([16., 13.,  4.])"
            ]
          },
          "metadata": {},
          "execution_count": 41
        }
      ]
    },
    {
      "cell_type": "code",
      "source": [
        "# sum along rows\n",
        "torch.sum(e, dim=1)"
      ],
      "metadata": {
        "colab": {
          "base_uri": "https://localhost:8080/"
        },
        "id": "8IJuXY1IACtU",
        "outputId": "0423d2c2-54a3-47e3-cc73-0361c09fca8b"
      },
      "execution_count": null,
      "outputs": [
        {
          "output_type": "execute_result",
          "data": {
            "text/plain": [
              "tensor([17., 16.])"
            ]
          },
          "metadata": {},
          "execution_count": 42
        }
      ]
    },
    {
      "cell_type": "code",
      "source": [
        "# mean\n",
        "torch.mean(e)\n",
        "# mean along col\n",
        "torch.mean(e, dim=0)"
      ],
      "metadata": {
        "colab": {
          "base_uri": "https://localhost:8080/"
        },
        "id": "mSGe_w2VAEDq",
        "outputId": "c4b49c31-63b3-4120-bf02-3aeb62d82896"
      },
      "execution_count": null,
      "outputs": [
        {
          "output_type": "execute_result",
          "data": {
            "text/plain": [
              "tensor([8.0000, 6.5000, 2.0000])"
            ]
          },
          "metadata": {},
          "execution_count": 43
        }
      ]
    },
    {
      "cell_type": "code",
      "source": [
        "# median\n",
        "torch.median(e)"
      ],
      "metadata": {
        "colab": {
          "base_uri": "https://localhost:8080/"
        },
        "id": "Zc3o-EwKALv6",
        "outputId": "7aa63ad2-965c-4152-e693-cd867e615b39"
      },
      "execution_count": null,
      "outputs": [
        {
          "output_type": "execute_result",
          "data": {
            "text/plain": [
              "tensor(6.)"
            ]
          },
          "metadata": {},
          "execution_count": 46
        }
      ]
    },
    {
      "cell_type": "code",
      "source": [
        "# max and min\n",
        "torch.max(e)\n",
        "torch.min(e)"
      ],
      "metadata": {
        "colab": {
          "base_uri": "https://localhost:8080/"
        },
        "id": "ZzPJPGkoAbI5",
        "outputId": "6517fb26-60cf-407b-b63a-94b7ee1db299"
      },
      "execution_count": null,
      "outputs": [
        {
          "output_type": "execute_result",
          "data": {
            "text/plain": [
              "tensor(1.)"
            ]
          },
          "metadata": {},
          "execution_count": 47
        }
      ]
    },
    {
      "cell_type": "code",
      "source": [
        "# product\n",
        "torch.prod(e)"
      ],
      "metadata": {
        "colab": {
          "base_uri": "https://localhost:8080/"
        },
        "id": "Q1ojeBUEAnpG",
        "outputId": "b5bbc310-c859-4301-e724-a085a89c059c"
      },
      "execution_count": null,
      "outputs": [
        {
          "output_type": "execute_result",
          "data": {
            "text/plain": [
              "tensor(7938.)"
            ]
          },
          "metadata": {},
          "execution_count": 48
        }
      ]
    },
    {
      "cell_type": "code",
      "source": [
        "# standard deviation\n",
        "torch.std(e)"
      ],
      "metadata": {
        "colab": {
          "base_uri": "https://localhost:8080/"
        },
        "id": "1NH_ghRrAqjd",
        "outputId": "b1e03a1b-83c6-4426-b56c-23bb1ff5d981"
      },
      "execution_count": null,
      "outputs": [
        {
          "output_type": "execute_result",
          "data": {
            "text/plain": [
              "tensor(2.9496)"
            ]
          },
          "metadata": {},
          "execution_count": 49
        }
      ]
    },
    {
      "cell_type": "code",
      "source": [
        "# variance\n",
        "torch.var(e)"
      ],
      "metadata": {
        "colab": {
          "base_uri": "https://localhost:8080/"
        },
        "id": "NJe6XOveAr0S",
        "outputId": "91475407-dad4-44c5-cf96-cbb597b3928a"
      },
      "execution_count": null,
      "outputs": [
        {
          "output_type": "execute_result",
          "data": {
            "text/plain": [
              "tensor(8.7000)"
            ]
          },
          "metadata": {},
          "execution_count": 50
        }
      ]
    },
    {
      "cell_type": "code",
      "source": [
        "# argmax\n",
        "torch.argmax(e)"
      ],
      "metadata": {
        "colab": {
          "base_uri": "https://localhost:8080/"
        },
        "id": "vwyNmn4DAs-S",
        "outputId": "0e901859-a771-4587-d9fe-03305c3456f6"
      },
      "execution_count": null,
      "outputs": [
        {
          "output_type": "execute_result",
          "data": {
            "text/plain": [
              "tensor(0)"
            ]
          },
          "metadata": {},
          "execution_count": 51
        }
      ]
    },
    {
      "cell_type": "code",
      "source": [
        "# argmin\n",
        "torch.argmin(e)"
      ],
      "metadata": {
        "colab": {
          "base_uri": "https://localhost:8080/"
        },
        "id": "4B0qwUnjAuXM",
        "outputId": "106db598-2502-48e6-bb89-f6923e036fa0"
      },
      "execution_count": null,
      "outputs": [
        {
          "output_type": "execute_result",
          "data": {
            "text/plain": [
              "tensor(2)"
            ]
          },
          "metadata": {},
          "execution_count": 52
        }
      ]
    },
    {
      "cell_type": "markdown",
      "source": [
        "## **4. Matrix Operations**"
      ],
      "metadata": {
        "id": "_PVO1QtlDdjD"
      }
    },
    {
      "cell_type": "code",
      "source": [
        "f = torch.randint(size=(2,3), low=0, high=10)\n",
        "g = torch.randint(size=(3,2), low=0, high=10)\n",
        "\n",
        "print(f)\n",
        "print(g)"
      ],
      "metadata": {
        "colab": {
          "base_uri": "https://localhost:8080/"
        },
        "id": "VWQzvbXQAv0F",
        "outputId": "4fe19fdf-da4b-45d9-d6cd-057b8cd30336"
      },
      "execution_count": null,
      "outputs": [
        {
          "output_type": "stream",
          "name": "stdout",
          "text": [
            "tensor([[1, 8, 2],\n",
            "        [0, 2, 8]])\n",
            "tensor([[9, 8],\n",
            "        [1, 7],\n",
            "        [6, 8]])\n"
          ]
        }
      ]
    },
    {
      "cell_type": "code",
      "source": [
        "# matrix multiplcation\n",
        "torch.matmul(f, g)"
      ],
      "metadata": {
        "colab": {
          "base_uri": "https://localhost:8080/"
        },
        "id": "B-Ba4V_kDkXu",
        "outputId": "bac9a238-ba97-4037-8b1d-672a053c4a6e"
      },
      "execution_count": null,
      "outputs": [
        {
          "output_type": "execute_result",
          "data": {
            "text/plain": [
              "tensor([[29, 80],\n",
              "        [50, 78]])"
            ]
          },
          "metadata": {},
          "execution_count": 54
        }
      ]
    },
    {
      "cell_type": "code",
      "source": [
        "vector1 = torch.tensor([1, 2])\n",
        "vector2 = torch.tensor([3, 4])\n",
        "\n",
        "# dot product\n",
        "torch.dot(vector1, vector2)"
      ],
      "metadata": {
        "colab": {
          "base_uri": "https://localhost:8080/"
        },
        "id": "z0B0ffFZDmyZ",
        "outputId": "b64525ad-d8d6-4f34-921f-490f6c612f58"
      },
      "execution_count": null,
      "outputs": [
        {
          "output_type": "execute_result",
          "data": {
            "text/plain": [
              "tensor(11)"
            ]
          },
          "metadata": {},
          "execution_count": 55
        }
      ]
    },
    {
      "cell_type": "code",
      "source": [
        "# transpose\n",
        "torch.transpose(f, 0, 1)"
      ],
      "metadata": {
        "colab": {
          "base_uri": "https://localhost:8080/"
        },
        "id": "ithSvUSPDquS",
        "outputId": "2fc48acc-68d5-41a2-c9d4-241afbdd405e"
      },
      "execution_count": null,
      "outputs": [
        {
          "output_type": "execute_result",
          "data": {
            "text/plain": [
              "tensor([[1, 0],\n",
              "        [8, 2],\n",
              "        [2, 8]])"
            ]
          },
          "metadata": {},
          "execution_count": 56
        }
      ]
    },
    {
      "cell_type": "code",
      "source": [
        "# determinant (Works only with square matrix)\n",
        "h = torch.randint(size=(3,3), low=0, high=10, dtype=torch.float32)\n",
        "torch.det(h)"
      ],
      "metadata": {
        "colab": {
          "base_uri": "https://localhost:8080/"
        },
        "id": "zy_e68qMDuEL",
        "outputId": "ce324e59-bc2f-4aa4-9528-2ea3fbb4dafc"
      },
      "execution_count": null,
      "outputs": [
        {
          "output_type": "execute_result",
          "data": {
            "text/plain": [
              "tensor(45.)"
            ]
          },
          "metadata": {},
          "execution_count": 58
        }
      ]
    },
    {
      "cell_type": "code",
      "source": [
        "h"
      ],
      "metadata": {
        "colab": {
          "base_uri": "https://localhost:8080/"
        },
        "id": "jOOlV7vKEBCj",
        "outputId": "6b36e550-55fb-4428-de90-36ba5a6de96f"
      },
      "execution_count": null,
      "outputs": [
        {
          "output_type": "execute_result",
          "data": {
            "text/plain": [
              "tensor([[0., 6., 3.],\n",
              "        [0., 7., 6.],\n",
              "        [3., 8., 5.]])"
            ]
          },
          "metadata": {},
          "execution_count": 60
        }
      ]
    },
    {
      "cell_type": "code",
      "source": [
        "# inverse (Works only with square matrix)\n",
        "torch.inverse(h)"
      ],
      "metadata": {
        "colab": {
          "base_uri": "https://localhost:8080/"
        },
        "id": "Fw73dJHND4_7",
        "outputId": "e1485042-3b15-4d31-d573-7480d2fc83dc"
      },
      "execution_count": null,
      "outputs": [
        {
          "output_type": "execute_result",
          "data": {
            "text/plain": [
              "tensor([[-0.2889, -0.1333,  0.3333],\n",
              "        [ 0.4000, -0.2000,  0.0000],\n",
              "        [-0.4667,  0.4000,  0.0000]])"
            ]
          },
          "metadata": {},
          "execution_count": 59
        }
      ]
    },
    {
      "cell_type": "markdown",
      "source": [
        "### **5. Comparison operations**"
      ],
      "metadata": {
        "id": "iE5mvd1rS0KI"
      }
    },
    {
      "cell_type": "code",
      "source": [
        "i = torch.randint(size=(2,3), low=0, high=10)\n",
        "j = torch.randint(size=(2,3), low=0, high=10)\n",
        "\n",
        "print(i)\n",
        "print(j)"
      ],
      "metadata": {
        "id": "12Xhu5JoD_l7",
        "colab": {
          "base_uri": "https://localhost:8080/"
        },
        "outputId": "ff1361da-9549-42dc-c672-a0ee2b229191"
      },
      "execution_count": null,
      "outputs": [
        {
          "output_type": "stream",
          "name": "stdout",
          "text": [
            "tensor([[4, 7, 3],\n",
            "        [2, 6, 7]])\n",
            "tensor([[9, 6, 8],\n",
            "        [5, 8, 2]])\n"
          ]
        }
      ]
    },
    {
      "cell_type": "code",
      "source": [
        "# greater than\n",
        "i > j\n",
        "# less than\n",
        "i < j\n",
        "# equal to\n",
        "i == j\n",
        "# not equal to\n",
        "i != j\n",
        "# greater than equal to\n",
        "\n",
        "# less than equal to"
      ],
      "metadata": {
        "colab": {
          "base_uri": "https://localhost:8080/"
        },
        "id": "yplkLwByS69r",
        "outputId": "c24f29e6-d8d6-4016-81fa-9bedc93032e9"
      },
      "execution_count": null,
      "outputs": [
        {
          "output_type": "execute_result",
          "data": {
            "text/plain": [
              "tensor([[True, True, True],\n",
              "        [True, True, True]])"
            ]
          },
          "metadata": {},
          "execution_count": 3
        }
      ]
    },
    {
      "cell_type": "markdown",
      "source": [
        "### **6. Special Functions**"
      ],
      "metadata": {
        "id": "mlSqfUE4TIDz"
      }
    },
    {
      "cell_type": "code",
      "source": [
        "k = torch.randint(size=(2,3), low=0, high=10, dtype=torch.float32)\n",
        "k"
      ],
      "metadata": {
        "colab": {
          "base_uri": "https://localhost:8080/"
        },
        "id": "4bKNAE2QS-Dk",
        "outputId": "1a7a4c10-7128-4f4e-9b51-bf08252734c8"
      },
      "execution_count": null,
      "outputs": [
        {
          "output_type": "execute_result",
          "data": {
            "text/plain": [
              "tensor([[0., 0., 3.],\n",
              "        [4., 4., 2.]])"
            ]
          },
          "metadata": {},
          "execution_count": 4
        }
      ]
    },
    {
      "cell_type": "code",
      "source": [
        "# log\n",
        "torch.log(k)"
      ],
      "metadata": {
        "colab": {
          "base_uri": "https://localhost:8080/"
        },
        "id": "DzDT54RxTNUr",
        "outputId": "05a9c803-1e4a-4dfe-ff85-990e1fecf21c"
      },
      "execution_count": null,
      "outputs": [
        {
          "output_type": "execute_result",
          "data": {
            "text/plain": [
              "tensor([[  -inf,   -inf, 1.0986],\n",
              "        [1.3863, 1.3863, 0.6931]])"
            ]
          },
          "metadata": {},
          "execution_count": 5
        }
      ]
    },
    {
      "cell_type": "code",
      "source": [
        "# exp\n",
        "torch.exp(k)"
      ],
      "metadata": {
        "colab": {
          "base_uri": "https://localhost:8080/"
        },
        "id": "lZslZgaGTOpU",
        "outputId": "66d932ec-a1c5-4e67-c7ef-e0624a353e39"
      },
      "execution_count": null,
      "outputs": [
        {
          "output_type": "execute_result",
          "data": {
            "text/plain": [
              "tensor([[ 1.0000,  1.0000, 20.0855],\n",
              "        [54.5981, 54.5981,  7.3891]])"
            ]
          },
          "metadata": {},
          "execution_count": 6
        }
      ]
    },
    {
      "cell_type": "code",
      "source": [
        "# sqrt\n",
        "torch.sqrt(k)"
      ],
      "metadata": {
        "colab": {
          "base_uri": "https://localhost:8080/"
        },
        "id": "QUdmSrZSTPsK",
        "outputId": "f5cbc8d6-4e67-47f1-a50d-76eb8e59f886"
      },
      "execution_count": null,
      "outputs": [
        {
          "output_type": "execute_result",
          "data": {
            "text/plain": [
              "tensor([[0.0000, 0.0000, 1.7321],\n",
              "        [2.0000, 2.0000, 1.4142]])"
            ]
          },
          "metadata": {},
          "execution_count": 7
        }
      ]
    },
    {
      "cell_type": "code",
      "source": [
        "# sigmoid\n",
        "torch.sigmoid(k)"
      ],
      "metadata": {
        "colab": {
          "base_uri": "https://localhost:8080/"
        },
        "id": "GAtNTsTGTQnp",
        "outputId": "1ee08c73-f1bd-44ae-9c6a-d666b0328a8f"
      },
      "execution_count": null,
      "outputs": [
        {
          "output_type": "execute_result",
          "data": {
            "text/plain": [
              "tensor([[0.5000, 0.5000, 0.9526],\n",
              "        [0.9820, 0.9820, 0.8808]])"
            ]
          },
          "metadata": {},
          "execution_count": 8
        }
      ]
    },
    {
      "cell_type": "code",
      "source": [
        "# softmax : require float, and ention of dimension\n",
        "torch.softmax(k, dim=0)"
      ],
      "metadata": {
        "colab": {
          "base_uri": "https://localhost:8080/"
        },
        "id": "STP7Ia3QTR0O",
        "outputId": "320dea1d-1cd9-4115-fb8a-2df17580a73f"
      },
      "execution_count": null,
      "outputs": [
        {
          "output_type": "execute_result",
          "data": {
            "text/plain": [
              "tensor([[0.0180, 0.0180, 0.7311],\n",
              "        [0.9820, 0.9820, 0.2689]])"
            ]
          },
          "metadata": {},
          "execution_count": 10
        }
      ]
    },
    {
      "cell_type": "code",
      "source": [
        "# relu\n",
        "torch.relu(k)"
      ],
      "metadata": {
        "colab": {
          "base_uri": "https://localhost:8080/"
        },
        "id": "zrGvmJZbTT1n",
        "outputId": "8911068b-76bc-4150-cb27-a62cae05b6b7"
      },
      "execution_count": 13,
      "outputs": [
        {
          "output_type": "execute_result",
          "data": {
            "text/plain": [
              "tensor([[0., 0., 3.],\n",
              "        [4., 4., 2.]])"
            ]
          },
          "metadata": {},
          "execution_count": 13
        }
      ]
    },
    {
      "cell_type": "markdown",
      "source": [
        "## **Inplace Operations**"
      ],
      "metadata": {
        "id": "xnU-VVyMToAm"
      }
    },
    {
      "cell_type": "code",
      "source": [
        "m = torch.rand(2,3)\n",
        "n = torch.rand(2,3)\n",
        "\n",
        "print(m)\n",
        "print(n)"
      ],
      "metadata": {
        "id": "4y9MPrzWTZnB",
        "colab": {
          "base_uri": "https://localhost:8080/"
        },
        "outputId": "a6f5b6d2-3433-4e7b-9c05-97651c0ff1ab"
      },
      "execution_count": 14,
      "outputs": [
        {
          "output_type": "stream",
          "name": "stdout",
          "text": [
            "tensor([[0.7536, 0.3707, 0.9506],\n",
            "        [0.8107, 0.3825, 0.3177]])\n",
            "tensor([[0.5660, 0.4604, 0.7877],\n",
            "        [0.9849, 0.1071, 0.9158]])\n"
          ]
        }
      ]
    },
    {
      "cell_type": "code",
      "source": [
        "m + n # return a new matrix and it takes additional space, if the matrix is huge then memory issues occur"
      ],
      "metadata": {
        "colab": {
          "base_uri": "https://localhost:8080/"
        },
        "id": "MFyfJZ46UC8g",
        "outputId": "c79ce1ba-33af-4416-87bb-b04b7ac5a582"
      },
      "execution_count": 17,
      "outputs": [
        {
          "output_type": "execute_result",
          "data": {
            "text/plain": [
              "tensor([[1.8856, 1.2914, 2.5260],\n",
              "        [2.7804, 0.5966, 2.1492]])"
            ]
          },
          "metadata": {},
          "execution_count": 17
        }
      ]
    },
    {
      "cell_type": "code",
      "source": [
        "m.add_(n)"
      ],
      "metadata": {
        "colab": {
          "base_uri": "https://localhost:8080/"
        },
        "id": "aTi8JGW6Tr8W",
        "outputId": "4c440a2c-b429-43aa-b995-16608ad0304c"
      },
      "execution_count": 15,
      "outputs": [
        {
          "output_type": "execute_result",
          "data": {
            "text/plain": [
              "tensor([[1.3196, 0.8310, 1.7383],\n",
              "        [1.7955, 0.4895, 1.2334]])"
            ]
          },
          "metadata": {},
          "execution_count": 15
        }
      ]
    },
    {
      "cell_type": "code",
      "source": [
        "m # sum is added to m"
      ],
      "metadata": {
        "colab": {
          "base_uri": "https://localhost:8080/"
        },
        "id": "3cM5GCmSTty8",
        "outputId": "4cf09abb-9969-4aa2-ba7f-c2ac088853b5"
      },
      "execution_count": 18,
      "outputs": [
        {
          "output_type": "execute_result",
          "data": {
            "text/plain": [
              "tensor([[1.3196, 0.8310, 1.7383],\n",
              "        [1.7955, 0.4895, 1.2334]])"
            ]
          },
          "metadata": {},
          "execution_count": 18
        }
      ]
    },
    {
      "cell_type": "code",
      "source": [
        "n"
      ],
      "metadata": {
        "colab": {
          "base_uri": "https://localhost:8080/"
        },
        "id": "5ensLzXUUNCQ",
        "outputId": "dd25907a-613a-41d9-e77a-5566a6608d7a"
      },
      "execution_count": 20,
      "outputs": [
        {
          "output_type": "execute_result",
          "data": {
            "text/plain": [
              "tensor([[0.5660, 0.4604, 0.7877],\n",
              "        [0.9849, 0.1071, 0.9158]])"
            ]
          },
          "metadata": {},
          "execution_count": 20
        }
      ]
    },
    {
      "cell_type": "code",
      "source": [
        "m.relu_()   # inplace relu operation"
      ],
      "metadata": {
        "colab": {
          "base_uri": "https://localhost:8080/"
        },
        "id": "_IHUkKvSUNgO",
        "outputId": "20dc6556-7361-4cb2-af1c-ea018084a3f6"
      },
      "execution_count": 23,
      "outputs": [
        {
          "output_type": "execute_result",
          "data": {
            "text/plain": [
              "tensor([[1.3196, 0.8310, 1.7383],\n",
              "        [1.7955, 0.4895, 1.2334]])"
            ]
          },
          "metadata": {},
          "execution_count": 23
        }
      ]
    },
    {
      "cell_type": "code",
      "source": [
        "m"
      ],
      "metadata": {
        "colab": {
          "base_uri": "https://localhost:8080/"
        },
        "id": "z5qZtvreUSnA",
        "outputId": "2725bb14-6104-43a3-f958-f70ea38cb9f9"
      },
      "execution_count": 24,
      "outputs": [
        {
          "output_type": "execute_result",
          "data": {
            "text/plain": [
              "tensor([[1.3196, 0.8310, 1.7383],\n",
              "        [1.7955, 0.4895, 1.2334]])"
            ]
          },
          "metadata": {},
          "execution_count": 24
        }
      ]
    },
    {
      "cell_type": "markdown",
      "source": [
        "## **Copying a Tensor**"
      ],
      "metadata": {
        "id": "etNcEeEJUct3"
      }
    },
    {
      "cell_type": "code",
      "source": [
        "a = torch.rand(2,3)\n",
        "a"
      ],
      "metadata": {
        "colab": {
          "base_uri": "https://localhost:8080/"
        },
        "id": "2Wq2bBTRUUGx",
        "outputId": "b6231c6f-a55a-4c5d-f8a2-4e45955b8170"
      },
      "execution_count": 25,
      "outputs": [
        {
          "output_type": "execute_result",
          "data": {
            "text/plain": [
              "tensor([[0.2345, 0.5242, 0.1845],\n",
              "        [0.6297, 0.4038, 0.9418]])"
            ]
          },
          "metadata": {},
          "execution_count": 25
        }
      ]
    },
    {
      "cell_type": "code",
      "source": [
        "b = a"
      ],
      "metadata": {
        "id": "pEHESFULUfzp"
      },
      "execution_count": 26,
      "outputs": []
    },
    {
      "cell_type": "code",
      "source": [
        "b"
      ],
      "metadata": {
        "colab": {
          "base_uri": "https://localhost:8080/"
        },
        "id": "dyyvZFl7Uhb4",
        "outputId": "5c249792-a7f9-464b-cba7-5cd1b91d9206"
      },
      "execution_count": 27,
      "outputs": [
        {
          "output_type": "execute_result",
          "data": {
            "text/plain": [
              "tensor([[0.2345, 0.5242, 0.1845],\n",
              "        [0.6297, 0.4038, 0.9418]])"
            ]
          },
          "metadata": {},
          "execution_count": 27
        }
      ]
    },
    {
      "cell_type": "code",
      "source": [
        "a[0][0] = 0\n",
        "a"
      ],
      "metadata": {
        "colab": {
          "base_uri": "https://localhost:8080/"
        },
        "id": "XXxVnnNGUiWG",
        "outputId": "cf7200ca-be22-40cc-99e9-741c7fa80e26"
      },
      "execution_count": 29,
      "outputs": [
        {
          "output_type": "execute_result",
          "data": {
            "text/plain": [
              "tensor([[0.0000, 0.5242, 0.1845],\n",
              "        [0.6297, 0.4038, 0.9418]])"
            ]
          },
          "metadata": {},
          "execution_count": 29
        }
      ]
    },
    {
      "cell_type": "code",
      "source": [
        "b"
      ],
      "metadata": {
        "colab": {
          "base_uri": "https://localhost:8080/"
        },
        "id": "6esLvvYzUkPC",
        "outputId": "64d9092f-7390-42b1-fd63-b7acecc7453d"
      },
      "execution_count": 30,
      "outputs": [
        {
          "output_type": "execute_result",
          "data": {
            "text/plain": [
              "tensor([[0.0000, 0.5242, 0.1845],\n",
              "        [0.6297, 0.4038, 0.9418]])"
            ]
          },
          "metadata": {},
          "execution_count": 30
        }
      ]
    },
    {
      "cell_type": "code",
      "source": [
        "id(a) == id(b)"
      ],
      "metadata": {
        "colab": {
          "base_uri": "https://localhost:8080/"
        },
        "id": "R_cBRgLsUmE_",
        "outputId": "dd9050cd-d894-4de4-b91d-72aed9257af2"
      },
      "execution_count": 31,
      "outputs": [
        {
          "output_type": "execute_result",
          "data": {
            "text/plain": [
              "True"
            ]
          },
          "metadata": {},
          "execution_count": 31
        }
      ]
    },
    {
      "cell_type": "code",
      "source": [
        "b = a.clone()\n",
        "b"
      ],
      "metadata": {
        "colab": {
          "base_uri": "https://localhost:8080/"
        },
        "id": "fDnRfTi5UpEh",
        "outputId": "f19a2ae6-a269-4b73-ddc3-1a6a69ba121a"
      },
      "execution_count": 33,
      "outputs": [
        {
          "output_type": "execute_result",
          "data": {
            "text/plain": [
              "tensor([[0.0000, 0.5242, 0.1845],\n",
              "        [0.6297, 0.4038, 0.9418]])"
            ]
          },
          "metadata": {},
          "execution_count": 33
        }
      ]
    },
    {
      "cell_type": "code",
      "source": [
        "a[0][0] = 10"
      ],
      "metadata": {
        "id": "eyqmGvluUsdI"
      },
      "execution_count": 34,
      "outputs": []
    },
    {
      "cell_type": "code",
      "source": [
        "print(a)\n",
        "print(b)"
      ],
      "metadata": {
        "colab": {
          "base_uri": "https://localhost:8080/"
        },
        "id": "sn-VdAX6UxD3",
        "outputId": "1cc83e4f-45c1-4adb-b46d-f2b084e9a616"
      },
      "execution_count": 36,
      "outputs": [
        {
          "output_type": "stream",
          "name": "stdout",
          "text": [
            "tensor([[10.0000,  0.5242,  0.1845],\n",
            "        [ 0.6297,  0.4038,  0.9418]])\n",
            "tensor([[0.0000, 0.5242, 0.1845],\n",
            "        [0.6297, 0.4038, 0.9418]])\n"
          ]
        }
      ]
    },
    {
      "cell_type": "code",
      "source": [
        "id(a) == id(b)"
      ],
      "metadata": {
        "colab": {
          "base_uri": "https://localhost:8080/"
        },
        "id": "71hIfcjAUyIv",
        "outputId": "c7364b47-26c6-4095-d07f-287dadfcd2a8"
      },
      "execution_count": 37,
      "outputs": [
        {
          "output_type": "execute_result",
          "data": {
            "text/plain": [
              "False"
            ]
          },
          "metadata": {},
          "execution_count": 37
        }
      ]
    },
    {
      "cell_type": "markdown",
      "source": [
        "## **Tensor operations on GPU**"
      ],
      "metadata": {
        "id": "DA1xd9tUU7nd"
      }
    },
    {
      "cell_type": "code",
      "source": [
        "torch.cuda.is_available()"
      ],
      "metadata": {
        "colab": {
          "base_uri": "https://localhost:8080/"
        },
        "id": "_z_9-ToOU1pH",
        "outputId": "55d8100e-0c16-434a-85bc-3e87ca96765b"
      },
      "execution_count": 5,
      "outputs": [
        {
          "output_type": "execute_result",
          "data": {
            "text/plain": [
              "True"
            ]
          },
          "metadata": {},
          "execution_count": 5
        }
      ]
    },
    {
      "cell_type": "code",
      "source": [
        "# torch.device(\"cuda\" if torch.cuda.is_available() else \"cpu\")\n",
        "device = torch.device(\"cuda\")"
      ],
      "metadata": {
        "id": "WcNq85tAVP6J"
      },
      "execution_count": 12,
      "outputs": []
    },
    {
      "cell_type": "code",
      "source": [
        "device"
      ],
      "metadata": {
        "colab": {
          "base_uri": "https://localhost:8080/"
        },
        "id": "EXS0_hKFVaSw",
        "outputId": "7cea8271-b3d7-4852-9e69-7847ad029e17"
      },
      "execution_count": 13,
      "outputs": [
        {
          "output_type": "execute_result",
          "data": {
            "text/plain": [
              "device(type='cuda')"
            ]
          },
          "metadata": {},
          "execution_count": 13
        }
      ]
    },
    {
      "cell_type": "code",
      "source": [
        "torch.rand((2,3), device = device)"
      ],
      "metadata": {
        "colab": {
          "base_uri": "https://localhost:8080/"
        },
        "id": "up7mhJrgVfiJ",
        "outputId": "b677f156-6696-4830-b164-b403357821fc"
      },
      "execution_count": 14,
      "outputs": [
        {
          "output_type": "execute_result",
          "data": {
            "text/plain": [
              "tensor([[0.8174, 0.3920, 0.9658],\n",
              "        [0.0508, 0.4326, 0.2459]], device='cuda:0')"
            ]
          },
          "metadata": {},
          "execution_count": 14
        }
      ]
    },
    {
      "cell_type": "code",
      "source": [
        "a = torch.rand((2,3))  # Created o the cpu\n",
        "a"
      ],
      "metadata": {
        "colab": {
          "base_uri": "https://localhost:8080/"
        },
        "id": "VzIIXzxHVsfy",
        "outputId": "877fa323-6b51-4a74-c932-6c75e4a0716e"
      },
      "execution_count": 22,
      "outputs": [
        {
          "output_type": "execute_result",
          "data": {
            "text/plain": [
              "tensor([[0.0585, 0.8124, 0.8723],\n",
              "        [0.5936, 0.7118, 0.0533]])"
            ]
          },
          "metadata": {},
          "execution_count": 22
        }
      ]
    },
    {
      "cell_type": "code",
      "source": [
        "b = a.to(device)  # moved to GPU\n",
        "b"
      ],
      "metadata": {
        "colab": {
          "base_uri": "https://localhost:8080/"
        },
        "id": "3XHRu9f0V6Yh",
        "outputId": "d24f9703-c273-46c5-bd54-a8b924d1c2cf"
      },
      "execution_count": 23,
      "outputs": [
        {
          "output_type": "execute_result",
          "data": {
            "text/plain": [
              "tensor([[0.0585, 0.8124, 0.8723],\n",
              "        [0.5936, 0.7118, 0.0533]], device='cuda:0')"
            ]
          },
          "metadata": {},
          "execution_count": 23
        }
      ]
    },
    {
      "cell_type": "code",
      "source": [
        "import time\n",
        "\n",
        "# Define the size of the matrices\n",
        "size = 10000  # Large size for performance comparison\n",
        "\n",
        "# Create random matrices on CPU\n",
        "matrix_cpu1 = torch.randn(size, size)\n",
        "matrix_cpu2 = torch.randn(size, size)\n",
        "\n",
        "# Measure time on CPU\n",
        "start_time = time.time()\n",
        "result_cpu = torch.matmul(matrix_cpu1, matrix_cpu2)  # Matrix multiplication on CPU\n",
        "cpu_time = time.time() - start_time\n",
        "\n",
        "print(f\"Time on CPU: {cpu_time:.4f} seconds\")\n",
        "\n",
        "# Move matrices to GPU\n",
        "matrix_gpu1 = matrix_cpu1.to('cuda')\n",
        "matrix_gpu2 = matrix_cpu2.to('cuda')\n",
        "\n",
        "# Measure time on GPU\n",
        "start_time = time.time()\n",
        "result_gpu = torch.matmul(matrix_gpu1, matrix_gpu2)  # Matrix multiplication on GPU\n",
        "torch.cuda.synchronize()  # Ensure all GPU operations are complete\n",
        "gpu_time = time.time() - start_time\n",
        "print(f\"Time on GPU: {gpu_time:.4f} seconds\")\n",
        "\n",
        "# Compare Results\n",
        "print(\"\\n Speedup (CPU Time / GPU Time)\", cpu_time / gpu_time)"
      ],
      "metadata": {
        "colab": {
          "base_uri": "https://localhost:8080/"
        },
        "id": "4E2EGFy9V7Bj",
        "outputId": "3d7026bd-749b-42a2-e8ed-4e331746b85a"
      },
      "execution_count": 27,
      "outputs": [
        {
          "output_type": "stream",
          "name": "stdout",
          "text": [
            "Time on CPU: 25.3554 seconds\n",
            "Time on GPU: 0.5354 seconds\n",
            "\n",
            " Speedup (CPU Time / GPU Time) 47.35684399708595\n"
          ]
        }
      ]
    },
    {
      "cell_type": "markdown",
      "source": [
        "## **Reshaping Tensors**"
      ],
      "metadata": {
        "id": "oJNWDQqwXMyT"
      }
    },
    {
      "cell_type": "code",
      "source": [
        "a = torch.ones(4,4)\n",
        "a"
      ],
      "metadata": {
        "colab": {
          "base_uri": "https://localhost:8080/"
        },
        "id": "GwWyqsQrWgpR",
        "outputId": "812152bc-06ce-492e-e624-2da4d4706d8d"
      },
      "execution_count": 29,
      "outputs": [
        {
          "output_type": "execute_result",
          "data": {
            "text/plain": [
              "tensor([[1., 1., 1., 1.],\n",
              "        [1., 1., 1., 1.],\n",
              "        [1., 1., 1., 1.],\n",
              "        [1., 1., 1., 1.]])"
            ]
          },
          "metadata": {},
          "execution_count": 29
        }
      ]
    },
    {
      "cell_type": "code",
      "source": [
        "# reshape\n",
        "a.reshape(2,2,2,2)"
      ],
      "metadata": {
        "colab": {
          "base_uri": "https://localhost:8080/"
        },
        "id": "ATM-tpCvXWh1",
        "outputId": "a5132ec3-57f9-407d-adc3-f5c5f62f824c"
      },
      "execution_count": 31,
      "outputs": [
        {
          "output_type": "execute_result",
          "data": {
            "text/plain": [
              "tensor([[[[1., 1.],\n",
              "          [1., 1.]],\n",
              "\n",
              "         [[1., 1.],\n",
              "          [1., 1.]]],\n",
              "\n",
              "\n",
              "        [[[1., 1.],\n",
              "          [1., 1.]],\n",
              "\n",
              "         [[1., 1.],\n",
              "          [1., 1.]]]])"
            ]
          },
          "metadata": {},
          "execution_count": 31
        }
      ]
    },
    {
      "cell_type": "code",
      "source": [
        "# flatten\n",
        "a.flatten()"
      ],
      "metadata": {
        "colab": {
          "base_uri": "https://localhost:8080/"
        },
        "id": "AtKO-2HXXb3L",
        "outputId": "dafbf66a-12e6-498e-a261-777739a46b6d"
      },
      "execution_count": 33,
      "outputs": [
        {
          "output_type": "execute_result",
          "data": {
            "text/plain": [
              "tensor([1., 1., 1., 1., 1., 1., 1., 1., 1., 1., 1., 1., 1., 1., 1., 1.])"
            ]
          },
          "metadata": {},
          "execution_count": 33
        }
      ]
    },
    {
      "cell_type": "code",
      "source": [
        "b = torch.rand(2,3,4)\n",
        "b"
      ],
      "metadata": {
        "colab": {
          "base_uri": "https://localhost:8080/"
        },
        "id": "R6KePFj2Xk34",
        "outputId": "ce0b8ca6-07f2-45b5-c901-473454ab947a"
      },
      "execution_count": 34,
      "outputs": [
        {
          "output_type": "execute_result",
          "data": {
            "text/plain": [
              "tensor([[[0.1154, 0.5564, 0.2507, 0.2598],\n",
              "         [0.0209, 0.1208, 0.4840, 0.2909],\n",
              "         [0.5609, 0.4294, 0.9728, 0.8766]],\n",
              "\n",
              "        [[0.9416, 0.3617, 0.7721, 0.4217],\n",
              "         [0.5923, 0.6186, 0.3640, 0.6853],\n",
              "         [0.1000, 0.2020, 0.2899, 0.5878]]])"
            ]
          },
          "metadata": {},
          "execution_count": 34
        }
      ]
    },
    {
      "cell_type": "code",
      "source": [
        "# permute\n",
        "b.permute(2,0,1) # mention the index number of shape\n",
        "b.permute(2,0,1).shape"
      ],
      "metadata": {
        "colab": {
          "base_uri": "https://localhost:8080/"
        },
        "id": "cpX8RHpvXrbx",
        "outputId": "368a61f4-69e8-404d-f7c6-5f55a57e91a9"
      },
      "execution_count": 36,
      "outputs": [
        {
          "output_type": "execute_result",
          "data": {
            "text/plain": [
              "torch.Size([4, 2, 3])"
            ]
          },
          "metadata": {},
          "execution_count": 36
        }
      ]
    },
    {
      "cell_type": "code",
      "source": [
        "# unsqueeze : adds an extra dimension in the specified index position\n",
        "# image size\n",
        "c = torch.rand(226,226,3)\n",
        "c.unsqueeze(0).shape"
      ],
      "metadata": {
        "colab": {
          "base_uri": "https://localhost:8080/"
        },
        "id": "V6dEoMc8X5Ul",
        "outputId": "d7d469a8-6eb0-43de-fe5b-aafc94c6dba2"
      },
      "execution_count": 38,
      "outputs": [
        {
          "output_type": "execute_result",
          "data": {
            "text/plain": [
              "torch.Size([1, 226, 226, 3])"
            ]
          },
          "metadata": {},
          "execution_count": 38
        }
      ]
    },
    {
      "cell_type": "code",
      "source": [
        "# squeeze : removes the dimension at the specified index\n",
        "c = torch.rand(1,20)\n",
        "c.squeeze(0).shape"
      ],
      "metadata": {
        "colab": {
          "base_uri": "https://localhost:8080/"
        },
        "id": "AgIbq6ybYfkV",
        "outputId": "6c496e61-5363-40a9-86f4-47db27f2034f"
      },
      "execution_count": 41,
      "outputs": [
        {
          "output_type": "execute_result",
          "data": {
            "text/plain": [
              "torch.Size([20])"
            ]
          },
          "metadata": {},
          "execution_count": 41
        }
      ]
    },
    {
      "cell_type": "markdown",
      "source": [
        "## **NumPy and PyTorch**"
      ],
      "metadata": {
        "id": "e1sdOVBcY9ov"
      }
    },
    {
      "cell_type": "code",
      "source": [
        "import numpy as np"
      ],
      "metadata": {
        "id": "TzmgyyTbYrsP"
      },
      "execution_count": 45,
      "outputs": []
    },
    {
      "cell_type": "code",
      "source": [
        "a = torch.tensor([1, 2, 3])\n",
        "a"
      ],
      "metadata": {
        "colab": {
          "base_uri": "https://localhost:8080/"
        },
        "id": "BI7tdmWOZKgU",
        "outputId": "e7487483-0cb1-4080-8f95-8bae64350146"
      },
      "execution_count": 46,
      "outputs": [
        {
          "output_type": "execute_result",
          "data": {
            "text/plain": [
              "tensor([1, 2, 3])"
            ]
          },
          "metadata": {},
          "execution_count": 46
        }
      ]
    },
    {
      "cell_type": "code",
      "source": [
        "b = a.numpy()  # to convert tensor to numpy"
      ],
      "metadata": {
        "id": "uNi4Wi_yZN3d"
      },
      "execution_count": 52,
      "outputs": []
    },
    {
      "cell_type": "code",
      "source": [
        "print(b)\n",
        "type(b)"
      ],
      "metadata": {
        "colab": {
          "base_uri": "https://localhost:8080/"
        },
        "id": "z3AtPB5qZUnQ",
        "outputId": "bfb4c4a5-1f08-44a3-f315-5516d33314d8"
      },
      "execution_count": 53,
      "outputs": [
        {
          "output_type": "stream",
          "name": "stdout",
          "text": [
            "[1 2 3]\n"
          ]
        },
        {
          "output_type": "execute_result",
          "data": {
            "text/plain": [
              "numpy.ndarray"
            ]
          },
          "metadata": {},
          "execution_count": 53
        }
      ]
    },
    {
      "cell_type": "code",
      "source": [
        "c = np.array([4, 5, 6])\n",
        "c"
      ],
      "metadata": {
        "colab": {
          "base_uri": "https://localhost:8080/"
        },
        "id": "sUEx4s3qZa-G",
        "outputId": "0b4ef4a7-38c7-4d38-b025-55d9031170ef"
      },
      "execution_count": 54,
      "outputs": [
        {
          "output_type": "execute_result",
          "data": {
            "text/plain": [
              "array([4, 5, 6])"
            ]
          },
          "metadata": {},
          "execution_count": 54
        }
      ]
    },
    {
      "cell_type": "code",
      "source": [
        "d = torch.from_numpy(c) # to convert numpy to tensor"
      ],
      "metadata": {
        "id": "e4rXgMPTZh7n"
      },
      "execution_count": 55,
      "outputs": []
    },
    {
      "cell_type": "code",
      "source": [
        "print(d)\n",
        "type(d)"
      ],
      "metadata": {
        "colab": {
          "base_uri": "https://localhost:8080/"
        },
        "id": "m9AfzTqMZmEL",
        "outputId": "4bca4fd8-3ff0-464c-9c5b-0666ee5c1f21"
      },
      "execution_count": 56,
      "outputs": [
        {
          "output_type": "stream",
          "name": "stdout",
          "text": [
            "tensor([4, 5, 6])\n"
          ]
        },
        {
          "output_type": "execute_result",
          "data": {
            "text/plain": [
              "torch.Tensor"
            ]
          },
          "metadata": {},
          "execution_count": 56
        }
      ]
    }
  ]
}