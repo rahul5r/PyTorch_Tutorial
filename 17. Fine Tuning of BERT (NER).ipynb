{
 "cells": [
  {
   "cell_type": "code",
   "execution_count": 1,
   "metadata": {
    "id": "hdVL8FFXHy_t"
   },
   "outputs": [],
   "source": [
    "%%capture\n",
    "!pip install datasets --no-build-isolation\n",
    "!pip install seqeval\n",
    "!pip install transformers[torch]"
   ]
  },
  {
   "cell_type": "code",
   "execution_count": 2,
   "metadata": {
    "id": "NN7gox7VIICl"
   },
   "outputs": [],
   "source": [
    "from datasets import load_dataset\n",
    "from transformers import AutoTokenizer, AutoModelForTokenClassification, TrainingArguments, Trainer, DataCollatorForTokenClassification\n",
    "import torch\n",
    "import numpy as np\n",
    "from datasets import load_metric"
   ]
  },
  {
   "cell_type": "markdown",
   "metadata": {
    "id": "hQKQZn9kJVt6"
   },
   "source": [
    "# CoNLL-2003 Dataset Description\n",
    "\n",
    "The CoNLL-2003 dataset is widely used for training and evaluating Named Entity Recognition (NER) models. The dataset focuses on four types of named entities: persons (PER), locations (LOC), organizations (ORG), and miscellaneous entities (MISC).\n",
    "\n",
    "## Dataset Structure:\n",
    "Each data file contains four columns separated by a single space:\n",
    "1. Word\n",
    "2. Part-of-Speech (POS) tag\n",
    "3. Syntactic chunk tag\n",
    "4. Named entity tag\n",
    "\n",
    "Words are listed on separate lines, and sentences are separated by a blank line.\n",
    "The chunk and named entity tags follow the IOB2 tagging scheme:\n",
    "- `B-TYPE`: Beginning of a phrase of type TYPE\n",
    "- `I-TYPE`: Inside a phrase of type TYPE\n",
    "- `O`: Outside any named entity phrase\n",
    "\n",
    "## Example:\n",
    "```python\n",
    "{\n",
    "    \"chunk_tags\": [11, 12, 12, 21, 13, 11, 11, 21, 13, 11, 12, 13, 11, 21, 22, 11, 12, 17, 11, 21, 17, 11, 12, 12, 21, 22, 22, 13, 11, 0],\n",
    "    \"id\": \"0\",\n",
    "    \"ner_tags\": [0, 3, 4, 0, 0, 0, 0, 0, 0, 7, 0, 0, 0, 0, 0, 7, 0, 0, 0, 0, 0, 0, 0, 0, 0, 0, 0, 0, 0, 0],\n",
    "    \"pos_tags\": [12, 22, 22, 38, 15, 22, 28, 38, 15, 16, 21, 35, 24, 35, 37, 16, 21, 15, 24, 41, 15, 16, 21, 21, 20, 37, 40, 35, 21, 7],\n",
    "    \"tokens\": [\"The\", \"European\", \"Commission\", \"said\", \"on\", \"Thursday\", \"it\", \"disagreed\", \"with\", \"German\", \"advice\", \"to\", \"consumers\", \"to\", \"shun\", \"British\", \"lamb\", \"until\", \"scientists\", \"determine\", \"whether\", \"mad\", \"cow\", \"disease\", \"can\", \"be\", \"transmitted\", \"to\", \"sheep\", \".\"]\n",
    "}\n"
   ]
  },
  {
   "cell_type": "markdown",
   "metadata": {
    "id": "xtPoZnKFsu_I"
   },
   "source": [
    "## Named Entity Tags\n",
    "- **O**: Outside a named entity\n",
    "- **B-PER**: Beginning of a person's name\n",
    "- **I-PER**: Inside a person's name\n",
    "- **B-ORG**: Beginning of an organization name\n",
    "- **I-ORG**: Inside an organization name\n",
    "- **B-LOC**: Beginning of a location name\n",
    "- **I-LOC**: Inside a location name\n",
    "- **B-MISC**: Beginning of miscellaneous entity\n",
    "- **I-MISC**: Inside a miscellaneous entity\n"
   ]
  },
  {
   "cell_type": "code",
   "execution_count": 3,
   "metadata": {
    "colab": {
     "base_uri": "https://localhost:8080/",
     "height": 620,
     "referenced_widgets": [
      "f88285a260704946bfc7c25802ec92f5",
      "1283e8e1d25a48519d7d2398ad2fc996",
      "183e7ae12e4a45ef940bbf7979ee8bf6",
      "6bf530a445d04a0d977e814f07d3b73b",
      "6041bc2badd4409d8b6d312eea92c6f6",
      "06788b29fcc6485488c68e9bba7f3d44",
      "66bf3fe77bd7494cabe16d5ffe9d4974",
      "8ad8e2691f1541bd8ee2834f7bcf9cca",
      "83b68f8923ef47debfad375c965dbc32",
      "48ac0113ce474af4b7e6131021064d83",
      "5a54627e010e4626bde153b92e7340a7",
      "8396141db4064fdc85dd2e4ec1542431",
      "957d6662759b4945868ef228952c8db9",
      "a26a2ce2a41c480abcdfdeb855efa627",
      "92783501db2f440f9151ef9b08df91e5",
      "f52f88c2f2b64d5881360cb2ea4a371f",
      "790e8a5edbcb4324b12f21fbb21c977f",
      "1c2984bc0ffd4eacb3c8807a40f17162",
      "2ea0dceb28ae4b97bb7ef18f1e508755",
      "54d417a03d8148f6a4688f3f700a562e",
      "6e02981ef6e04779bbf58d7759cdfe04",
      "b92f219bce94414da8cb192d23fa672f",
      "a840cb098b5842d2b37ecf8c045bae59",
      "e75c5d1ade4c44d5a042b2a20cafe40b",
      "1d8d92dda7064a238e586912022281cb",
      "3ef843c1a4da48f6b9dcd56dec805bb5",
      "ca776f383d49428b81cac89e7f8af0de",
      "e6ddf09d1a3f4ea19d9a42bbe03155d1",
      "f1b1099738624323a1144093b18cbffe",
      "8ab07f5089d6441394338163ec3d8a1c",
      "2cf2c40b88e345c4829857270790404c",
      "d4e4d7643bdd436e86b80deb27a9b2de",
      "a3c04d5299e64c05933644fc1792acc2",
      "0376475705e349088c17c6f2e4066362",
      "6dc2c7c194494a068b40eb9a646cbeb7",
      "7b333d229c804010b8b7e41c405d81a7",
      "5b5e7ca86ede4214a8af68ce15454ab9",
      "08aa8b819f35446487840c8747df9c04",
      "8941ba92f6ca40ef9197080697da7219",
      "bebd7fbaeb234054830598f2a3f9117e",
      "add8b64dbc9342bd9ac9a5d2358e6876",
      "130b0605241841faa9c8f023da069812",
      "74af4a5607d14319b279e17007543d86",
      "21deccb16aa747b39b4dc653f080c0da",
      "54d44d4a26ab4949abc0f9df74c7eaa6",
      "874528049c7e4dd1b2ca038b0cefe17f",
      "818454e6b1934266ba54e1547b6f021b",
      "372a2b0ae0b6422486d18f0ce8f393a3",
      "1d1b051e8f7d4192af950028aea2b910",
      "243d156d115e4e35b9cf792210fc9d3b",
      "0eb198a4085a40d9a399e7a28bb6a91d",
      "224ce19c65e147c29977b9f3f67275d0",
      "d7b3924193a54db3b7111d69a8e8e862",
      "6ecbb2601f69447bb87aca6bfc1029f5",
      "9a97333d702741409b44f82f14eb0212",
      "25326d929de24ee29e5dced18d4bfba6",
      "bfea5288b01346eba5ea6f8e08b2b05b",
      "2f95381c08a34663a2d7890cb9851c38",
      "52b82facbfe24822921b30ed2f469586",
      "12872c5e624f4449aabac85d51e4ccf4",
      "6293df8958974992ab01ec710931f2b4",
      "692aac4175524bb4bb8d8b6ea53e78b7",
      "277a2e4184234d7198f9c09795f01035",
      "b694f994d71b4a268d27681fde47b209",
      "3b7c5d5763194e53a26d49a325bc6f52",
      "e1ab650ea6e84e758885f82ae1cbfa54"
     ]
    },
    "id": "kM4sApvgIlJs",
    "outputId": "61a6862d-7f4c-41c9-e479-651a9cf8597f"
   },
   "outputs": [
    {
     "name": "stderr",
     "output_type": "stream",
     "text": [
      "/usr/local/lib/python3.11/dist-packages/huggingface_hub/utils/_auth.py:94: UserWarning: \n",
      "The secret `HF_TOKEN` does not exist in your Colab secrets.\n",
      "To authenticate with the Hugging Face Hub, create a token in your settings tab (https://huggingface.co/settings/tokens), set it as secret in your Google Colab and restart your session.\n",
      "You will be able to reuse this secret in all of your notebooks.\n",
      "Please note that authentication is recommended but still optional to access public models or datasets.\n",
      "  warnings.warn(\n"
     ]
    },
    {
     "data": {
      "application/vnd.jupyter.widget-view+json": {
       "model_id": "f88285a260704946bfc7c25802ec92f5",
       "version_major": 2,
       "version_minor": 0
      },
      "text/plain": [
       "Downloading builder script:   0%|          | 0.00/9.57k [00:00<?, ?B/s]"
      ]
     },
     "metadata": {},
     "output_type": "display_data"
    },
    {
     "data": {
      "application/vnd.jupyter.widget-view+json": {
       "model_id": "8396141db4064fdc85dd2e4ec1542431",
       "version_major": 2,
       "version_minor": 0
      },
      "text/plain": [
       "Downloading readme:   0%|          | 0.00/12.3k [00:00<?, ?B/s]"
      ]
     },
     "metadata": {},
     "output_type": "display_data"
    },
    {
     "data": {
      "application/vnd.jupyter.widget-view+json": {
       "model_id": "a840cb098b5842d2b37ecf8c045bae59",
       "version_major": 2,
       "version_minor": 0
      },
      "text/plain": [
       "Downloading data:   0%|          | 0.00/983k [00:00<?, ?B/s]"
      ]
     },
     "metadata": {},
     "output_type": "display_data"
    },
    {
     "data": {
      "application/vnd.jupyter.widget-view+json": {
       "model_id": "0376475705e349088c17c6f2e4066362",
       "version_major": 2,
       "version_minor": 0
      },
      "text/plain": [
       "Generating train split:   0%|          | 0/14041 [00:00<?, ? examples/s]"
      ]
     },
     "metadata": {},
     "output_type": "display_data"
    },
    {
     "data": {
      "application/vnd.jupyter.widget-view+json": {
       "model_id": "54d44d4a26ab4949abc0f9df74c7eaa6",
       "version_major": 2,
       "version_minor": 0
      },
      "text/plain": [
       "Generating validation split:   0%|          | 0/3250 [00:00<?, ? examples/s]"
      ]
     },
     "metadata": {},
     "output_type": "display_data"
    },
    {
     "data": {
      "application/vnd.jupyter.widget-view+json": {
       "model_id": "25326d929de24ee29e5dced18d4bfba6",
       "version_major": 2,
       "version_minor": 0
      },
      "text/plain": [
       "Generating test split:   0%|          | 0/3453 [00:00<?, ? examples/s]"
      ]
     },
     "metadata": {},
     "output_type": "display_data"
    },
    {
     "ename": "NotImplementedError",
     "evalue": "Loading a dataset cached in a LocalFileSystem is not supported.",
     "output_type": "error",
     "traceback": [
      "\u001b[0;31m---------------------------------------------------------------------------\u001b[0m",
      "\u001b[0;31mNotImplementedError\u001b[0m                       Traceback (most recent call last)",
      "\u001b[0;32m<ipython-input-3-2932944477>\u001b[0m in \u001b[0;36m<cell line: 0>\u001b[0;34m()\u001b[0m\n\u001b[1;32m      1\u001b[0m \u001b[0;31m# Load dataset\u001b[0m\u001b[0;34m\u001b[0m\u001b[0;34m\u001b[0m\u001b[0m\n\u001b[0;32m----> 2\u001b[0;31m \u001b[0mdataset\u001b[0m \u001b[0;34m=\u001b[0m \u001b[0mload_dataset\u001b[0m\u001b[0;34m(\u001b[0m\u001b[0;34m\"conll2003\"\u001b[0m\u001b[0;34m)\u001b[0m\u001b[0;34m\u001b[0m\u001b[0;34m\u001b[0m\u001b[0m\n\u001b[0m",
      "\u001b[0;32m/usr/local/lib/python3.11/dist-packages/datasets/load.py\u001b[0m in \u001b[0;36mload_dataset\u001b[0;34m(path, name, data_dir, data_files, split, cache_dir, features, download_config, download_mode, verification_mode, ignore_verifications, keep_in_memory, save_infos, revision, token, use_auth_token, task, streaming, num_proc, storage_options, **config_kwargs)\u001b[0m\n\u001b[1;32m   2147\u001b[0m         \u001b[0mkeep_in_memory\u001b[0m \u001b[0;32mif\u001b[0m \u001b[0mkeep_in_memory\u001b[0m \u001b[0;32mis\u001b[0m \u001b[0;32mnot\u001b[0m \u001b[0;32mNone\u001b[0m \u001b[0;32melse\u001b[0m \u001b[0mis_small_dataset\u001b[0m\u001b[0;34m(\u001b[0m\u001b[0mbuilder_instance\u001b[0m\u001b[0;34m.\u001b[0m\u001b[0minfo\u001b[0m\u001b[0;34m.\u001b[0m\u001b[0mdataset_size\u001b[0m\u001b[0;34m)\u001b[0m\u001b[0;34m\u001b[0m\u001b[0;34m\u001b[0m\u001b[0m\n\u001b[1;32m   2148\u001b[0m     )\n\u001b[0;32m-> 2149\u001b[0;31m     \u001b[0mds\u001b[0m \u001b[0;34m=\u001b[0m \u001b[0mbuilder_instance\u001b[0m\u001b[0;34m.\u001b[0m\u001b[0mas_dataset\u001b[0m\u001b[0;34m(\u001b[0m\u001b[0msplit\u001b[0m\u001b[0;34m=\u001b[0m\u001b[0msplit\u001b[0m\u001b[0;34m,\u001b[0m \u001b[0mverification_mode\u001b[0m\u001b[0;34m=\u001b[0m\u001b[0mverification_mode\u001b[0m\u001b[0;34m,\u001b[0m \u001b[0min_memory\u001b[0m\u001b[0;34m=\u001b[0m\u001b[0mkeep_in_memory\u001b[0m\u001b[0;34m)\u001b[0m\u001b[0;34m\u001b[0m\u001b[0;34m\u001b[0m\u001b[0m\n\u001b[0m\u001b[1;32m   2150\u001b[0m     \u001b[0;31m# Rename and cast features to match task schema\u001b[0m\u001b[0;34m\u001b[0m\u001b[0;34m\u001b[0m\u001b[0m\n\u001b[1;32m   2151\u001b[0m     \u001b[0;32mif\u001b[0m \u001b[0mtask\u001b[0m \u001b[0;32mis\u001b[0m \u001b[0;32mnot\u001b[0m \u001b[0;32mNone\u001b[0m\u001b[0;34m:\u001b[0m\u001b[0;34m\u001b[0m\u001b[0;34m\u001b[0m\u001b[0m\n",
      "\u001b[0;32m/usr/local/lib/python3.11/dist-packages/datasets/builder.py\u001b[0m in \u001b[0;36mas_dataset\u001b[0;34m(self, split, run_post_process, verification_mode, ignore_verifications, in_memory)\u001b[0m\n\u001b[1;32m   1171\u001b[0m         \u001b[0mis_local\u001b[0m \u001b[0;34m=\u001b[0m \u001b[0;32mnot\u001b[0m \u001b[0mis_remote_filesystem\u001b[0m\u001b[0;34m(\u001b[0m\u001b[0mself\u001b[0m\u001b[0;34m.\u001b[0m\u001b[0m_fs\u001b[0m\u001b[0;34m)\u001b[0m\u001b[0;34m\u001b[0m\u001b[0;34m\u001b[0m\u001b[0m\n\u001b[1;32m   1172\u001b[0m         \u001b[0;32mif\u001b[0m \u001b[0;32mnot\u001b[0m \u001b[0mis_local\u001b[0m\u001b[0;34m:\u001b[0m\u001b[0;34m\u001b[0m\u001b[0;34m\u001b[0m\u001b[0m\n\u001b[0;32m-> 1173\u001b[0;31m             \u001b[0;32mraise\u001b[0m \u001b[0mNotImplementedError\u001b[0m\u001b[0;34m(\u001b[0m\u001b[0;34mf\"Loading a dataset cached in a {type(self._fs).__name__} is not supported.\"\u001b[0m\u001b[0;34m)\u001b[0m\u001b[0;34m\u001b[0m\u001b[0;34m\u001b[0m\u001b[0m\n\u001b[0m\u001b[1;32m   1174\u001b[0m         \u001b[0;32mif\u001b[0m \u001b[0;32mnot\u001b[0m \u001b[0mos\u001b[0m\u001b[0;34m.\u001b[0m\u001b[0mpath\u001b[0m\u001b[0;34m.\u001b[0m\u001b[0mexists\u001b[0m\u001b[0;34m(\u001b[0m\u001b[0mself\u001b[0m\u001b[0;34m.\u001b[0m\u001b[0m_output_dir\u001b[0m\u001b[0;34m)\u001b[0m\u001b[0;34m:\u001b[0m\u001b[0;34m\u001b[0m\u001b[0;34m\u001b[0m\u001b[0m\n\u001b[1;32m   1175\u001b[0m             raise FileNotFoundError(\n",
      "\u001b[0;31mNotImplementedError\u001b[0m: Loading a dataset cached in a LocalFileSystem is not supported."
     ]
    }
   ],
   "source": [
    "# Load dataset\n",
    "dataset = load_dataset(\"conll2003\")"
   ]
  },
  {
   "cell_type": "code",
   "execution_count": 4,
   "metadata": {
    "id": "TE8Ae-MjJGj7"
   },
   "outputs": [],
   "source": [
    "!mv /root/.cache/huggingface/datasets/conll2003 /content/"
   ]
  },
  {
   "cell_type": "code",
   "execution_count": null,
   "metadata": {
    "colab": {
     "base_uri": "https://localhost:8080/"
    },
    "id": "SJ_1dra6NrOv",
    "outputId": "6f47ff69-a28c-4ba9-eb4c-b59240c1fbbf"
   },
   "outputs": [
    {
     "name": "stdout",
     "output_type": "stream",
     "text": [
      "dataset_info.json      multi_news-train-00000-of-00002.arrow\n",
      "LICENSE\t\t       multi_news-train-00001-of-00002.arrow\n",
      "multi_news-test.arrow  multi_news-validation.arrow\n"
     ]
    }
   ],
   "source": [
    "!ls /content/multi_news/default/1.0.0/2f1f69a2bedc8ad1c5d8ae5148e4755ee7095f465c1c01ae8f85454342065a72/"
   ]
  },
  {
   "cell_type": "code",
   "execution_count": 5,
   "metadata": {
    "id": "u8cf8RNJMxp6"
   },
   "outputs": [],
   "source": [
    "from datasets import Dataset\n",
    "\n",
    "train_dataset = Dataset.from_file(\"/content/conll2003/conll2003/1.0.0/9a4d16a94f8674ba3466315300359b0acd891b68b6c8743ddf60b9c702adce98/conll2003-train.arrow\")\n",
    "test_dataset = Dataset.from_file(\"/content/conll2003/conll2003/1.0.0/9a4d16a94f8674ba3466315300359b0acd891b68b6c8743ddf60b9c702adce98/conll2003-test.arrow\")\n",
    "val_dataset = Dataset.from_file(\"/content/conll2003/conll2003/1.0.0/9a4d16a94f8674ba3466315300359b0acd891b68b6c8743ddf60b9c702adce98/conll2003-validation.arrow\")\n"
   ]
  },
  {
   "cell_type": "code",
   "execution_count": 7,
   "metadata": {
    "colab": {
     "base_uri": "https://localhost:8080/",
     "height": 145,
     "referenced_widgets": [
      "ebb623ff853e42d581bc6cbf8cb2243a",
      "b699cdc37e68488b815b72a2ccab59c3",
      "771879fb78374ae6aca1a9c26fc6dd94",
      "a636535001df4a219ba0712394547400",
      "4fa65d40b1f54c40876f4dff8f5e0993",
      "5396e59582094432a1045698639ba6cc",
      "b279ad2f26874ac3bade37f470f9e853",
      "8714b83b4f684f9ab9052df437db5b3c",
      "8c98f75c1a7640a0b51149b0bea7be6a",
      "3d26b106dcfd45e7877992aed8a0c005",
      "bb84418a6d9b4670ad3062e05ae3fda3",
      "56b9b992011247dab10b1d09aa1226e8",
      "682b29635957415ab572010f055e97d8",
      "14982ff75dfe4360838541efa6892360",
      "23836f600b82462eb2436ca56b7e95a6",
      "15e4f482b329423995c7a34784ddc512",
      "87d2984420f947ffb2c276f26bcf62f7",
      "7abf6b7b76ee403da304eafa49f1aacf",
      "f568fd35f85548e3bf2a8dad7b232aaa",
      "c123905945fe4bd1aced613740c006f7",
      "1e2a5f552bb54653aef6f09a17a40905",
      "fd4063a2e8db414980e9699cc6187233",
      "f0dd9324e658478282582eedad569be4",
      "05cf06660f5b4dd5ace2b6243153a7cb",
      "182e518fa7eb4fe09a20841965b792cd",
      "2b1c94fb836444d2a9fa3045c6b71d08",
      "6d2c2a7f010e4127ac28a1c75e7b73e5",
      "541d56460b5c476f95441577d58ef409",
      "7bee8e33742948e9a16e2dbe3fc18299",
      "c3b463dc8cc34fa88bdc1a7d7b4e8d0e",
      "e750ad248e7244cf9763f63986bcc17a",
      "e99a6193a8b74a9db84e820551079a33",
      "55dd17a495d94567bf2140e1e4af44d2",
      "fe35feb58c63442fa92bdbab73c5ca42",
      "e4e269452d4b4efc8bade2d4b2c68127",
      "7d53b6803d244d4cb81a4bc0ee2b0d44",
      "e2d4cfedcda347759ea610cd5c6eab32",
      "a3f0fb5132944b858ec7f6923281dc3f",
      "237baa25278d426bb5bec55f4978c2ca",
      "e846a618d9e04e478731d93579f1ebb1",
      "ef9d3925460b4a8c8d8f01af22229761",
      "3fd8a9f6f83e4a7cba8e3f968cc3488f",
      "d246d0b672334d52bafbe450b7527a24",
      "b66442634b6f41e1be57b7e6c2ec98ea"
     ]
    },
    "id": "wQEoIqz1M5-k",
    "outputId": "364684ed-dbd6-4d4e-871e-990cd94d74bc"
   },
   "outputs": [
    {
     "data": {
      "application/vnd.jupyter.widget-view+json": {
       "model_id": "ebb623ff853e42d581bc6cbf8cb2243a",
       "version_major": 2,
       "version_minor": 0
      },
      "text/plain": [
       "tokenizer_config.json:   0%|          | 0.00/49.0 [00:00<?, ?B/s]"
      ]
     },
     "metadata": {},
     "output_type": "display_data"
    },
    {
     "data": {
      "application/vnd.jupyter.widget-view+json": {
       "model_id": "56b9b992011247dab10b1d09aa1226e8",
       "version_major": 2,
       "version_minor": 0
      },
      "text/plain": [
       "config.json:   0%|          | 0.00/570 [00:00<?, ?B/s]"
      ]
     },
     "metadata": {},
     "output_type": "display_data"
    },
    {
     "data": {
      "application/vnd.jupyter.widget-view+json": {
       "model_id": "f0dd9324e658478282582eedad569be4",
       "version_major": 2,
       "version_minor": 0
      },
      "text/plain": [
       "vocab.txt:   0%|          | 0.00/213k [00:00<?, ?B/s]"
      ]
     },
     "metadata": {},
     "output_type": "display_data"
    },
    {
     "data": {
      "application/vnd.jupyter.widget-view+json": {
       "model_id": "fe35feb58c63442fa92bdbab73c5ca42",
       "version_major": 2,
       "version_minor": 0
      },
      "text/plain": [
       "tokenizer.json:   0%|          | 0.00/436k [00:00<?, ?B/s]"
      ]
     },
     "metadata": {},
     "output_type": "display_data"
    }
   ],
   "source": [
    "# Model checkpoint\n",
    "checkpoint = \"bert-base-cased\"\n",
    "# Load tokenizer\n",
    "tokenizer = AutoTokenizer.from_pretrained(checkpoint)"
   ]
  },
  {
   "cell_type": "markdown",
   "metadata": {
    "id": "m-635GIatZPZ"
   },
   "source": [
    "## Token Labeling in NER: Use of `-100`\n",
    "\n",
    "In Named Entity Recognition (NER) tasks, the label `-100` is commonly used to signify that certain tokens should be ignored during the loss calculation in model training. This approach helps focus the learning on meaningful parts of the data. Here's an overview of the types of tokens typically assigned a `-100` label:\n",
    "\n",
    "### 1. **Subsequent Sub-tokens**\n",
    "After a word is split into multiple sub-tokens, only the first sub-token receives the actual entity label. Subsequent sub-tokens receive `-100` to ensure that entity labels are not incorrectly assigned to fragments of words.\n",
    "\n",
    "### 2. **Special Tokens**\n",
    "Special tokens such as `[CLS]`, `[SEP]`, and `[PAD]` used for managing sequence boundaries and lengths in models like BERT are also assigned `-100` as they do not correspond to real words in the text.\n",
    "\n",
    "### 3. **Non-Entity Tokens**\n",
    "In certain training setups, tokens that do not correspond to any entity and are not the focus of the task might also be marked with `-100`, especially in cases of imbalanced datasets.\n",
    "\n",
    "### Example\n",
    "- **Sentence**: \"John lives in New York\"\n",
    "- **Tokens**: [\"[CLS]\", \"John\", \"lives\", \"in\", \"New\", \"York\", \"[SEP]\"]\n",
    "- **Labels**: [-100, \"B-PER\", \"O\", \"O\", \"B-LOC\", \"I-LOC\", -100]\n",
    "\n",
    "This labeling strategy is critical for efficient model training, ensuring that the model focuses only on relevant tokens.\n"
   ]
  },
  {
   "cell_type": "code",
   "execution_count": 11,
   "metadata": {
    "colab": {
     "base_uri": "https://localhost:8080/",
     "height": 113,
     "referenced_widgets": [
      "a0ea1cd8682541d78e496923bc38a113",
      "4e9473e49ec640799c73893b14960dda",
      "68d4f7e91c85425ca09f17c3030ff9df",
      "8a0096dfa38f4c2992c0b05b2ccedfce",
      "8427713554ba471ebebf77e15668ae23",
      "d4b8a5bcf2624a29933748aab4138438",
      "71cc53010730435a86f7a27f6ba88e64",
      "6259e44b82164e008037dc09cfe1d0d7",
      "db89bc450be74be18cb2e193a17b12b5",
      "73442c318b95494c92d43f1ff3444764",
      "0351e735353046278dcb825ef60c3b11",
      "c4c1e8acd61b44899e000bc42f967119",
      "8cd9c029e6864ded9ba07002b1c21714",
      "26bfe0c3d8dd41e1a9791a28aa0a88cf",
      "1b07b8b1fdd34f4bbb3feef2155e1902",
      "b7b9f5422ee2473e87e27fee6de1568a",
      "a431410010e14f7499565d68588071d6",
      "92be7d499e224bc9b96f022c9c20a31f",
      "fdd36334ec32491794c20c68fb43213b",
      "c41faa1a774249a9bcae11dff8a01856",
      "295838ff5eaa48c68a5d0807fef086e1",
      "ba5ab0d31a484077a3f510afc7661c20",
      "5d600ba87d0e4773a2c7348c6c39bc50",
      "7c7cbf8dd7f4417185213f6bdfbdbd59",
      "13d521111b934c5a9b278b271dac8c16",
      "4f7a9c2004bb4cf8b1780d1d863fff5c",
      "bce9e75676484b8cae83b315c4b9d056",
      "5b7cf2dc159d49678d77a645cf398852",
      "d9c44a901c6d44b49ea25b5d8bd6dcaf",
      "462cb96739374553bb45ecf405a81ad0",
      "a4f5ef818cb84ca7a7c579bb47d74cbf",
      "59a607b8eb2c45f89c9b9a92ab7bd3d5",
      "b5851238e7564ab5b7f646c0ec919bbd"
     ]
    },
    "id": "Qtae5SlYPUih",
    "outputId": "6698244d-ad04-40ee-8650-c3b9f7395356"
   },
   "outputs": [
    {
     "data": {
      "application/vnd.jupyter.widget-view+json": {
       "model_id": "a0ea1cd8682541d78e496923bc38a113",
       "version_major": 2,
       "version_minor": 0
      },
      "text/plain": [
       "Map:   0%|          | 0/3453 [00:00<?, ? examples/s]"
      ]
     },
     "metadata": {},
     "output_type": "display_data"
    },
    {
     "data": {
      "application/vnd.jupyter.widget-view+json": {
       "model_id": "c4c1e8acd61b44899e000bc42f967119",
       "version_major": 2,
       "version_minor": 0
      },
      "text/plain": [
       "Map:   0%|          | 0/3453 [00:00<?, ? examples/s]"
      ]
     },
     "metadata": {},
     "output_type": "display_data"
    },
    {
     "data": {
      "application/vnd.jupyter.widget-view+json": {
       "model_id": "5d600ba87d0e4773a2c7348c6c39bc50",
       "version_major": 2,
       "version_minor": 0
      },
      "text/plain": [
       "Map:   0%|          | 0/3250 [00:00<?, ? examples/s]"
      ]
     },
     "metadata": {},
     "output_type": "display_data"
    }
   ],
   "source": [
    "# Tokenize and align labels without fixed padding\n",
    "def tokenize_and_align_labels(examples):\n",
    "    tokenized_inputs = tokenizer(examples[\"tokens\"], truncation=True, is_split_into_words=True)\n",
    "    labels = []\n",
    "    for i, label in enumerate(examples[\"ner_tags\"]):\n",
    "        word_ids = tokenized_inputs.word_ids(batch_index=i)\n",
    "        previous_word_idx = None\n",
    "        label_ids = []\n",
    "        for word_idx in word_ids:\n",
    "            if word_idx is None:\n",
    "                label_ids.append(-100)\n",
    "            elif word_idx != previous_word_idx:\n",
    "                label_ids.append(label[word_idx])\n",
    "            else:\n",
    "                label_ids.append(-100)\n",
    "            previous_word_idx = word_idx\n",
    "        labels.append(label_ids)\n",
    "    tokenized_inputs[\"labels\"] = labels\n",
    "    return tokenized_inputs\n",
    "\n",
    "tokenized_test_dataset = test_dataset.map(tokenize_and_align_labels, batched=True)\n",
    "tokenized_train_dataset = test_dataset.map(tokenize_and_align_labels, batched=True)\n",
    "tokenized_val_dataset = val_dataset.map(tokenize_and_align_labels, batched=True)"
   ]
  },
  {
   "cell_type": "code",
   "execution_count": 12,
   "metadata": {
    "colab": {
     "base_uri": "https://localhost:8080/",
     "height": 104,
     "referenced_widgets": [
      "00f26fc03b5b476d888b6307d5866363",
      "cf3100edfccd42c0811251d336d9a798",
      "29c4d8c1d72e4f1fb9480a64914a1066",
      "3aee3696d7a94775940c6bbe88f92cdc",
      "9fd2da72417b425e821b09c548ea1866",
      "56083f9fdb164d01b00b75d497f0ca5e",
      "a60372863b334d7e846652c056ddc1b2",
      "ec84e8d99a0d4cc58926f5867ea6287c",
      "cbd9364d3ebc4e70855c125dd08560d8",
      "e39fc40edbe241a7abe2258af3e03942",
      "69d2da5088f143cd8a5ea1d8e52cc3a8"
     ]
    },
    "id": "sRKZI1NIQDws",
    "outputId": "f9bd52db-dcd2-4fb4-e125-b5cd1a3c2653"
   },
   "outputs": [
    {
     "data": {
      "application/vnd.jupyter.widget-view+json": {
       "model_id": "00f26fc03b5b476d888b6307d5866363",
       "version_major": 2,
       "version_minor": 0
      },
      "text/plain": [
       "model.safetensors:   0%|          | 0.00/436M [00:00<?, ?B/s]"
      ]
     },
     "metadata": {},
     "output_type": "display_data"
    },
    {
     "name": "stderr",
     "output_type": "stream",
     "text": [
      "Some weights of BertForTokenClassification were not initialized from the model checkpoint at bert-base-cased and are newly initialized: ['classifier.bias', 'classifier.weight']\n",
      "You should probably TRAIN this model on a down-stream task to be able to use it for predictions and inference.\n"
     ]
    }
   ],
   "source": [
    "# Load pre-trained model\n",
    "model = AutoModelForTokenClassification.from_pretrained(checkpoint, num_labels=9)"
   ]
  },
  {
   "cell_type": "markdown",
   "metadata": {
    "id": "zAMGsQELuBlE"
   },
   "source": [
    "`seqeval` is a Python framework for sequence labeling evaluation. seqeval can evaluate the performance of chunking tasks such as named-entity recognition, part-of-speech tagging, semantic role labeling and so on."
   ]
  },
  {
   "cell_type": "code",
   "execution_count": 13,
   "metadata": {
    "colab": {
     "base_uri": "https://localhost:8080/",
     "height": 104,
     "referenced_widgets": [
      "abff6cef4fc64645abd2c75faf805c18",
      "3217260b37444f848809d627633df5c7",
      "37187cb8bddd456b8102be8f89acc381",
      "cda2919d030e4622aefc20b68eec2afa",
      "4edfec0baab44e549580e0e526139f84",
      "5415f2a70fd74129b6170726c6b1bad2",
      "ff289b89ff60445088a1b4cf7f83955f",
      "84dbdd214bd3445fa09c058fa0a86565",
      "c6a8a272d52c41289a956c0d8f600026",
      "8a01a69b205e4279ae755f278fe41a72",
      "95d32038cda74a4ba221a56514c30238"
     ]
    },
    "id": "EoQqp5CGQJyB",
    "outputId": "01208cd2-8a70-43ef-83c4-0d0801f08273"
   },
   "outputs": [
    {
     "name": "stderr",
     "output_type": "stream",
     "text": [
      "<ipython-input-13-2746363108>:2: FutureWarning: load_metric is deprecated and will be removed in the next major version of datasets. Use 'evaluate.load' instead, from the new library 🤗 Evaluate: https://huggingface.co/docs/evaluate\n",
      "  metric = load_metric(\"seqeval\")\n"
     ]
    },
    {
     "data": {
      "application/vnd.jupyter.widget-view+json": {
       "model_id": "abff6cef4fc64645abd2c75faf805c18",
       "version_major": 2,
       "version_minor": 0
      },
      "text/plain": [
       "Downloading builder script:   0%|          | 0.00/2.47k [00:00<?, ?B/s]"
      ]
     },
     "metadata": {},
     "output_type": "display_data"
    }
   ],
   "source": [
    "# Load seqeval metric\n",
    "metric = load_metric(\"seqeval\")\n",
    "\n",
    "# Define compute_metrics function\n",
    "def compute_metrics(p):\n",
    "    predictions, labels = p\n",
    "    predictions = np.argmax(predictions, axis=2)\n",
    "\n",
    "    # Remove ignored index (special tokens)\n",
    "    true_labels = [[label_list[l] for l in label if l != -100] for label in labels]\n",
    "    true_predictions = [\n",
    "        [label_list[p] for (p, l) in zip(prediction, label) if l != -100]\n",
    "        for prediction, label in zip(predictions, labels)\n",
    "    ]\n",
    "\n",
    "    results = metric.compute(predictions=true_predictions, references=true_labels)\n",
    "    return {\n",
    "        \"precision\": results[\"overall_precision\"],\n",
    "        \"recall\": results[\"overall_recall\"],\n",
    "        \"f1\": results[\"overall_f1\"],\n",
    "        \"accuracy\": results[\"overall_accuracy\"],\n",
    "    }"
   ]
  },
  {
   "cell_type": "code",
   "execution_count": 15,
   "metadata": {
    "id": "mMiy51skQV7v"
   },
   "outputs": [],
   "source": [
    "# Get label list\n",
    "label_list = train_dataset.features[\"ner_tags\"].feature.names\n",
    "\n",
    "# Set up data collator for dynamic padding\n",
    "data_collator = DataCollatorForTokenClassification(tokenizer)"
   ]
  },
  {
   "cell_type": "code",
   "execution_count": 16,
   "metadata": {
    "colab": {
     "base_uri": "https://localhost:8080/"
    },
    "id": "QsE_JxW0uKgq",
    "outputId": "aab3e7b2-2441-4611-9c5b-46543f20a779"
   },
   "outputs": [
    {
     "data": {
      "text/plain": [
       "['O', 'B-PER', 'I-PER', 'B-ORG', 'I-ORG', 'B-LOC', 'I-LOC', 'B-MISC', 'I-MISC']"
      ]
     },
     "execution_count": 16,
     "metadata": {},
     "output_type": "execute_result"
    }
   ],
   "source": [
    "label_list"
   ]
  },
  {
   "cell_type": "code",
   "execution_count": 17,
   "metadata": {
    "id": "vX5kFCS_Q3yU"
   },
   "outputs": [],
   "source": [
    "# Set up training arguments\n",
    "training_args = TrainingArguments(\n",
    "    output_dir=\"./results\",\n",
    "    eval_strategy=\"epoch\",\n",
    "    learning_rate=2e-5,\n",
    "    per_device_train_batch_size=16,\n",
    "    per_device_eval_batch_size=16,\n",
    "    num_train_epochs=3,\n",
    "    weight_decay=0.01,\n",
    ")"
   ]
  },
  {
   "cell_type": "markdown",
   "metadata": {
    "id": "oEt1aZr-vtsZ"
   },
   "source": []
  },
  {
   "cell_type": "code",
   "execution_count": 19,
   "metadata": {
    "colab": {
     "base_uri": "https://localhost:8080/"
    },
    "id": "AsWZEfwOSjRs",
    "outputId": "e5a2dfae-eab4-4a8f-cf0f-94494ab7dc13"
   },
   "outputs": [
    {
     "name": "stderr",
     "output_type": "stream",
     "text": [
      "<ipython-input-19-1788778007>:2: FutureWarning: `tokenizer` is deprecated and will be removed in version 5.0.0 for `Trainer.__init__`. Use `processing_class` instead.\n",
      "  trainer = Trainer(\n"
     ]
    }
   ],
   "source": [
    "# Initialize Trainer with compute_metrics and data collator\n",
    "trainer = Trainer(\n",
    "    model=model,\n",
    "    args=training_args,\n",
    "    train_dataset=tokenized_train_dataset,\n",
    "    eval_dataset=tokenized_val_dataset,\n",
    "    tokenizer=tokenizer,\n",
    "    data_collator=data_collator,\n",
    "    compute_metrics=compute_metrics,\n",
    ")"
   ]
  },
  {
   "cell_type": "code",
   "execution_count": 20,
   "metadata": {
    "colab": {
     "base_uri": "https://localhost:8080/",
     "height": 484
    },
    "id": "2w-SyGC-URnq",
    "outputId": "03a63416-b0fd-4c79-eb2f-997966b951e5"
   },
   "outputs": [
    {
     "name": "stderr",
     "output_type": "stream",
     "text": [
      "\u001b[34m\u001b[1mwandb\u001b[0m: \u001b[33mWARNING\u001b[0m The `run_name` is currently set to the same value as `TrainingArguments.output_dir`. If this was not intended, please specify a different run name by setting the `TrainingArguments.run_name` parameter.\n"
     ]
    },
    {
     "data": {
      "application/javascript": [
       "\n",
       "        window._wandbApiKey = new Promise((resolve, reject) => {\n",
       "            function loadScript(url) {\n",
       "            return new Promise(function(resolve, reject) {\n",
       "                let newScript = document.createElement(\"script\");\n",
       "                newScript.onerror = reject;\n",
       "                newScript.onload = resolve;\n",
       "                document.body.appendChild(newScript);\n",
       "                newScript.src = url;\n",
       "            });\n",
       "            }\n",
       "            loadScript(\"https://cdn.jsdelivr.net/npm/postmate/build/postmate.min.js\").then(() => {\n",
       "            const iframe = document.createElement('iframe')\n",
       "            iframe.style.cssText = \"width:0;height:0;border:none\"\n",
       "            document.body.appendChild(iframe)\n",
       "            const handshake = new Postmate({\n",
       "                container: iframe,\n",
       "                url: 'https://wandb.ai/authorize'\n",
       "            });\n",
       "            const timeout = setTimeout(() => reject(\"Couldn't auto authenticate\"), 5000)\n",
       "            handshake.then(function(child) {\n",
       "                child.on('authorize', data => {\n",
       "                    clearTimeout(timeout)\n",
       "                    resolve(data)\n",
       "                });\n",
       "            });\n",
       "            })\n",
       "        });\n",
       "    "
      ],
      "text/plain": [
       "<IPython.core.display.Javascript object>"
      ]
     },
     "metadata": {},
     "output_type": "display_data"
    },
    {
     "name": "stderr",
     "output_type": "stream",
     "text": [
      "\u001b[34m\u001b[1mwandb\u001b[0m: Logging into wandb.ai. (Learn how to deploy a W&B server locally: https://wandb.me/wandb-server)\n",
      "\u001b[34m\u001b[1mwandb\u001b[0m: You can find your API key in your browser here: https://wandb.ai/authorize?ref=models\n",
      "wandb: Paste an API key from your profile and hit enter:"
     ]
    },
    {
     "name": "stdout",
     "output_type": "stream",
     "text": [
      " ··········\n"
     ]
    },
    {
     "name": "stderr",
     "output_type": "stream",
     "text": [
      "\u001b[34m\u001b[1mwandb\u001b[0m: \u001b[33mWARNING\u001b[0m If you're specifying your api key in code, ensure this code is not shared publicly.\n",
      "\u001b[34m\u001b[1mwandb\u001b[0m: \u001b[33mWARNING\u001b[0m Consider setting the WANDB_API_KEY environment variable, or running `wandb login` from the command line.\n",
      "\u001b[34m\u001b[1mwandb\u001b[0m: No netrc file found, creating one.\n",
      "\u001b[34m\u001b[1mwandb\u001b[0m: Appending key for api.wandb.ai to your netrc file: /root/.netrc\n",
      "\u001b[34m\u001b[1mwandb\u001b[0m: Currently logged in as: \u001b[33mr8899814\u001b[0m (\u001b[33mr8899814-no\u001b[0m) to \u001b[32mhttps://api.wandb.ai\u001b[0m. Use \u001b[1m`wandb login --relogin`\u001b[0m to force relogin\n"
     ]
    },
    {
     "data": {
      "text/html": [
       "Tracking run with wandb version 0.20.1"
      ],
      "text/plain": [
       "<IPython.core.display.HTML object>"
      ]
     },
     "metadata": {},
     "output_type": "display_data"
    },
    {
     "data": {
      "text/html": [
       "Run data is saved locally in <code>/content/wandb/run-20250617_163043-9jubqfiy</code>"
      ],
      "text/plain": [
       "<IPython.core.display.HTML object>"
      ]
     },
     "metadata": {},
     "output_type": "display_data"
    },
    {
     "data": {
      "text/html": [
       "Syncing run <strong><a href='https://wandb.ai/r8899814-no/huggingface/runs/9jubqfiy' target=\"_blank\">./results</a></strong> to <a href='https://wandb.ai/r8899814-no/huggingface' target=\"_blank\">Weights & Biases</a> (<a href='https://wandb.me/developer-guide' target=\"_blank\">docs</a>)<br>"
      ],
      "text/plain": [
       "<IPython.core.display.HTML object>"
      ]
     },
     "metadata": {},
     "output_type": "display_data"
    },
    {
     "data": {
      "text/html": [
       " View project at <a href='https://wandb.ai/r8899814-no/huggingface' target=\"_blank\">https://wandb.ai/r8899814-no/huggingface</a>"
      ],
      "text/plain": [
       "<IPython.core.display.HTML object>"
      ]
     },
     "metadata": {},
     "output_type": "display_data"
    },
    {
     "data": {
      "text/html": [
       " View run at <a href='https://wandb.ai/r8899814-no/huggingface/runs/9jubqfiy' target=\"_blank\">https://wandb.ai/r8899814-no/huggingface/runs/9jubqfiy</a>"
      ],
      "text/plain": [
       "<IPython.core.display.HTML object>"
      ]
     },
     "metadata": {},
     "output_type": "display_data"
    },
    {
     "data": {
      "text/html": [
       "\n",
       "    <div>\n",
       "      \n",
       "      <progress value='648' max='648' style='width:300px; height:20px; vertical-align: middle;'></progress>\n",
       "      [648/648 02:32, Epoch 3/3]\n",
       "    </div>\n",
       "    <table border=\"1\" class=\"dataframe\">\n",
       "  <thead>\n",
       " <tr style=\"text-align: left;\">\n",
       "      <th>Epoch</th>\n",
       "      <th>Training Loss</th>\n",
       "      <th>Validation Loss</th>\n",
       "      <th>Precision</th>\n",
       "      <th>Recall</th>\n",
       "      <th>F1</th>\n",
       "      <th>Accuracy</th>\n",
       "    </tr>\n",
       "  </thead>\n",
       "  <tbody>\n",
       "    <tr>\n",
       "      <td>1</td>\n",
       "      <td>No log</td>\n",
       "      <td>0.108733</td>\n",
       "      <td>0.836125</td>\n",
       "      <td>0.856951</td>\n",
       "      <td>0.846410</td>\n",
       "      <td>0.973560</td>\n",
       "    </tr>\n",
       "    <tr>\n",
       "      <td>2</td>\n",
       "      <td>No log</td>\n",
       "      <td>0.096276</td>\n",
       "      <td>0.867238</td>\n",
       "      <td>0.886065</td>\n",
       "      <td>0.876550</td>\n",
       "      <td>0.978739</td>\n",
       "    </tr>\n",
       "    <tr>\n",
       "      <td>3</td>\n",
       "      <td>0.156300</td>\n",
       "      <td>0.098333</td>\n",
       "      <td>0.871993</td>\n",
       "      <td>0.890778</td>\n",
       "      <td>0.881285</td>\n",
       "      <td>0.979674</td>\n",
       "    </tr>\n",
       "  </tbody>\n",
       "</table><p>"
      ],
      "text/plain": [
       "<IPython.core.display.HTML object>"
      ]
     },
     "metadata": {},
     "output_type": "display_data"
    },
    {
     "data": {
      "text/plain": [
       "TrainOutput(global_step=648, training_loss=0.128142993391296, metrics={'train_runtime': 196.6841, 'train_samples_per_second': 52.668, 'train_steps_per_second': 3.295, 'total_flos': 263861608299318.0, 'train_loss': 0.128142993391296, 'epoch': 3.0})"
      ]
     },
     "execution_count": 20,
     "metadata": {},
     "output_type": "execute_result"
    }
   ],
   "source": [
    "# Train model\n",
    "trainer.train()"
   ]
  },
  {
   "cell_type": "code",
   "execution_count": 21,
   "metadata": {
    "colab": {
     "base_uri": "https://localhost:8080/",
     "height": 74
    },
    "id": "ZCgjYskoUgD4",
    "outputId": "9e6f7907-a4f2-429f-b76c-4cc5cfcab169"
   },
   "outputs": [
    {
     "data": {
      "text/html": [
       "\n",
       "    <div>\n",
       "      \n",
       "      <progress value='204' max='204' style='width:300px; height:20px; vertical-align: middle;'></progress>\n",
       "      [204/204 00:12]\n",
       "    </div>\n",
       "    "
      ],
      "text/plain": [
       "<IPython.core.display.HTML object>"
      ]
     },
     "metadata": {},
     "output_type": "display_data"
    },
    {
     "name": "stdout",
     "output_type": "stream",
     "text": [
      "{'eval_loss': 0.09833312779664993, 'eval_precision': 0.871993410214168, 'eval_recall': 0.8907775159878829, 'eval_f1': 0.8812853812853814, 'eval_accuracy': 0.9796736887192866, 'eval_runtime': 13.3204, 'eval_samples_per_second': 243.987, 'eval_steps_per_second': 15.315, 'epoch': 3.0}\n"
     ]
    }
   ],
   "source": [
    "# Evaluate model\n",
    "results = trainer.evaluate()\n",
    "print(results)"
   ]
  },
  {
   "cell_type": "markdown",
   "metadata": {
    "id": "0h5-na2cVQV0"
   },
   "source": [
    "## Testing"
   ]
  },
  {
   "cell_type": "code",
   "execution_count": 29,
   "metadata": {
    "colab": {
     "base_uri": "https://localhost:8080/"
    },
    "id": "rZjgEuGObg2P",
    "outputId": "7a26423f-2268-451d-9386-17b898222a8f"
   },
   "outputs": [
    {
     "name": "stdout",
     "output_type": "stream",
     "text": [
      "Ra              -> B-PER\n",
      "##hul           -> B-PER\n",
      "has             -> O\n",
      "fine            -> O\n",
      "tuned           -> O\n",
      "this            -> O\n",
      "B               -> B-MISC\n",
      "##ER            -> O\n",
      "##T             -> O\n",
      "model           -> O\n",
      "by              -> O\n",
      "the             -> O\n",
      "lecture         -> O\n",
      "from            -> O\n",
      "Campus          -> B-ORG\n",
      "##X             -> I-ORG\n"
     ]
    }
   ],
   "source": [
    "# Function to run NER on a given sentence\n",
    "def predict_ner_from_text(text, model, tokenizer, label_list):\n",
    "    # Tokenize input text\n",
    "    tokens = tokenizer(text, return_tensors=\"pt\", truncation=True, is_split_into_words=False)\n",
    "    tokens.to('cuda')\n",
    "    with torch.no_grad():\n",
    "        output = model(**tokens)\n",
    "\n",
    "    predictions = torch.argmax(output.logits, dim=2)[0].tolist()\n",
    "    input_tokens = tokenizer.convert_ids_to_tokens(tokens[\"input_ids\"][0])\n",
    "\n",
    "    # Align and print results (skip special tokens)\n",
    "    for token, pred in zip(input_tokens, predictions):\n",
    "        if token not in tokenizer.all_special_tokens:\n",
    "            print(f\"{token:15} -> {label_list[pred]}\")\n",
    "\n",
    "\n",
    "# Example usage\n",
    "test_sentence = \"Rahul has fine tuned this BERT model by the lecture from CampusX\"\n",
    "predict_ner_from_text(test_sentence, model, tokenizer, label_list)\n"
   ]
  },
  {
   "cell_type": "code",
   "execution_count": 26,
   "metadata": {
    "id": "7pxESIWAv92R"
   },
   "outputs": [],
   "source": []
  }
 ],
 "metadata": {
  "accelerator": "GPU",
  "colab": {
   "gpuType": "T4",
   "provenance": []
  },
  "kernelspec": {
   "display_name": "Python 3",
   "name": "python3"
  },
  "language_info": {
   "name": "python"
  }
 },
 "nbformat": 4,
 "nbformat_minor": 0
}
