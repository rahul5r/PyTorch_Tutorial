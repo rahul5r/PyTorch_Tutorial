{
  "nbformat": 4,
  "nbformat_minor": 0,
  "metadata": {
    "colab": {
      "provenance": []
    },
    "kernelspec": {
      "name": "python3",
      "display_name": "Python 3"
    },
    "language_info": {
      "name": "python"
    }
  },
  "cells": [
    {
      "cell_type": "markdown",
      "source": [
        "**PyTorch `torch.nn`**\n",
        "\n",
        "The `torch.nn` module in PyTorch is a core library that provides a wide array of classes and functions designed to help developers build neural networks efficiently and effectively. It abstracts the complexity of creating and training neural networks by offering pre-built layers, loss functions, activation functions, and other utilities—enabling you to focus on designing and experimenting with model architectures.\n"
      ],
      "metadata": {
        "id": "8Nu6LLk-Ai6Z"
      }
    },
    {
      "cell_type": "markdown",
      "source": [
        "---\n",
        "\n",
        "### **Key Components of `torch.nn`**\n",
        "\n",
        "#### **1. Modules (Layers)**\n",
        "\n",
        "* **`nn.Module`**:\n",
        "  The base class for all neural network modules. Your custom models and layers should subclass this class.\n",
        "\n",
        "* **Common Layers**:\n",
        "  Includes layers such as:\n",
        "\n",
        "  * `nn.Linear` (fully connected layer)\n",
        "  * `nn.Conv2d` (convolutional layer)\n",
        "  * `nn.LSTM` (recurrent layer), and many others.\n",
        "\n",
        "#### **2. Activation Functions**\n",
        "\n",
        "Functions like:\n",
        "\n",
        "* `nn.ReLU`\n",
        "* `nn.Sigmoid`\n",
        "* `nn.Tanh`\n",
        "\n",
        "These introduce non-linearities to the model, allowing it to learn complex patterns.\n",
        "\n",
        "#### **3. Loss Functions**\n",
        "\n",
        "Provides standard loss functions to measure the difference between predicted and actual values, such as:\n",
        "\n",
        "* `nn.CrossEntropyLoss`\n",
        "* `nn.MSELoss`\n",
        "* `nn.NLLLoss`\n",
        "\n",
        "\n",
        "#### **4. Container Modules**\n",
        "\n",
        "* **`nn.Sequential`**:\n",
        "  A simple container to stack layers in order, making model definitions concise and readable.\n",
        "\n",
        "\n",
        "#### **5. Regularization and Dropout**\n",
        "\n",
        "* Layers like `nn.Dropout` and `nn.BatchNorm2d` help:\n",
        "\n",
        "  * Prevent overfitting\n",
        "  * Improve generalization to unseen data\n",
        "\n",
        "---"
      ],
      "metadata": {
        "id": "WCuM64LkA43E"
      }
    },
    {
      "cell_type": "markdown",
      "source": [
        "## **Loading the Dataset and Preprocessing**"
      ],
      "metadata": {
        "id": "_UYMrVdkCqwV"
      }
    },
    {
      "cell_type": "code",
      "source": [
        "import numpy as np\n",
        "import pandas as pd\n",
        "import torch\n",
        "from sklearn.model_selection import train_test_split\n",
        "from sklearn.preprocessing import StandardScaler, LabelEncoder"
      ],
      "metadata": {
        "id": "Q08_0zI3CzI9"
      },
      "execution_count": null,
      "outputs": []
    },
    {
      "cell_type": "code",
      "source": [
        "df = pd.read_csv('https://raw.githubusercontent.com/gscdit/Breast-Cancer-Detection/refs/heads/master/data.csv')\n",
        "\n",
        "df.drop(['id', 'Unnamed: 32'], axis=1, inplace=True)\n",
        "\n",
        "df.head()"
      ],
      "metadata": {
        "colab": {
          "base_uri": "https://localhost:8080/",
          "height": 272
        },
        "id": "pW64h-x3C1RV",
        "outputId": "a172b0be-9dcc-4349-f88c-982bfc4360eb"
      },
      "execution_count": null,
      "outputs": [
        {
          "output_type": "execute_result",
          "data": {
            "text/plain": [
              "  diagnosis  radius_mean  texture_mean  perimeter_mean  area_mean  \\\n",
              "0         M        17.99         10.38          122.80     1001.0   \n",
              "1         M        20.57         17.77          132.90     1326.0   \n",
              "2         M        19.69         21.25          130.00     1203.0   \n",
              "3         M        11.42         20.38           77.58      386.1   \n",
              "4         M        20.29         14.34          135.10     1297.0   \n",
              "\n",
              "   smoothness_mean  compactness_mean  concavity_mean  concave points_mean  \\\n",
              "0          0.11840           0.27760          0.3001              0.14710   \n",
              "1          0.08474           0.07864          0.0869              0.07017   \n",
              "2          0.10960           0.15990          0.1974              0.12790   \n",
              "3          0.14250           0.28390          0.2414              0.10520   \n",
              "4          0.10030           0.13280          0.1980              0.10430   \n",
              "\n",
              "   symmetry_mean  ...  radius_worst  texture_worst  perimeter_worst  \\\n",
              "0         0.2419  ...         25.38          17.33           184.60   \n",
              "1         0.1812  ...         24.99          23.41           158.80   \n",
              "2         0.2069  ...         23.57          25.53           152.50   \n",
              "3         0.2597  ...         14.91          26.50            98.87   \n",
              "4         0.1809  ...         22.54          16.67           152.20   \n",
              "\n",
              "   area_worst  smoothness_worst  compactness_worst  concavity_worst  \\\n",
              "0      2019.0            0.1622             0.6656           0.7119   \n",
              "1      1956.0            0.1238             0.1866           0.2416   \n",
              "2      1709.0            0.1444             0.4245           0.4504   \n",
              "3       567.7            0.2098             0.8663           0.6869   \n",
              "4      1575.0            0.1374             0.2050           0.4000   \n",
              "\n",
              "   concave points_worst  symmetry_worst  fractal_dimension_worst  \n",
              "0                0.2654          0.4601                  0.11890  \n",
              "1                0.1860          0.2750                  0.08902  \n",
              "2                0.2430          0.3613                  0.08758  \n",
              "3                0.2575          0.6638                  0.17300  \n",
              "4                0.1625          0.2364                  0.07678  \n",
              "\n",
              "[5 rows x 31 columns]"
            ],
            "text/html": [
              "\n",
              "  <div id=\"df-256789e4-775a-4db0-a2f4-4b747a2957aa\" class=\"colab-df-container\">\n",
              "    <div>\n",
              "<style scoped>\n",
              "    .dataframe tbody tr th:only-of-type {\n",
              "        vertical-align: middle;\n",
              "    }\n",
              "\n",
              "    .dataframe tbody tr th {\n",
              "        vertical-align: top;\n",
              "    }\n",
              "\n",
              "    .dataframe thead th {\n",
              "        text-align: right;\n",
              "    }\n",
              "</style>\n",
              "<table border=\"1\" class=\"dataframe\">\n",
              "  <thead>\n",
              "    <tr style=\"text-align: right;\">\n",
              "      <th></th>\n",
              "      <th>diagnosis</th>\n",
              "      <th>radius_mean</th>\n",
              "      <th>texture_mean</th>\n",
              "      <th>perimeter_mean</th>\n",
              "      <th>area_mean</th>\n",
              "      <th>smoothness_mean</th>\n",
              "      <th>compactness_mean</th>\n",
              "      <th>concavity_mean</th>\n",
              "      <th>concave points_mean</th>\n",
              "      <th>symmetry_mean</th>\n",
              "      <th>...</th>\n",
              "      <th>radius_worst</th>\n",
              "      <th>texture_worst</th>\n",
              "      <th>perimeter_worst</th>\n",
              "      <th>area_worst</th>\n",
              "      <th>smoothness_worst</th>\n",
              "      <th>compactness_worst</th>\n",
              "      <th>concavity_worst</th>\n",
              "      <th>concave points_worst</th>\n",
              "      <th>symmetry_worst</th>\n",
              "      <th>fractal_dimension_worst</th>\n",
              "    </tr>\n",
              "  </thead>\n",
              "  <tbody>\n",
              "    <tr>\n",
              "      <th>0</th>\n",
              "      <td>M</td>\n",
              "      <td>17.99</td>\n",
              "      <td>10.38</td>\n",
              "      <td>122.80</td>\n",
              "      <td>1001.0</td>\n",
              "      <td>0.11840</td>\n",
              "      <td>0.27760</td>\n",
              "      <td>0.3001</td>\n",
              "      <td>0.14710</td>\n",
              "      <td>0.2419</td>\n",
              "      <td>...</td>\n",
              "      <td>25.38</td>\n",
              "      <td>17.33</td>\n",
              "      <td>184.60</td>\n",
              "      <td>2019.0</td>\n",
              "      <td>0.1622</td>\n",
              "      <td>0.6656</td>\n",
              "      <td>0.7119</td>\n",
              "      <td>0.2654</td>\n",
              "      <td>0.4601</td>\n",
              "      <td>0.11890</td>\n",
              "    </tr>\n",
              "    <tr>\n",
              "      <th>1</th>\n",
              "      <td>M</td>\n",
              "      <td>20.57</td>\n",
              "      <td>17.77</td>\n",
              "      <td>132.90</td>\n",
              "      <td>1326.0</td>\n",
              "      <td>0.08474</td>\n",
              "      <td>0.07864</td>\n",
              "      <td>0.0869</td>\n",
              "      <td>0.07017</td>\n",
              "      <td>0.1812</td>\n",
              "      <td>...</td>\n",
              "      <td>24.99</td>\n",
              "      <td>23.41</td>\n",
              "      <td>158.80</td>\n",
              "      <td>1956.0</td>\n",
              "      <td>0.1238</td>\n",
              "      <td>0.1866</td>\n",
              "      <td>0.2416</td>\n",
              "      <td>0.1860</td>\n",
              "      <td>0.2750</td>\n",
              "      <td>0.08902</td>\n",
              "    </tr>\n",
              "    <tr>\n",
              "      <th>2</th>\n",
              "      <td>M</td>\n",
              "      <td>19.69</td>\n",
              "      <td>21.25</td>\n",
              "      <td>130.00</td>\n",
              "      <td>1203.0</td>\n",
              "      <td>0.10960</td>\n",
              "      <td>0.15990</td>\n",
              "      <td>0.1974</td>\n",
              "      <td>0.12790</td>\n",
              "      <td>0.2069</td>\n",
              "      <td>...</td>\n",
              "      <td>23.57</td>\n",
              "      <td>25.53</td>\n",
              "      <td>152.50</td>\n",
              "      <td>1709.0</td>\n",
              "      <td>0.1444</td>\n",
              "      <td>0.4245</td>\n",
              "      <td>0.4504</td>\n",
              "      <td>0.2430</td>\n",
              "      <td>0.3613</td>\n",
              "      <td>0.08758</td>\n",
              "    </tr>\n",
              "    <tr>\n",
              "      <th>3</th>\n",
              "      <td>M</td>\n",
              "      <td>11.42</td>\n",
              "      <td>20.38</td>\n",
              "      <td>77.58</td>\n",
              "      <td>386.1</td>\n",
              "      <td>0.14250</td>\n",
              "      <td>0.28390</td>\n",
              "      <td>0.2414</td>\n",
              "      <td>0.10520</td>\n",
              "      <td>0.2597</td>\n",
              "      <td>...</td>\n",
              "      <td>14.91</td>\n",
              "      <td>26.50</td>\n",
              "      <td>98.87</td>\n",
              "      <td>567.7</td>\n",
              "      <td>0.2098</td>\n",
              "      <td>0.8663</td>\n",
              "      <td>0.6869</td>\n",
              "      <td>0.2575</td>\n",
              "      <td>0.6638</td>\n",
              "      <td>0.17300</td>\n",
              "    </tr>\n",
              "    <tr>\n",
              "      <th>4</th>\n",
              "      <td>M</td>\n",
              "      <td>20.29</td>\n",
              "      <td>14.34</td>\n",
              "      <td>135.10</td>\n",
              "      <td>1297.0</td>\n",
              "      <td>0.10030</td>\n",
              "      <td>0.13280</td>\n",
              "      <td>0.1980</td>\n",
              "      <td>0.10430</td>\n",
              "      <td>0.1809</td>\n",
              "      <td>...</td>\n",
              "      <td>22.54</td>\n",
              "      <td>16.67</td>\n",
              "      <td>152.20</td>\n",
              "      <td>1575.0</td>\n",
              "      <td>0.1374</td>\n",
              "      <td>0.2050</td>\n",
              "      <td>0.4000</td>\n",
              "      <td>0.1625</td>\n",
              "      <td>0.2364</td>\n",
              "      <td>0.07678</td>\n",
              "    </tr>\n",
              "  </tbody>\n",
              "</table>\n",
              "<p>5 rows × 31 columns</p>\n",
              "</div>\n",
              "    <div class=\"colab-df-buttons\">\n",
              "\n",
              "  <div class=\"colab-df-container\">\n",
              "    <button class=\"colab-df-convert\" onclick=\"convertToInteractive('df-256789e4-775a-4db0-a2f4-4b747a2957aa')\"\n",
              "            title=\"Convert this dataframe to an interactive table.\"\n",
              "            style=\"display:none;\">\n",
              "\n",
              "  <svg xmlns=\"http://www.w3.org/2000/svg\" height=\"24px\" viewBox=\"0 -960 960 960\">\n",
              "    <path d=\"M120-120v-720h720v720H120Zm60-500h600v-160H180v160Zm220 220h160v-160H400v160Zm0 220h160v-160H400v160ZM180-400h160v-160H180v160Zm440 0h160v-160H620v160ZM180-180h160v-160H180v160Zm440 0h160v-160H620v160Z\"/>\n",
              "  </svg>\n",
              "    </button>\n",
              "\n",
              "  <style>\n",
              "    .colab-df-container {\n",
              "      display:flex;\n",
              "      gap: 12px;\n",
              "    }\n",
              "\n",
              "    .colab-df-convert {\n",
              "      background-color: #E8F0FE;\n",
              "      border: none;\n",
              "      border-radius: 50%;\n",
              "      cursor: pointer;\n",
              "      display: none;\n",
              "      fill: #1967D2;\n",
              "      height: 32px;\n",
              "      padding: 0 0 0 0;\n",
              "      width: 32px;\n",
              "    }\n",
              "\n",
              "    .colab-df-convert:hover {\n",
              "      background-color: #E2EBFA;\n",
              "      box-shadow: 0px 1px 2px rgba(60, 64, 67, 0.3), 0px 1px 3px 1px rgba(60, 64, 67, 0.15);\n",
              "      fill: #174EA6;\n",
              "    }\n",
              "\n",
              "    .colab-df-buttons div {\n",
              "      margin-bottom: 4px;\n",
              "    }\n",
              "\n",
              "    [theme=dark] .colab-df-convert {\n",
              "      background-color: #3B4455;\n",
              "      fill: #D2E3FC;\n",
              "    }\n",
              "\n",
              "    [theme=dark] .colab-df-convert:hover {\n",
              "      background-color: #434B5C;\n",
              "      box-shadow: 0px 1px 3px 1px rgba(0, 0, 0, 0.15);\n",
              "      filter: drop-shadow(0px 1px 2px rgba(0, 0, 0, 0.3));\n",
              "      fill: #FFFFFF;\n",
              "    }\n",
              "  </style>\n",
              "\n",
              "    <script>\n",
              "      const buttonEl =\n",
              "        document.querySelector('#df-256789e4-775a-4db0-a2f4-4b747a2957aa button.colab-df-convert');\n",
              "      buttonEl.style.display =\n",
              "        google.colab.kernel.accessAllowed ? 'block' : 'none';\n",
              "\n",
              "      async function convertToInteractive(key) {\n",
              "        const element = document.querySelector('#df-256789e4-775a-4db0-a2f4-4b747a2957aa');\n",
              "        const dataTable =\n",
              "          await google.colab.kernel.invokeFunction('convertToInteractive',\n",
              "                                                    [key], {});\n",
              "        if (!dataTable) return;\n",
              "\n",
              "        const docLinkHtml = 'Like what you see? Visit the ' +\n",
              "          '<a target=\"_blank\" href=https://colab.research.google.com/notebooks/data_table.ipynb>data table notebook</a>'\n",
              "          + ' to learn more about interactive tables.';\n",
              "        element.innerHTML = '';\n",
              "        dataTable['output_type'] = 'display_data';\n",
              "        await google.colab.output.renderOutput(dataTable, element);\n",
              "        const docLink = document.createElement('div');\n",
              "        docLink.innerHTML = docLinkHtml;\n",
              "        element.appendChild(docLink);\n",
              "      }\n",
              "    </script>\n",
              "  </div>\n",
              "\n",
              "\n",
              "    <div id=\"df-1422456d-7f68-4c15-b0d4-4f58a29ebfa7\">\n",
              "      <button class=\"colab-df-quickchart\" onclick=\"quickchart('df-1422456d-7f68-4c15-b0d4-4f58a29ebfa7')\"\n",
              "                title=\"Suggest charts\"\n",
              "                style=\"display:none;\">\n",
              "\n",
              "<svg xmlns=\"http://www.w3.org/2000/svg\" height=\"24px\"viewBox=\"0 0 24 24\"\n",
              "     width=\"24px\">\n",
              "    <g>\n",
              "        <path d=\"M19 3H5c-1.1 0-2 .9-2 2v14c0 1.1.9 2 2 2h14c1.1 0 2-.9 2-2V5c0-1.1-.9-2-2-2zM9 17H7v-7h2v7zm4 0h-2V7h2v10zm4 0h-2v-4h2v4z\"/>\n",
              "    </g>\n",
              "</svg>\n",
              "      </button>\n",
              "\n",
              "<style>\n",
              "  .colab-df-quickchart {\n",
              "      --bg-color: #E8F0FE;\n",
              "      --fill-color: #1967D2;\n",
              "      --hover-bg-color: #E2EBFA;\n",
              "      --hover-fill-color: #174EA6;\n",
              "      --disabled-fill-color: #AAA;\n",
              "      --disabled-bg-color: #DDD;\n",
              "  }\n",
              "\n",
              "  [theme=dark] .colab-df-quickchart {\n",
              "      --bg-color: #3B4455;\n",
              "      --fill-color: #D2E3FC;\n",
              "      --hover-bg-color: #434B5C;\n",
              "      --hover-fill-color: #FFFFFF;\n",
              "      --disabled-bg-color: #3B4455;\n",
              "      --disabled-fill-color: #666;\n",
              "  }\n",
              "\n",
              "  .colab-df-quickchart {\n",
              "    background-color: var(--bg-color);\n",
              "    border: none;\n",
              "    border-radius: 50%;\n",
              "    cursor: pointer;\n",
              "    display: none;\n",
              "    fill: var(--fill-color);\n",
              "    height: 32px;\n",
              "    padding: 0;\n",
              "    width: 32px;\n",
              "  }\n",
              "\n",
              "  .colab-df-quickchart:hover {\n",
              "    background-color: var(--hover-bg-color);\n",
              "    box-shadow: 0 1px 2px rgba(60, 64, 67, 0.3), 0 1px 3px 1px rgba(60, 64, 67, 0.15);\n",
              "    fill: var(--button-hover-fill-color);\n",
              "  }\n",
              "\n",
              "  .colab-df-quickchart-complete:disabled,\n",
              "  .colab-df-quickchart-complete:disabled:hover {\n",
              "    background-color: var(--disabled-bg-color);\n",
              "    fill: var(--disabled-fill-color);\n",
              "    box-shadow: none;\n",
              "  }\n",
              "\n",
              "  .colab-df-spinner {\n",
              "    border: 2px solid var(--fill-color);\n",
              "    border-color: transparent;\n",
              "    border-bottom-color: var(--fill-color);\n",
              "    animation:\n",
              "      spin 1s steps(1) infinite;\n",
              "  }\n",
              "\n",
              "  @keyframes spin {\n",
              "    0% {\n",
              "      border-color: transparent;\n",
              "      border-bottom-color: var(--fill-color);\n",
              "      border-left-color: var(--fill-color);\n",
              "    }\n",
              "    20% {\n",
              "      border-color: transparent;\n",
              "      border-left-color: var(--fill-color);\n",
              "      border-top-color: var(--fill-color);\n",
              "    }\n",
              "    30% {\n",
              "      border-color: transparent;\n",
              "      border-left-color: var(--fill-color);\n",
              "      border-top-color: var(--fill-color);\n",
              "      border-right-color: var(--fill-color);\n",
              "    }\n",
              "    40% {\n",
              "      border-color: transparent;\n",
              "      border-right-color: var(--fill-color);\n",
              "      border-top-color: var(--fill-color);\n",
              "    }\n",
              "    60% {\n",
              "      border-color: transparent;\n",
              "      border-right-color: var(--fill-color);\n",
              "    }\n",
              "    80% {\n",
              "      border-color: transparent;\n",
              "      border-right-color: var(--fill-color);\n",
              "      border-bottom-color: var(--fill-color);\n",
              "    }\n",
              "    90% {\n",
              "      border-color: transparent;\n",
              "      border-bottom-color: var(--fill-color);\n",
              "    }\n",
              "  }\n",
              "</style>\n",
              "\n",
              "      <script>\n",
              "        async function quickchart(key) {\n",
              "          const quickchartButtonEl =\n",
              "            document.querySelector('#' + key + ' button');\n",
              "          quickchartButtonEl.disabled = true;  // To prevent multiple clicks.\n",
              "          quickchartButtonEl.classList.add('colab-df-spinner');\n",
              "          try {\n",
              "            const charts = await google.colab.kernel.invokeFunction(\n",
              "                'suggestCharts', [key], {});\n",
              "          } catch (error) {\n",
              "            console.error('Error during call to suggestCharts:', error);\n",
              "          }\n",
              "          quickchartButtonEl.classList.remove('colab-df-spinner');\n",
              "          quickchartButtonEl.classList.add('colab-df-quickchart-complete');\n",
              "        }\n",
              "        (() => {\n",
              "          let quickchartButtonEl =\n",
              "            document.querySelector('#df-1422456d-7f68-4c15-b0d4-4f58a29ebfa7 button');\n",
              "          quickchartButtonEl.style.display =\n",
              "            google.colab.kernel.accessAllowed ? 'block' : 'none';\n",
              "        })();\n",
              "      </script>\n",
              "    </div>\n",
              "\n",
              "    </div>\n",
              "  </div>\n"
            ],
            "application/vnd.google.colaboratory.intrinsic+json": {
              "type": "dataframe",
              "variable_name": "df"
            }
          },
          "metadata": {},
          "execution_count": 89
        }
      ]
    },
    {
      "cell_type": "code",
      "source": [
        "X_train, X_test, y_train, y_test = train_test_split(df.drop('diagnosis', axis=1), df['diagnosis'], test_size=0.2, random_state=42)"
      ],
      "metadata": {
        "id": "o9hCJmRCC9s2"
      },
      "execution_count": null,
      "outputs": []
    },
    {
      "cell_type": "code",
      "source": [
        "scaler = StandardScaler()\n",
        "X_train = scaler.fit_transform(X_train)\n",
        "X_test = scaler.transform(X_test)"
      ],
      "metadata": {
        "id": "j_Gnh2qrC_Vw"
      },
      "execution_count": null,
      "outputs": []
    },
    {
      "cell_type": "code",
      "source": [
        "encoder = LabelEncoder()\n",
        "y_train = encoder.fit_transform(y_train)\n",
        "y_test = encoder.transform(y_test)"
      ],
      "metadata": {
        "id": "eYzFVKunDB1O"
      },
      "execution_count": null,
      "outputs": []
    },
    {
      "cell_type": "code",
      "source": [
        "X_train_tensor = torch.from_numpy(X_train)\n",
        "X_test_tensor = torch.from_numpy(X_test)\n",
        "y_train_tensor = torch.from_numpy(y_train)\n",
        "y_test_tensor = torch.from_numpy(y_test)"
      ],
      "metadata": {
        "id": "tbgTjk8sDDz7"
      },
      "execution_count": null,
      "outputs": []
    },
    {
      "cell_type": "code",
      "source": [
        "X_train_tensor = X_train_tensor.float()\n",
        "X_test_tensor = X_test_tensor.float()"
      ],
      "metadata": {
        "id": "GawnrA41Flmt"
      },
      "execution_count": null,
      "outputs": []
    },
    {
      "cell_type": "markdown",
      "source": [
        "## **Building the Model**"
      ],
      "metadata": {
        "id": "vneDpJ_uBkls"
      }
    },
    {
      "cell_type": "code",
      "execution_count": null,
      "metadata": {
        "id": "bqwVLxnW-l2N"
      },
      "outputs": [],
      "source": [
        "import torch\n",
        "import torch.nn as nn"
      ]
    },
    {
      "cell_type": "code",
      "source": [
        "class Model(nn.Module):\n",
        "\n",
        "    def __init__(self, num_features):\n",
        "\n",
        "        super().__init__()\n",
        "        self.linear = nn.Linear(num_features, 1)   # Determine the input Shape and output shape\n",
        "        self.sigmoid = nn.Sigmoid()\n",
        "\n",
        "    def forward(self, x):\n",
        "        out = self.linear(x)\n",
        "        out = self.sigmoid(out)\n",
        "\n",
        "        return out"
      ],
      "metadata": {
        "id": "pQXqjf-0BjHm"
      },
      "execution_count": null,
      "outputs": []
    },
    {
      "cell_type": "code",
      "source": [
        "# Important Parameters\n",
        "learning_rate = 0.1\n",
        "epochs = 1"
      ],
      "metadata": {
        "id": "c3DYM4mdDzoi"
      },
      "execution_count": null,
      "outputs": []
    },
    {
      "cell_type": "code",
      "source": [
        "model = Model(X_train_tensor.shape[1])\n",
        "\n",
        "for epoch in range(epochs):\n",
        "    y_pred = model(X_train_tensor)   # automatically calls the forward method\n",
        "\n",
        "    #print(y_pred)"
      ],
      "metadata": {
        "id": "jPlqYfKgD2g2"
      },
      "execution_count": null,
      "outputs": []
    },
    {
      "cell_type": "code",
      "source": [
        "print(model.linear.bias)\n",
        "model.linear.weight"
      ],
      "metadata": {
        "colab": {
          "base_uri": "https://localhost:8080/"
        },
        "id": "lvV5l3wPD9Qj",
        "outputId": "1c4f20dc-0722-449c-dcdb-3f325d9e919d"
      },
      "execution_count": null,
      "outputs": [
        {
          "output_type": "stream",
          "name": "stdout",
          "text": [
            "Parameter containing:\n",
            "tensor([-0.1413], requires_grad=True)\n"
          ]
        },
        {
          "output_type": "execute_result",
          "data": {
            "text/plain": [
              "Parameter containing:\n",
              "tensor([[-0.0837, -0.0791,  0.1698, -0.1770,  0.0590, -0.1325,  0.1553, -0.0139,\n",
              "          0.0943,  0.1167,  0.1377, -0.0431, -0.1400, -0.1686, -0.0667, -0.0493,\n",
              "          0.0190, -0.0025, -0.0175,  0.1586, -0.1461, -0.0062,  0.0907, -0.0493,\n",
              "         -0.1045, -0.0063, -0.0607, -0.0369, -0.1622, -0.0958]],\n",
              "       requires_grad=True)"
            ]
          },
          "metadata": {},
          "execution_count": 46
        }
      ]
    },
    {
      "cell_type": "code",
      "source": [
        "!pip install torchinfo --quiet"
      ],
      "metadata": {
        "id": "Q71gz1NrGHEQ"
      },
      "execution_count": null,
      "outputs": []
    },
    {
      "cell_type": "code",
      "source": [
        "from torchinfo import summary\n",
        "\n",
        "summary(model, input_size=(1, X_train_tensor.shape[1]))"
      ],
      "metadata": {
        "colab": {
          "base_uri": "https://localhost:8080/"
        },
        "id": "_8lt78lSGXiy",
        "outputId": "9e7bdaf2-b6ff-4e2a-d7e0-47962146576f"
      },
      "execution_count": null,
      "outputs": [
        {
          "output_type": "execute_result",
          "data": {
            "text/plain": [
              "==========================================================================================\n",
              "Layer (type:depth-idx)                   Output Shape              Param #\n",
              "==========================================================================================\n",
              "Model                                    [1, 1]                    --\n",
              "├─Linear: 1-1                            [1, 5]                    155\n",
              "├─ReLU: 1-2                              [1, 5]                    --\n",
              "├─Linear: 1-3                            [1, 1]                    6\n",
              "├─Sigmoid: 1-4                           [1, 1]                    --\n",
              "==========================================================================================\n",
              "Total params: 161\n",
              "Trainable params: 161\n",
              "Non-trainable params: 0\n",
              "Total mult-adds (Units.MEGABYTES): 0.00\n",
              "==========================================================================================\n",
              "Input size (MB): 0.00\n",
              "Forward/backward pass size (MB): 0.00\n",
              "Params size (MB): 0.00\n",
              "Estimated Total Size (MB): 0.00\n",
              "=========================================================================================="
            ]
          },
          "metadata": {},
          "execution_count": 42
        }
      ]
    },
    {
      "cell_type": "markdown",
      "source": [
        "### Model with multiple neurons"
      ],
      "metadata": {
        "id": "7ZxyKYarHteW"
      }
    },
    {
      "cell_type": "code",
      "source": [
        "class Model(nn.Module):\n",
        "\n",
        "    def __init__(self, num_features):\n",
        "\n",
        "        super().__init__()\n",
        "        self.linear1 = nn.Linear(num_features, 5)   # Determine the input Shape and output shape\n",
        "        self.relu = nn.ReLU()\n",
        "        self.linear2 = nn.Linear(5, 1)\n",
        "        self.sigmoid = nn.Sigmoid()\n",
        "\n",
        "    def forward(self, x):\n",
        "        out = self.linear1(x)\n",
        "        out = self.relu(out)\n",
        "        out = self.linear2(out)\n",
        "        out = self.sigmoid(out)\n",
        "\n",
        "        return out"
      ],
      "metadata": {
        "id": "fRbHOYvaGgbi"
      },
      "execution_count": null,
      "outputs": []
    },
    {
      "cell_type": "code",
      "source": [
        "summary(model, input_size=(1, X_train_tensor.shape[1]))"
      ],
      "metadata": {
        "colab": {
          "base_uri": "https://localhost:8080/"
        },
        "id": "TmWY4RXqH0NR",
        "outputId": "2fe902cb-0cdb-4aa9-cb5e-add703afacea"
      },
      "execution_count": null,
      "outputs": [
        {
          "output_type": "execute_result",
          "data": {
            "text/plain": [
              "==========================================================================================\n",
              "Layer (type:depth-idx)                   Output Shape              Param #\n",
              "==========================================================================================\n",
              "Model                                    [1, 1]                    --\n",
              "├─Linear: 1-1                            [1, 5]                    155\n",
              "├─ReLU: 1-2                              [1, 5]                    --\n",
              "├─Linear: 1-3                            [1, 1]                    6\n",
              "├─Sigmoid: 1-4                           [1, 1]                    --\n",
              "==========================================================================================\n",
              "Total params: 161\n",
              "Trainable params: 161\n",
              "Non-trainable params: 0\n",
              "Total mult-adds (Units.MEGABYTES): 0.00\n",
              "==========================================================================================\n",
              "Input size (MB): 0.00\n",
              "Forward/backward pass size (MB): 0.00\n",
              "Params size (MB): 0.00\n",
              "Estimated Total Size (MB): 0.00\n",
              "=========================================================================================="
            ]
          },
          "metadata": {},
          "execution_count": 49
        }
      ]
    },
    {
      "cell_type": "code",
      "source": [
        "# Important Parameters\n",
        "learning_rate = 0.1\n",
        "epochs = 1"
      ],
      "metadata": {
        "id": "LXl-EDyLH2lP"
      },
      "execution_count": null,
      "outputs": []
    },
    {
      "cell_type": "code",
      "source": [
        "model = Model(X_train_tensor.shape[1])\n",
        "\n",
        "for epoch in range(epochs):\n",
        "    y_pred = model(X_train_tensor)   # automatically calls the forward method\n",
        "\n",
        "    #print(y_pred)"
      ],
      "metadata": {
        "id": "ebx1ALkOHv5B"
      },
      "execution_count": null,
      "outputs": []
    },
    {
      "cell_type": "code",
      "source": [
        "print(model.linear1.bias)\n",
        "model.linear1.weight"
      ],
      "metadata": {
        "colab": {
          "base_uri": "https://localhost:8080/"
        },
        "id": "sQh3kBdUHxf6",
        "outputId": "744173aa-736b-4d93-989c-4fbd2c83b38d"
      },
      "execution_count": null,
      "outputs": [
        {
          "output_type": "stream",
          "name": "stdout",
          "text": [
            "Parameter containing:\n",
            "tensor([-0.1535,  0.0039,  0.1467,  0.0200,  0.1118], requires_grad=True)\n"
          ]
        },
        {
          "output_type": "execute_result",
          "data": {
            "text/plain": [
              "Parameter containing:\n",
              "tensor([[-0.1272,  0.0085,  0.0824, -0.0858,  0.1221,  0.0194, -0.0699,  0.1032,\n",
              "         -0.0596,  0.0322,  0.0394,  0.1606, -0.0604, -0.1620, -0.0108, -0.1331,\n",
              "         -0.0544,  0.0965, -0.1692,  0.0990,  0.0953,  0.1450,  0.1659, -0.1745,\n",
              "          0.1037,  0.1253,  0.0013,  0.1438, -0.0170,  0.0251],\n",
              "        [-0.1387,  0.1153, -0.0031,  0.1116,  0.0851, -0.1203,  0.1747, -0.1557,\n",
              "         -0.0482,  0.1031, -0.1298, -0.0353,  0.1060, -0.0078, -0.0465, -0.0598,\n",
              "         -0.1047, -0.1004,  0.0507,  0.1254, -0.0135, -0.0383, -0.1576,  0.1012,\n",
              "         -0.0519,  0.0467, -0.1398,  0.0535, -0.1086, -0.0653],\n",
              "        [ 0.1108, -0.1421,  0.0505, -0.0451, -0.1094, -0.0583,  0.1714,  0.1777,\n",
              "         -0.0374, -0.1585,  0.1543,  0.1511,  0.1032,  0.0127,  0.0289, -0.0906,\n",
              "          0.1399, -0.0571, -0.0387, -0.0624, -0.0535, -0.1128, -0.1499, -0.1606,\n",
              "          0.0930, -0.0974, -0.0893, -0.1548, -0.1553,  0.0403],\n",
              "        [-0.0859,  0.0559, -0.0404,  0.0196,  0.1683,  0.0987,  0.0144, -0.1552,\n",
              "          0.0078,  0.0663, -0.0785,  0.1486,  0.0633, -0.1562, -0.1579, -0.1597,\n",
              "         -0.1137,  0.0159, -0.1085, -0.0976, -0.1802,  0.0953, -0.1692, -0.0030,\n",
              "          0.1448,  0.0922, -0.0033,  0.1809, -0.1043, -0.1234],\n",
              "        [ 0.0391, -0.0584,  0.1760, -0.1569, -0.0415,  0.0789, -0.1205,  0.0989,\n",
              "          0.1272,  0.0346,  0.0657,  0.1658, -0.0386,  0.1713, -0.0268,  0.1309,\n",
              "          0.0566, -0.0718,  0.0862, -0.0410,  0.1074,  0.1469,  0.1386, -0.1760,\n",
              "         -0.1057, -0.1572, -0.1021, -0.0883,  0.0070, -0.0914]],\n",
              "       requires_grad=True)"
            ]
          },
          "metadata": {},
          "execution_count": 50
        }
      ]
    },
    {
      "cell_type": "code",
      "source": [
        "# create model class\n",
        "import torch\n",
        "import torch.nn as nn\n",
        "\n",
        "class Model(nn.Module):\n",
        "    def __init__(self, num_features):\n",
        "\n",
        "        super().__init__()\n",
        "        self.network = nn.Sequential(\n",
        "            nn.Linear(num_features, 5),\n",
        "            nn.ReLU(),\n",
        "            nn.Linear(5, 1),\n",
        "            nn.Sigmoid()\n",
        "        )\n",
        "\n",
        "\n",
        "    def forward(self, x):\n",
        "        out = self.network(x)\n",
        "\n",
        "        return out\n",
        "\n",
        "\n",
        "    def evaluate_model(self, x_test, y_test):\n",
        "        with torch.no_grad():\n",
        "            y_pred = self.forward(x_test)\n",
        "            y_pred = (y_pred > 0.5).float()\n",
        "            accuracy = (y_pred == y_test).float().mean()\n",
        "            return accuracy"
      ],
      "metadata": {
        "id": "3BexseqcOQfd"
      },
      "execution_count": null,
      "outputs": []
    },
    {
      "cell_type": "markdown",
      "source": [
        "## Improved Code"
      ],
      "metadata": {
        "id": "DcqHesVCIY2C"
      }
    },
    {
      "cell_type": "markdown",
      "source": [
        "---\n",
        "\n",
        "#### **Understanding `torch.optim` in PyTorch**\n",
        "\n",
        "The `torch.optim` module in PyTorch provides a collection of **optimization algorithms** used to update the parameters of a model during training. It includes commonly used optimizers such as:\n",
        "\n",
        "* `SGD` (Stochastic Gradient Descent)\n",
        "* `Adam`\n",
        "* `RMSprop`\n",
        "* And others\n",
        "\n",
        "These optimizers efficiently handle weight updates and offer additional features like:\n",
        "\n",
        "* **Learning rate scheduling**\n",
        "* **Weight decay** (used for regularization)\n",
        "\n",
        "---\n",
        "\n",
        "### **`model.parameters()` in PyTorch**\n",
        "\n",
        "The `model.parameters()` method returns an **iterator over all the trainable parameters** in a model. These parameters are instances of `torch.nn.Parameter` and typically include:\n",
        "\n",
        "* **Weights**:\n",
        "  The weight matrices of layers like `nn.Linear`, `nn.Conv2d`, etc.\n",
        "\n",
        "* **Biases**:\n",
        "  The bias terms of layers (if applicable)\n",
        "\n",
        "These parameters are passed to the optimizer, which then:\n",
        "\n",
        "1. **Computes gradients** via backpropagation\n",
        "2. **Updates parameters** using the selected optimization algorithm\n",
        "\n",
        "---\n"
      ],
      "metadata": {
        "id": "x-cYht5iMhWI"
      }
    },
    {
      "cell_type": "code",
      "source": [
        "# create model class\n",
        "import torch\n",
        "import torch.nn as nn\n",
        "\n",
        "class Model(nn.Module):\n",
        "    def __init__(self, num_features):\n",
        "\n",
        "        super().__init__()\n",
        "        self.linear = nn.Linear(num_features, 1)   # Determine the input Shape and output shape\n",
        "        self.sigmoid = nn.Sigmoid()\n",
        "\n",
        "    def forward(self, x):\n",
        "        out = self.linear(x)\n",
        "        out = self.sigmoid(out)\n",
        "\n",
        "        return out\n",
        "\n",
        "    def evaluate_model(self, x_test, y_test):\n",
        "        with torch.no_grad():\n",
        "            y_pred = self.forward(x_test)\n",
        "            y_pred = (y_pred > 0.5).float()\n",
        "            accuracy = (y_pred == y_test).float().mean()\n",
        "            return accuracy"
      ],
      "metadata": {
        "id": "LastyEMGH59h"
      },
      "execution_count": null,
      "outputs": []
    },
    {
      "cell_type": "code",
      "source": [
        "# Important Parameters\n",
        "learning_rate = 0.1\n",
        "epochs = 25"
      ],
      "metadata": {
        "id": "twWEoPP1Ifce"
      },
      "execution_count": null,
      "outputs": []
    },
    {
      "cell_type": "code",
      "source": [
        "loss_function = nn.BCELoss()"
      ],
      "metadata": {
        "id": "NsStzt0fK0z3"
      },
      "execution_count": null,
      "outputs": []
    },
    {
      "cell_type": "code",
      "source": [
        "model = Model(X_train_tensor.shape[1])\n",
        "optimizer = torch.optim.SGD(model.parameters(), lr=learning_rate)  # SDG : Stochastic Gradient\n",
        "\n",
        "for epoch in range(epochs):\n",
        "    # Forward Pass\n",
        "    y_pred = model(X_train_tensor)   # automatically calls the forward method\n",
        "\n",
        "    # Calculate Loss\n",
        "    loss = loss_function(y_pred.flatten(), y_train_tensor.float())\n",
        "\n",
        "    # Clear Gradients\n",
        "    optimizer.zero_grad()\n",
        "\n",
        "    # back prop\n",
        "    loss.backward()\n",
        "\n",
        "    # Update Parameters\n",
        "    optimizer.step()\n",
        "\n",
        "    acc = model.evaluate_model(X_test_tensor, y_test_tensor)\n",
        "\n",
        "    print(f\"Epoch: {epoch+1}, Loss : {loss.item():.4f}, Accuracy : {acc.item():.2f}\")"
      ],
      "metadata": {
        "colab": {
          "base_uri": "https://localhost:8080/"
        },
        "id": "Z_7b6KZWIfo7",
        "outputId": "4b76312d-d40a-4168-a509-7b2c2145292d"
      },
      "execution_count": null,
      "outputs": [
        {
          "output_type": "stream",
          "name": "stdout",
          "text": [
            "Epoch: 1, Loss : 0.7483, Accuracy : 0.38\n",
            "Epoch: 2, Loss : 0.7362, Accuracy : 0.38\n",
            "Epoch: 3, Loss : 0.7244, Accuracy : 0.38\n",
            "Epoch: 4, Loss : 0.7128, Accuracy : 0.38\n",
            "Epoch: 5, Loss : 0.7014, Accuracy : 0.38\n",
            "Epoch: 6, Loss : 0.6903, Accuracy : 0.38\n",
            "Epoch: 7, Loss : 0.6794, Accuracy : 0.38\n",
            "Epoch: 8, Loss : 0.6685, Accuracy : 0.38\n",
            "Epoch: 9, Loss : 0.6578, Accuracy : 0.38\n",
            "Epoch: 10, Loss : 0.6472, Accuracy : 0.38\n",
            "Epoch: 11, Loss : 0.6368, Accuracy : 0.38\n",
            "Epoch: 12, Loss : 0.6265, Accuracy : 0.38\n",
            "Epoch: 13, Loss : 0.6162, Accuracy : 0.39\n",
            "Epoch: 14, Loss : 0.6061, Accuracy : 0.41\n",
            "Epoch: 15, Loss : 0.5961, Accuracy : 0.42\n",
            "Epoch: 16, Loss : 0.5862, Accuracy : 0.47\n",
            "Epoch: 17, Loss : 0.5764, Accuracy : 0.53\n",
            "Epoch: 18, Loss : 0.5666, Accuracy : 0.53\n",
            "Epoch: 19, Loss : 0.5571, Accuracy : 0.53\n",
            "Epoch: 20, Loss : 0.5476, Accuracy : 0.53\n",
            "Epoch: 21, Loss : 0.5382, Accuracy : 0.53\n",
            "Epoch: 22, Loss : 0.5290, Accuracy : 0.53\n",
            "Epoch: 23, Loss : 0.5198, Accuracy : 0.53\n",
            "Epoch: 24, Loss : 0.5108, Accuracy : 0.53\n",
            "Epoch: 25, Loss : 0.5018, Accuracy : 0.53\n"
          ]
        }
      ]
    },
    {
      "cell_type": "code",
      "source": [],
      "metadata": {
        "id": "CG0B5gYLIhrh"
      },
      "execution_count": null,
      "outputs": []
    }
  ]
}