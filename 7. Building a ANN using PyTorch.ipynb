{
  "cells": [
    {
      "cell_type": "code",
      "execution_count": 1,
      "metadata": {
        "id": "cLRLkNNI5n2Q"
      },
      "outputs": [],
      "source": [
        "import pandas as pd\n",
        "import torch\n",
        "from torch.utils.data import Dataset, DataLoader\n",
        "import torch.nn as nn\n",
        "from sklearn.model_selection import train_test_split\n",
        "import matplotlib.pyplot as plt\n",
        "import torch.optim as optim"
      ]
    },
    {
      "cell_type": "code",
      "execution_count": null,
      "metadata": {
        "colab": {
          "base_uri": "https://localhost:8080/",
          "height": 255
        },
        "id": "H8cOUk7x-YqC",
        "outputId": "7c48fab4-0492-4ce4-c537-fc9fefedd1e6"
      },
      "outputs": [
        {
          "data": {
            "text/html": [
              "<div>\n",
              "<style scoped>\n",
              "    .dataframe tbody tr th:only-of-type {\n",
              "        vertical-align: middle;\n",
              "    }\n",
              "\n",
              "    .dataframe tbody tr th {\n",
              "        vertical-align: top;\n",
              "    }\n",
              "\n",
              "    .dataframe thead th {\n",
              "        text-align: right;\n",
              "    }\n",
              "</style>\n",
              "<table border=\"1\" class=\"dataframe\">\n",
              "  <thead>\n",
              "    <tr style=\"text-align: right;\">\n",
              "      <th></th>\n",
              "      <th>label</th>\n",
              "      <th>pixel1</th>\n",
              "      <th>pixel2</th>\n",
              "      <th>pixel3</th>\n",
              "      <th>pixel4</th>\n",
              "      <th>pixel5</th>\n",
              "      <th>pixel6</th>\n",
              "      <th>pixel7</th>\n",
              "      <th>pixel8</th>\n",
              "      <th>pixel9</th>\n",
              "      <th>...</th>\n",
              "      <th>pixel775</th>\n",
              "      <th>pixel776</th>\n",
              "      <th>pixel777</th>\n",
              "      <th>pixel778</th>\n",
              "      <th>pixel779</th>\n",
              "      <th>pixel780</th>\n",
              "      <th>pixel781</th>\n",
              "      <th>pixel782</th>\n",
              "      <th>pixel783</th>\n",
              "      <th>pixel784</th>\n",
              "    </tr>\n",
              "  </thead>\n",
              "  <tbody>\n",
              "    <tr>\n",
              "      <th>0</th>\n",
              "      <td>9</td>\n",
              "      <td>0</td>\n",
              "      <td>0</td>\n",
              "      <td>0</td>\n",
              "      <td>0</td>\n",
              "      <td>0</td>\n",
              "      <td>0</td>\n",
              "      <td>0</td>\n",
              "      <td>0</td>\n",
              "      <td>0</td>\n",
              "      <td>...</td>\n",
              "      <td>0</td>\n",
              "      <td>7</td>\n",
              "      <td>0</td>\n",
              "      <td>50</td>\n",
              "      <td>205</td>\n",
              "      <td>196</td>\n",
              "      <td>213</td>\n",
              "      <td>165</td>\n",
              "      <td>0</td>\n",
              "      <td>0</td>\n",
              "    </tr>\n",
              "    <tr>\n",
              "      <th>1</th>\n",
              "      <td>7</td>\n",
              "      <td>0</td>\n",
              "      <td>0</td>\n",
              "      <td>0</td>\n",
              "      <td>0</td>\n",
              "      <td>0</td>\n",
              "      <td>0</td>\n",
              "      <td>0</td>\n",
              "      <td>0</td>\n",
              "      <td>0</td>\n",
              "      <td>...</td>\n",
              "      <td>0</td>\n",
              "      <td>0</td>\n",
              "      <td>0</td>\n",
              "      <td>0</td>\n",
              "      <td>0</td>\n",
              "      <td>0</td>\n",
              "      <td>0</td>\n",
              "      <td>0</td>\n",
              "      <td>0</td>\n",
              "      <td>0</td>\n",
              "    </tr>\n",
              "    <tr>\n",
              "      <th>2</th>\n",
              "      <td>0</td>\n",
              "      <td>0</td>\n",
              "      <td>0</td>\n",
              "      <td>0</td>\n",
              "      <td>0</td>\n",
              "      <td>0</td>\n",
              "      <td>1</td>\n",
              "      <td>0</td>\n",
              "      <td>0</td>\n",
              "      <td>0</td>\n",
              "      <td>...</td>\n",
              "      <td>142</td>\n",
              "      <td>142</td>\n",
              "      <td>142</td>\n",
              "      <td>21</td>\n",
              "      <td>0</td>\n",
              "      <td>3</td>\n",
              "      <td>0</td>\n",
              "      <td>0</td>\n",
              "      <td>0</td>\n",
              "      <td>0</td>\n",
              "    </tr>\n",
              "    <tr>\n",
              "      <th>3</th>\n",
              "      <td>8</td>\n",
              "      <td>0</td>\n",
              "      <td>0</td>\n",
              "      <td>0</td>\n",
              "      <td>0</td>\n",
              "      <td>0</td>\n",
              "      <td>0</td>\n",
              "      <td>0</td>\n",
              "      <td>0</td>\n",
              "      <td>0</td>\n",
              "      <td>...</td>\n",
              "      <td>0</td>\n",
              "      <td>0</td>\n",
              "      <td>0</td>\n",
              "      <td>0</td>\n",
              "      <td>0</td>\n",
              "      <td>0</td>\n",
              "      <td>0</td>\n",
              "      <td>0</td>\n",
              "      <td>0</td>\n",
              "      <td>0</td>\n",
              "    </tr>\n",
              "    <tr>\n",
              "      <th>4</th>\n",
              "      <td>8</td>\n",
              "      <td>0</td>\n",
              "      <td>0</td>\n",
              "      <td>0</td>\n",
              "      <td>0</td>\n",
              "      <td>0</td>\n",
              "      <td>0</td>\n",
              "      <td>0</td>\n",
              "      <td>0</td>\n",
              "      <td>0</td>\n",
              "      <td>...</td>\n",
              "      <td>213</td>\n",
              "      <td>203</td>\n",
              "      <td>174</td>\n",
              "      <td>151</td>\n",
              "      <td>188</td>\n",
              "      <td>10</td>\n",
              "      <td>0</td>\n",
              "      <td>0</td>\n",
              "      <td>0</td>\n",
              "      <td>0</td>\n",
              "    </tr>\n",
              "  </tbody>\n",
              "</table>\n",
              "<p>5 rows × 785 columns</p>\n",
              "</div>"
            ],
            "text/plain": [
              "   label  pixel1  pixel2  pixel3  pixel4  pixel5  pixel6  pixel7  pixel8  \\\n",
              "0      9       0       0       0       0       0       0       0       0   \n",
              "1      7       0       0       0       0       0       0       0       0   \n",
              "2      0       0       0       0       0       0       1       0       0   \n",
              "3      8       0       0       0       0       0       0       0       0   \n",
              "4      8       0       0       0       0       0       0       0       0   \n",
              "\n",
              "   pixel9  ...  pixel775  pixel776  pixel777  pixel778  pixel779  pixel780  \\\n",
              "0       0  ...         0         7         0        50       205       196   \n",
              "1       0  ...         0         0         0         0         0         0   \n",
              "2       0  ...       142       142       142        21         0         3   \n",
              "3       0  ...         0         0         0         0         0         0   \n",
              "4       0  ...       213       203       174       151       188        10   \n",
              "\n",
              "   pixel781  pixel782  pixel783  pixel784  \n",
              "0       213       165         0         0  \n",
              "1         0         0         0         0  \n",
              "2         0         0         0         0  \n",
              "3         0         0         0         0  \n",
              "4         0         0         0         0  \n",
              "\n",
              "[5 rows x 785 columns]"
            ]
          },
          "execution_count": 2,
          "metadata": {},
          "output_type": "execute_result"
        }
      ],
      "source": [
        "df = pd.read_csv(\"/content/fmnist_small.csv\")\n",
        "df.head()"
      ]
    },
    {
      "cell_type": "code",
      "execution_count": 3,
      "metadata": {
        "colab": {
          "base_uri": "https://localhost:8080/",
          "height": 1000
        },
        "id": "XEX_hE24Azrr",
        "outputId": "b31dc4a9-0ca5-4c33-cced-787e7753a7e7"
      },
      "outputs": [
        {
          "data": {
            "image/png": "[encoded data removed]",
            "text/plain": [
              "<Figure size 1000x1000 with 9 Axes>"
            ]
          },
          "metadata": {},
          "output_type": "display_data"
        }
      ],
      "source": [
        "fig, axes = plt.subplots(3,3, figsize=(10,10))\n",
        "\n",
        "for i, ax in enumerate(axes.flat):\n",
        "    img = df.iloc[i , 1:].values.reshape(28, 28)\n",
        "    ax.imshow(img)\n",
        "    ax.set_title(f\"Label: {df.iloc[i, 0]}\")\n",
        "    ax.axis('off')\n",
        "\n",
        "plt.tight_layout()\n",
        "plt.show()"
      ]
    },
    {
      "cell_type": "code",
      "execution_count": 4,
      "metadata": {
        "id": "ABa1NvHRAtio"
      },
      "outputs": [],
      "source": [
        "X = df.iloc[:, 1:].values\n",
        "y = df.iloc[:, 0].values"
      ]
    },
    {
      "cell_type": "code",
      "execution_count": 5,
      "metadata": {
        "id": "gngaBKsHFL8S"
      },
      "outputs": [],
      "source": [
        "X = X / 255.0"
      ]
    },
    {
      "cell_type": "code",
      "execution_count": 6,
      "metadata": {
        "id": "_oFGGR2I-gyx"
      },
      "outputs": [],
      "source": [
        "X_train, X_test, y_train, y_test = train_test_split(X, y, test_size=0.2, random_state=42)"
      ]
    },
    {
      "cell_type": "markdown",
      "metadata": {
        "id": "O-G09rz2_DrV"
      },
      "source": [
        "## Dataset Loading"
      ]
    },
    {
      "cell_type": "code",
      "execution_count": 7,
      "metadata": {
        "id": "f_SKrukI-5MA"
      },
      "outputs": [],
      "source": [
        "class CustromDataset(Dataset):\n",
        "\n",
        "    def __init__(self, X, y):\n",
        "        self.X = torch.tensor(X, dtype= torch.float32)\n",
        "        self.y = torch.tensor(y, dtype= torch.long)\n",
        "\n",
        "    def __len__(self):\n",
        "        return len(self.X)\n",
        "\n",
        "    def __getitem__(self, index):\n",
        "        return self.X[index], self.y[index]"
      ]
    },
    {
      "cell_type": "code",
      "execution_count": 8,
      "metadata": {
        "id": "E7-9tCf--_A6"
      },
      "outputs": [],
      "source": [
        "train_dataset = CustromDataset(X_train, y_train)\n",
        "test_dataset = CustromDataset(X_test, y_test)"
      ]
    },
    {
      "cell_type": "code",
      "execution_count": 9,
      "metadata": {
        "id": "QvtgqM6L_6-o"
      },
      "outputs": [],
      "source": [
        "train_loader = DataLoader(train_dataset, batch_size=32, shuffle=True)\n",
        "test_loader = DataLoader(test_dataset, batch_size=32, shuffle=False)"
      ]
    },
    {
      "cell_type": "code",
      "execution_count": 10,
      "metadata": {
        "colab": {
          "base_uri": "https://localhost:8080/"
        },
        "id": "hVxVCEWn_8qw",
        "outputId": "0e56acbf-114c-44b1-a1cc-9f1d4d2bde5f"
      },
      "outputs": [
        {
          "data": {
            "text/plain": [
              "(150, 38)"
            ]
          },
          "execution_count": 10,
          "metadata": {},
          "output_type": "execute_result"
        }
      ],
      "source": [
        "len(train_loader), len(test_loader)  # No of Batches"
      ]
    },
    {
      "cell_type": "code",
      "execution_count": 11,
      "metadata": {
        "id": "ptxFBLnAFvvP"
      },
      "outputs": [],
      "source": [
        "class MyModel(nn.Module):\n",
        "    def __init__(self, num_features):\n",
        "        super().__init__()\n",
        "\n",
        "        self.model = nn.Sequential(\n",
        "            nn.Linear(num_features, 128),\n",
        "            nn.ReLU(),\n",
        "            nn.Linear(128, 64),\n",
        "            nn.ReLU(),\n",
        "            nn.Linear(64, 10)\n",
        "        )\n",
        "\n",
        "    def forward(self, x):\n",
        "        return self.model(x)\n"
      ]
    },
    {
      "cell_type": "code",
      "execution_count": 12,
      "metadata": {
        "id": "9wxu1EvSGKve"
      },
      "outputs": [],
      "source": [
        "learning_rate = 0.1\n",
        "epochs = 100"
      ]
    },
    {
      "cell_type": "code",
      "execution_count": 13,
      "metadata": {
        "id": "T3ZrRLanHTkC"
      },
      "outputs": [],
      "source": [
        "model = MyModel(28*28)\n",
        "\n",
        "loss_function = nn.CrossEntropyLoss()\n",
        "optimizer = optim.SGD(model.parameters(), lr=learning_rate)"
      ]
    },
    {
      "cell_type": "code",
      "execution_count": 14,
      "metadata": {
        "colab": {
          "base_uri": "https://localhost:8080/"
        },
        "id": "SGILbkvrHBkz",
        "outputId": "7e331096-da6e-4e9e-d191-e75ee2c0eb20"
      },
      "outputs": [
        {
          "name": "stdout",
          "output_type": "stream",
          "text": [
            "Epoch [1/100], Loss: 1.3072\n",
            "Epoch [2/100], Loss: 0.7711\n",
            "Epoch [3/100], Loss: 0.6603\n",
            "Epoch [4/100], Loss: 0.5873\n",
            "Epoch [5/100], Loss: 0.5517\n",
            "Epoch [6/100], Loss: 0.5094\n",
            "Epoch [7/100], Loss: 0.4787\n",
            "Epoch [8/100], Loss: 0.4499\n",
            "Epoch [9/100], Loss: 0.4400\n",
            "Epoch [10/100], Loss: 0.4098\n",
            "Epoch [11/100], Loss: 0.3874\n",
            "Epoch [12/100], Loss: 0.3631\n",
            "Epoch [13/100], Loss: 0.3518\n",
            "Epoch [14/100], Loss: 0.3379\n",
            "Epoch [15/100], Loss: 0.3257\n",
            "Epoch [16/100], Loss: 0.3085\n",
            "Epoch [17/100], Loss: 0.3081\n",
            "Epoch [18/100], Loss: 0.3046\n",
            "Epoch [19/100], Loss: 0.2724\n",
            "Epoch [20/100], Loss: 0.2740\n",
            "Epoch [21/100], Loss: 0.2627\n",
            "Epoch [22/100], Loss: 0.2477\n",
            "Epoch [23/100], Loss: 0.2383\n",
            "Epoch [24/100], Loss: 0.2351\n",
            "Epoch [25/100], Loss: 0.2330\n",
            "Epoch [26/100], Loss: 0.2166\n",
            "Epoch [27/100], Loss: 0.2154\n",
            "Epoch [28/100], Loss: 0.2011\n",
            "Epoch [29/100], Loss: 0.2014\n",
            "Epoch [30/100], Loss: 0.1880\n",
            "Epoch [31/100], Loss: 0.1822\n",
            "Epoch [32/100], Loss: 0.1945\n",
            "Epoch [33/100], Loss: 0.1664\n",
            "Epoch [34/100], Loss: 0.1597\n",
            "Epoch [35/100], Loss: 0.1731\n",
            "Epoch [36/100], Loss: 0.1650\n",
            "Epoch [37/100], Loss: 0.1409\n",
            "Epoch [38/100], Loss: 0.1415\n",
            "Epoch [39/100], Loss: 0.1506\n",
            "Epoch [40/100], Loss: 0.1400\n",
            "Epoch [41/100], Loss: 0.1324\n",
            "Epoch [42/100], Loss: 0.1240\n",
            "Epoch [43/100], Loss: 0.1241\n",
            "Epoch [44/100], Loss: 0.1287\n",
            "Epoch [45/100], Loss: 0.1087\n",
            "Epoch [46/100], Loss: 0.0964\n",
            "Epoch [47/100], Loss: 0.1246\n",
            "Epoch [48/100], Loss: 0.1272\n",
            "Epoch [49/100], Loss: 0.1356\n",
            "Epoch [50/100], Loss: 0.1078\n",
            "Epoch [51/100], Loss: 0.0914\n",
            "Epoch [52/100], Loss: 0.1061\n",
            "Epoch [53/100], Loss: 0.0796\n",
            "Epoch [54/100], Loss: 0.0863\n",
            "Epoch [55/100], Loss: 0.0830\n",
            "Epoch [56/100], Loss: 0.0674\n",
            "Epoch [57/100], Loss: 0.0738\n",
            "Epoch [58/100], Loss: 0.0607\n",
            "Epoch [59/100], Loss: 0.1180\n",
            "Epoch [60/100], Loss: 0.1275\n",
            "Epoch [61/100], Loss: 0.0755\n",
            "Epoch [62/100], Loss: 0.0601\n",
            "Epoch [63/100], Loss: 0.0655\n",
            "Epoch [64/100], Loss: 0.0668\n",
            "Epoch [65/100], Loss: 0.0673\n",
            "Epoch [66/100], Loss: 0.0641\n",
            "Epoch [67/100], Loss: 0.0427\n",
            "Epoch [68/100], Loss: 0.0454\n",
            "Epoch [69/100], Loss: 0.0721\n",
            "Epoch [70/100], Loss: 0.0856\n",
            "Epoch [71/100], Loss: 0.0516\n",
            "Epoch [72/100], Loss: 0.0495\n",
            "Epoch [73/100], Loss: 0.0333\n",
            "Epoch [74/100], Loss: 0.0608\n",
            "Epoch [75/100], Loss: 0.0679\n",
            "Epoch [76/100], Loss: 0.0502\n",
            "Epoch [77/100], Loss: 0.0292\n",
            "Epoch [78/100], Loss: 0.0429\n",
            "Epoch [79/100], Loss: 0.0368\n",
            "Epoch [80/100], Loss: 0.0513\n",
            "Epoch [81/100], Loss: 0.0302\n",
            "Epoch [82/100], Loss: 0.0272\n",
            "Epoch [83/100], Loss: 0.0257\n",
            "Epoch [84/100], Loss: 0.0185\n",
            "Epoch [85/100], Loss: 0.0645\n",
            "Epoch [86/100], Loss: 0.1196\n",
            "Epoch [87/100], Loss: 0.0520\n",
            "Epoch [88/100], Loss: 0.0192\n",
            "Epoch [89/100], Loss: 0.0145\n",
            "Epoch [90/100], Loss: 0.0770\n",
            "Epoch [91/100], Loss: 0.0219\n",
            "Epoch [92/100], Loss: 0.0171\n",
            "Epoch [93/100], Loss: 0.0145\n",
            "Epoch [94/100], Loss: 0.0142\n",
            "Epoch [95/100], Loss: 0.0355\n",
            "Epoch [96/100], Loss: 0.0198\n",
            "Epoch [97/100], Loss: 0.0628\n",
            "Epoch [98/100], Loss: 0.0557\n",
            "Epoch [99/100], Loss: 0.0206\n",
            "Epoch [100/100], Loss: 0.0131\n"
          ]
        }
      ],
      "source": [
        "for epoch in range(epochs):\n",
        "    total_loss = 0\n",
        "\n",
        "    for batch_features, batch_labels in train_loader:\n",
        "        outputs = model(batch_features)\n",
        "        loss = loss_function(outputs, batch_labels)\n",
        "\n",
        "        optimizer.zero_grad()\n",
        "        loss.backward()\n",
        "        optimizer.step()\n",
        "\n",
        "        total_loss += loss.item()\n",
        "\n",
        "    avg_loss = total_loss / len(train_loader)\n",
        "    print(f\"Epoch [{epoch+1}/{epochs}], Loss: {avg_loss:.4f}\")"
      ]
    },
    {
      "cell_type": "code",
      "execution_count": 15,
      "metadata": {
        "colab": {
          "base_uri": "https://localhost:8080/"
        },
        "id": "F7wxfbpAH_oi",
        "outputId": "07103961-fbb9-4e5b-a933-467926b8db43"
      },
      "outputs": [
        {
          "name": "stdout",
          "output_type": "stream",
          "text": [
            "Test Accuracy: 84.17%\n"
          ]
        }
      ],
      "source": [
        "model.eval()\n",
        "\n",
        "with torch.no_grad():\n",
        "    correct = 0\n",
        "    total = 0\n",
        "\n",
        "    for batch_features, batch_labels in test_loader:\n",
        "        outputs = model.forward(batch_features)\n",
        "        _, predicted = torch.max(outputs, 1)\n",
        "\n",
        "        total += batch_labels.size(0)\n",
        "        correct += (predicted == batch_labels).sum().item()\n",
        "\n",
        "accuracy = correct / total\n",
        "print(f\"Test Accuracy: {accuracy * 100:.2f}%\")"
      ]
    },
    {
      "cell_type": "code",
      "execution_count": null,
      "metadata": {
        "id": "_0yVYj0EI00B"
      },
      "outputs": [],
      "source": []
    }
  ],
  "metadata": {
    "colab": {
      "provenance": []
    },
    "kernelspec": {
      "display_name": "Python 3",
      "name": "python3"
    },
    "language_info": {
      "codemirror_mode": {
        "name": "ipython",
        "version": 3
      },
      "file_extension": ".py",
      "mimetype": "text/x-python",
      "name": "python",
      "nbconvert_exporter": "python",
      "pygments_lexer": "ipython3",
      "version": "3.12.10"
    }
  },
  "nbformat": 4,
  "nbformat_minor": 0
}
