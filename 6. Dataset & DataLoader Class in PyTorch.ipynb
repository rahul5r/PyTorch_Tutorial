{
  "nbformat": 4,
  "nbformat_minor": 0,
  "metadata": {
    "colab": {
      "provenance": []
    },
    "kernelspec": {
      "name": "python3",
      "display_name": "Python 3"
    },
    "language_info": {
      "name": "python"
    }
  },
  "cells": [
    {
      "cell_type": "markdown",
      "source": [
        "# **Dataset and Dataloader Classes**\n",
        "\n",
        "\n",
        "\n",
        "The `Dataset` and `DataLoader` classes are **core abstractions in PyTorch** that help separate how data is defined from how it is efficiently loaded and iterated during training.\n",
        "\n",
        "### **Dataset Class**\n",
        "\n",
        "The Dataset class is essentially a blueprint. When you create a custom Dataset, you decide how data is loaded and returned.\n",
        "\n",
        "It defines:\n",
        "\n",
        "* `__init__()` which tells how data should be loaded.\n",
        "* `__len__()` which returns the total number of samples.\n",
        "* `__getitem__(index)` which returns the data (and label) at the given index.\n",
        "\n",
        "### **DataLoader Class**\n",
        "\n",
        "The DataLoader wraps a Dataset and handles batching, shuffling, and parallel loading for you.\n",
        "\n",
        "**DataLoader Control Flow:**\n",
        "\n",
        "* At the start of each epoch, the DataLoader (if `shuffle=True`) shuffles indices (using a sampler).\n",
        "* It divides the indices into chunks of `batch_size`.\n",
        "* For each index in the chunk, data samples are fetched from the Dataset object.\n",
        "* The samples are then collected and combined into a batch (using `collate_fn`).\n",
        "* The batch is then returned to the main training loop.\n"
      ],
      "metadata": {
        "id": "0NxUse4-sUaX"
      }
    },
    {
      "cell_type": "code",
      "execution_count": 2,
      "metadata": {
        "id": "vhl0qQ0Nkmiu"
      },
      "outputs": [],
      "source": [
        "from sklearn.datasets import make_classification\n",
        "import torch"
      ]
    },
    {
      "cell_type": "code",
      "source": [
        "X, y = make_classification(\n",
        "    n_samples=10,\n",
        "    n_features=2,\n",
        "    n_informative=2,\n",
        "    n_redundant=0,\n",
        "    n_classes=2,\n",
        "    random_state=42\n",
        ")"
      ],
      "metadata": {
        "id": "OdEnXfjuvWZz"
      },
      "execution_count": 3,
      "outputs": []
    },
    {
      "cell_type": "code",
      "source": [
        "X"
      ],
      "metadata": {
        "colab": {
          "base_uri": "https://localhost:8080/"
        },
        "id": "IHiDjfEHvvAo",
        "outputId": "28aa439e-f614-4f26-e2cc-005957523b44"
      },
      "execution_count": 4,
      "outputs": [
        {
          "output_type": "execute_result",
          "data": {
            "text/plain": [
              "array([[ 1.06833894, -0.97007347],\n",
              "       [-1.14021544, -0.83879234],\n",
              "       [-2.8953973 ,  1.97686236],\n",
              "       [-0.72063436, -0.96059253],\n",
              "       [-1.96287438, -0.99225135],\n",
              "       [-0.9382051 , -0.54304815],\n",
              "       [ 1.72725924, -1.18582677],\n",
              "       [ 1.77736657,  1.51157598],\n",
              "       [ 1.89969252,  0.83444483],\n",
              "       [-0.58723065, -1.97171753]])"
            ]
          },
          "metadata": {},
          "execution_count": 4
        }
      ]
    },
    {
      "cell_type": "code",
      "source": [
        "y"
      ],
      "metadata": {
        "colab": {
          "base_uri": "https://localhost:8080/"
        },
        "id": "XcR87S85vwQK",
        "outputId": "40092410-0ec9-4284-e9ff-75c1a0986e5e"
      },
      "execution_count": 5,
      "outputs": [
        {
          "output_type": "execute_result",
          "data": {
            "text/plain": [
              "array([1, 0, 0, 0, 0, 1, 1, 1, 1, 0])"
            ]
          },
          "metadata": {},
          "execution_count": 5
        }
      ]
    },
    {
      "cell_type": "code",
      "source": [
        "X = torch.tensor(X, dtype=torch.float32)\n",
        "y = torch.tensor(y, dtype=torch.long)"
      ],
      "metadata": {
        "id": "XJP3aK1Pvw0g"
      },
      "execution_count": 6,
      "outputs": []
    },
    {
      "cell_type": "code",
      "source": [
        "from torch.utils.data import Dataset, DataLoader"
      ],
      "metadata": {
        "id": "6Vt4X8PXv70V"
      },
      "execution_count": 7,
      "outputs": []
    },
    {
      "cell_type": "code",
      "source": [
        "class CustomDataset(Dataset):\n",
        "\n",
        "    def __init__(self, features, labels):\n",
        "        self.features = features\n",
        "        self.labels = labels\n",
        "\n",
        "    def __len__(self):\n",
        "        return self.features.shape[0]\n",
        "\n",
        "    def __getitem__(self, index):\n",
        "        # Any transformations can be done here, ie. Converting to GrayScale, Data Augmentation, etc.\n",
        "        return self.features[index], self.labels[index]"
      ],
      "metadata": {
        "id": "-ZgEClxowGIP"
      },
      "execution_count": 20,
      "outputs": []
    },
    {
      "cell_type": "code",
      "source": [
        "dataset = CustomDataset(X, y)"
      ],
      "metadata": {
        "id": "rieWXdSgwrOd"
      },
      "execution_count": 21,
      "outputs": []
    },
    {
      "cell_type": "code",
      "source": [
        "len(dataset)"
      ],
      "metadata": {
        "colab": {
          "base_uri": "https://localhost:8080/"
        },
        "id": "FMzm2gm6wu8Y",
        "outputId": "61bc4e88-02dd-4e59-ee75-0bac085f6cb3"
      },
      "execution_count": 22,
      "outputs": [
        {
          "output_type": "execute_result",
          "data": {
            "text/plain": [
              "10"
            ]
          },
          "metadata": {},
          "execution_count": 22
        }
      ]
    },
    {
      "cell_type": "code",
      "source": [
        "dataset[3]"
      ],
      "metadata": {
        "colab": {
          "base_uri": "https://localhost:8080/"
        },
        "id": "zIcn-vTswzxC",
        "outputId": "7d147603-ce08-4e7b-b4ae-5f02b8762ef7"
      },
      "execution_count": 23,
      "outputs": [
        {
          "output_type": "execute_result",
          "data": {
            "text/plain": [
              "(tensor([-0.7206, -0.9606]), tensor(0))"
            ]
          },
          "metadata": {},
          "execution_count": 23
        }
      ]
    },
    {
      "cell_type": "code",
      "source": [
        "dataloader = DataLoader(dataset, batch_size=2, shuffle=True)"
      ],
      "metadata": {
        "id": "cWDdSpzPw68L"
      },
      "execution_count": 24,
      "outputs": []
    },
    {
      "cell_type": "code",
      "source": [
        "for batch_features, batch_labels in dataloader:\n",
        "    print(batch_features)\n",
        "    print(batch_labels)\n",
        "    print(\"-\"*30)"
      ],
      "metadata": {
        "colab": {
          "base_uri": "https://localhost:8080/"
        },
        "id": "LeeJRtqnw_Uo",
        "outputId": "21ead014-074f-44eb-860d-b33dd639ba50"
      },
      "execution_count": 25,
      "outputs": [
        {
          "output_type": "stream",
          "name": "stdout",
          "text": [
            "tensor([[-1.1402, -0.8388],\n",
            "        [-0.7206, -0.9606]])\n",
            "tensor([0, 0])\n",
            "------------------------------\n",
            "tensor([[ 1.7273, -1.1858],\n",
            "        [-0.5872, -1.9717]])\n",
            "tensor([1, 0])\n",
            "------------------------------\n",
            "tensor([[-2.8954,  1.9769],\n",
            "        [ 1.8997,  0.8344]])\n",
            "tensor([0, 1])\n",
            "------------------------------\n",
            "tensor([[ 1.7774,  1.5116],\n",
            "        [-1.9629, -0.9923]])\n",
            "tensor([1, 0])\n",
            "------------------------------\n",
            "tensor([[ 1.0683, -0.9701],\n",
            "        [-0.9382, -0.5430]])\n",
            "tensor([1, 1])\n",
            "------------------------------\n"
          ]
        }
      ]
    },
    {
      "cell_type": "markdown",
      "source": [
        "## **Parallel Data Loading and Training with `num_workers=4` in PyTorch**\n",
        "\n",
        "#### **Assumptions**\n",
        "\n",
        "* **Total samples**: 10,000\n",
        "* **Batch size**: 32\n",
        "* **Workers (`num_workers`)**: 4\n",
        "* **Total batches per epoch**: \\~312 (10,000 / 32 ≈ 312)\n",
        "\n",
        "### **Workflow**\n",
        "\n",
        "#### **1. Sampler and Batch Creation (Main Process)**\n",
        "\n",
        "Before training begins for the epoch:\n",
        "\n",
        "* The `DataLoader`'s sampler **shuffles** all 10,000 indices.\n",
        "* These are then grouped into **312 batches** of 32 indices each.\n",
        "* All batches are **queued up** and ready to be fetched by workers.\n",
        "\n",
        "#### **2. Parallel Data Loading (Workers)**\n",
        "\n",
        "At the start of the training epoch, you typically run:\n",
        "\n",
        "```python\n",
        "for batch_data, batch_labels in dataloader:\n",
        "    # Training logic\n",
        "```\n",
        "\n",
        "Under the hood, as soon as iteration starts:\n",
        "\n",
        "* The first **four batches of indices** are dispatched to the 4 workers:\n",
        "\n",
        "  * **Worker #1** loads batch 1\n",
        "  * **Worker #2** loads batch 2\n",
        "  * **Worker #3** loads batch 3\n",
        "  * **Worker #4** loads batch 4\n",
        "\n",
        "Each worker:\n",
        "\n",
        "* Calls `__getitem__()` on the dataset for each index in the batch\n",
        "* Applies any defined **transforms**\n",
        "* Passes samples through `collate_fn` to form a **single batch tensor**\n",
        "\n",
        "\n",
        "#### **3. First Batch Returned to Main Process**\n",
        "\n",
        "* Whichever worker finishes first sends its batch (e.g., batch 1) to the **main process**.\n",
        "* The main process **yields** this batch to your training loop:\n",
        "\n",
        "  ```python\n",
        "  for batch_data, batch_labels in dataloader:\n",
        "      ...\n",
        "  ```\n",
        "\n",
        "\n",
        "#### **4. Model Training on the Main Process**\n",
        "\n",
        "While the first batch is being used for:\n",
        "\n",
        "* **Forward pass**\n",
        "* **Loss computation**\n",
        "* **Backpropagation**\n",
        "\n",
        "...the other three workers continue preparing their batches **in parallel**.\n",
        "By the time you're done with batch 1, the **next batches are already prepared** and ready.\n",
        "\n",
        "\n",
        "#### **5. Continuous Processing**\n",
        "\n",
        "* As soon as a worker finishes one batch, it grabs the **next one**:\n",
        "\n",
        "  * After Worker #1 finishes batch 1 → it starts batch 5\n",
        "  * After Worker #2 finishes batch 2 → it starts batch 6\n",
        "  * And so on...\n",
        "\n",
        "This creates a **pipeline effect**:\n",
        "\n",
        "* At any moment, **up to 4 batches** are being processed concurrently.\n",
        "\n",
        "\n",
        "#### **6. Loop Progression**\n",
        "\n",
        "Your training loop keeps running smoothly:\n",
        "\n",
        "```python\n",
        "for batch_data, batch_labels in dataloader:\n",
        "    # forward pass\n",
        "    # loss computation\n",
        "    # backward pass\n",
        "    # optimizer step\n",
        "```\n",
        "\n",
        "* Each iteration receives a **ready-to-use batch**\n",
        "* No long I/O waits thanks to **background data loading**\n",
        "\n",
        "\n",
        "#### **7. End of the Epoch**\n",
        "\n",
        "* After \\~312 iterations, all batches are processed.\n",
        "* All indices are consumed, so the `DataLoader` stops yielding data.\n",
        "\n",
        "On the **next epoch**:\n",
        "\n",
        "* If `shuffle=True`, the sampler reshuffles indices.\n",
        "* The whole process **repeats** with workers loading data in parallel again.\n",
        "\n",
        "---"
      ],
      "metadata": {
        "id": "p2Tsp3F-yScB"
      }
    },
    {
      "cell_type": "markdown",
      "source": [
        "\n",
        "### **PyTorch Samplers**\n",
        "\n",
        "In PyTorch, the sampler in the DataLoader determines the strategy for selecting samples from the dataset during data loading.\n",
        "It controls how indices of the dataset are drawn for each batch.\n",
        "\n",
        "\n",
        "### **Types of Samplers**\n",
        "\n",
        "PyTorch provides several predefined samplers, and you can create custom ones:\n",
        "\n",
        "1. **SequentialSampler**:\n",
        "    - Samples elements sequentially, in the order they appear in the dataset.\n",
        "    - *Default when* `shuffle=False`.\n",
        "\n",
        "2. **RandomSampler**:\n",
        "    - Samples elements randomly without replacement.\n",
        "    - *Default when* `shuffle=True`.\n",
        "\n",
        "3. **CustomSampler**:\n",
        "   - Samplers can be customized as per the requirements of the user.\n",
        "\n",
        "---\n",
        "\n"
      ],
      "metadata": {
        "id": "iN0mNcw4zY4n"
      }
    },
    {
      "cell_type": "markdown",
      "source": [
        "## **`collate_fn` in PyTorch**\n",
        "\n",
        "The `collate_fn` in PyTorch's `DataLoader` is a function that specifies how to combine a list of samples from a dataset into a single batch.\n",
        "\n",
        "By default, the `DataLoader` uses a simple batch collation mechanism,\n",
        "but `collate_fn` allows you to **customize how the data should be processed and batched**.\n",
        "\n",
        "One example where we manually customize the `collate_fn` is in the process of `padding` where manual padding is done.\n",
        "\n",
        "---\n"
      ],
      "metadata": {
        "id": "93hBYjeB0jQg"
      }
    },
    {
      "cell_type": "markdown",
      "source": [
        "## **DataLoader Important Parameters**\n",
        "\n",
        "The DataLoader class in PyTorch comes with several parameters that allow you to customize\n",
        "how data is loaded, batched, and preprocessed. Some of the most commonly used and\n",
        "important parameters include:\n",
        "\n",
        "**1. dataset (mandatory):**\n",
        "\n",
        "* The Dataset from which the DataLoader will pull data.\n",
        "* Must be a subclass of `torch.utils.data.Dataset` that implements `__getitem__` and `__len__`.\n",
        "\n",
        "**2. batch\\_size:**\n",
        "\n",
        "* How many samples per batch to load.\n",
        "* Default is 1.\n",
        "* Larger batch sizes can speed up training on GPUs but require more memory.\n",
        "\n",
        "**3. shuffle:**\n",
        "\n",
        "* If True, the DataLoader will shuffle the dataset indices each epoch.\n",
        "* Helpful to avoid the model becoming too dependent on the order of samples.\n",
        "\n",
        "**4. num\\_workers:**\n",
        "\n",
        "* The number of worker processes used to load data in parallel.\n",
        "* Setting `num_workers > 0` can speed up data loading by leveraging multiple CPU\n",
        "  cores, especially if I/O or preprocessing is a bottleneck.\n",
        "\n",
        "**5. pin\\_memory:**\n",
        "\n",
        "* If True, the DataLoader will copy tensors into pinned (page-locked) memory before\n",
        "  returning them.\n",
        "* This can improve GPU transfer speed and thus overall training throughput,\n",
        "  particularly on CUDA systems.\n",
        "\n",
        "**6. drop\\_last:**\n",
        "\n",
        "* If True, the DataLoader will drop the last incomplete batch if the total number of\n",
        "  samples is not divisible by the batch size.\n",
        "* Useful when exact batch sizes are required (for example, in some batch\n",
        "  normalization scenarios).\n",
        "\n",
        "**7. collate\\_fn:**\n",
        "\n",
        "* A callable that processes a list of samples into a batch (the default simply stacks\n",
        "  tensors).\n",
        "* Custom collate\\_fn can handle variable-length sequences, perform custom batching\n",
        "  logic, or handle complex data structures.\n",
        "\n",
        "**8. sampler:**\n",
        "\n",
        "* `sampler` defines the strategy for drawing samples (e.g., for handling imbalanced\n",
        "  classes, or custom sampling strategies).\n",
        "* `batch_sampler` works at the batch level, controlling how batches are formed.\n",
        "* Typically, you don’t need to specify these if you are using `batch_size` and `shuffle`.\n",
        "  However, they provide lower-level control if you have advanced requirements.\n",
        "\n",
        "---"
      ],
      "metadata": {
        "id": "LTAaOmXk17td"
      }
    },
    {
      "cell_type": "markdown",
      "source": [
        "## **Improving the Code with Mini Batch Gradient Descent**"
      ],
      "metadata": {
        "id": "ijgiAytI21-z"
      }
    },
    {
      "cell_type": "code",
      "source": [
        "import numpy as np\n",
        "import pandas as pd\n",
        "import torch\n",
        "from sklearn.model_selection import train_test_split\n",
        "from sklearn.preprocessing import StandardScaler, LabelEncoder"
      ],
      "metadata": {
        "id": "g57fc5Fa17fL"
      },
      "execution_count": 26,
      "outputs": []
    },
    {
      "cell_type": "code",
      "source": [
        "df = pd.read_csv('https://raw.githubusercontent.com/gscdit/Breast-Cancer-Detection/refs/heads/master/data.csv')\n",
        "\n",
        "df.drop(['id', 'Unnamed: 32'], axis=1, inplace=True)\n",
        "\n",
        "df.head()"
      ],
      "metadata": {
        "colab": {
          "base_uri": "https://localhost:8080/",
          "height": 272
        },
        "id": "2idXqzb6xMGq",
        "outputId": "7a2af076-9be3-4dfe-9572-b4e0b7569c0b"
      },
      "execution_count": 27,
      "outputs": [
        {
          "output_type": "execute_result",
          "data": {
            "text/plain": [
              "  diagnosis  radius_mean  texture_mean  perimeter_mean  area_mean  \\\n",
              "0         M        17.99         10.38          122.80     1001.0   \n",
              "1         M        20.57         17.77          132.90     1326.0   \n",
              "2         M        19.69         21.25          130.00     1203.0   \n",
              "3         M        11.42         20.38           77.58      386.1   \n",
              "4         M        20.29         14.34          135.10     1297.0   \n",
              "\n",
              "   smoothness_mean  compactness_mean  concavity_mean  concave points_mean  \\\n",
              "0          0.11840           0.27760          0.3001              0.14710   \n",
              "1          0.08474           0.07864          0.0869              0.07017   \n",
              "2          0.10960           0.15990          0.1974              0.12790   \n",
              "3          0.14250           0.28390          0.2414              0.10520   \n",
              "4          0.10030           0.13280          0.1980              0.10430   \n",
              "\n",
              "   symmetry_mean  ...  radius_worst  texture_worst  perimeter_worst  \\\n",
              "0         0.2419  ...         25.38          17.33           184.60   \n",
              "1         0.1812  ...         24.99          23.41           158.80   \n",
              "2         0.2069  ...         23.57          25.53           152.50   \n",
              "3         0.2597  ...         14.91          26.50            98.87   \n",
              "4         0.1809  ...         22.54          16.67           152.20   \n",
              "\n",
              "   area_worst  smoothness_worst  compactness_worst  concavity_worst  \\\n",
              "0      2019.0            0.1622             0.6656           0.7119   \n",
              "1      1956.0            0.1238             0.1866           0.2416   \n",
              "2      1709.0            0.1444             0.4245           0.4504   \n",
              "3       567.7            0.2098             0.8663           0.6869   \n",
              "4      1575.0            0.1374             0.2050           0.4000   \n",
              "\n",
              "   concave points_worst  symmetry_worst  fractal_dimension_worst  \n",
              "0                0.2654          0.4601                  0.11890  \n",
              "1                0.1860          0.2750                  0.08902  \n",
              "2                0.2430          0.3613                  0.08758  \n",
              "3                0.2575          0.6638                  0.17300  \n",
              "4                0.1625          0.2364                  0.07678  \n",
              "\n",
              "[5 rows x 31 columns]"
            ],
            "text/html": [
              "\n",
              "  <div id=\"df-4becdac0-9a86-49c5-889d-026653668ae2\" class=\"colab-df-container\">\n",
              "    <div>\n",
              "<style scoped>\n",
              "    .dataframe tbody tr th:only-of-type {\n",
              "        vertical-align: middle;\n",
              "    }\n",
              "\n",
              "    .dataframe tbody tr th {\n",
              "        vertical-align: top;\n",
              "    }\n",
              "\n",
              "    .dataframe thead th {\n",
              "        text-align: right;\n",
              "    }\n",
              "</style>\n",
              "<table border=\"1\" class=\"dataframe\">\n",
              "  <thead>\n",
              "    <tr style=\"text-align: right;\">\n",
              "      <th></th>\n",
              "      <th>diagnosis</th>\n",
              "      <th>radius_mean</th>\n",
              "      <th>texture_mean</th>\n",
              "      <th>perimeter_mean</th>\n",
              "      <th>area_mean</th>\n",
              "      <th>smoothness_mean</th>\n",
              "      <th>compactness_mean</th>\n",
              "      <th>concavity_mean</th>\n",
              "      <th>concave points_mean</th>\n",
              "      <th>symmetry_mean</th>\n",
              "      <th>...</th>\n",
              "      <th>radius_worst</th>\n",
              "      <th>texture_worst</th>\n",
              "      <th>perimeter_worst</th>\n",
              "      <th>area_worst</th>\n",
              "      <th>smoothness_worst</th>\n",
              "      <th>compactness_worst</th>\n",
              "      <th>concavity_worst</th>\n",
              "      <th>concave points_worst</th>\n",
              "      <th>symmetry_worst</th>\n",
              "      <th>fractal_dimension_worst</th>\n",
              "    </tr>\n",
              "  </thead>\n",
              "  <tbody>\n",
              "    <tr>\n",
              "      <th>0</th>\n",
              "      <td>M</td>\n",
              "      <td>17.99</td>\n",
              "      <td>10.38</td>\n",
              "      <td>122.80</td>\n",
              "      <td>1001.0</td>\n",
              "      <td>0.11840</td>\n",
              "      <td>0.27760</td>\n",
              "      <td>0.3001</td>\n",
              "      <td>0.14710</td>\n",
              "      <td>0.2419</td>\n",
              "      <td>...</td>\n",
              "      <td>25.38</td>\n",
              "      <td>17.33</td>\n",
              "      <td>184.60</td>\n",
              "      <td>2019.0</td>\n",
              "      <td>0.1622</td>\n",
              "      <td>0.6656</td>\n",
              "      <td>0.7119</td>\n",
              "      <td>0.2654</td>\n",
              "      <td>0.4601</td>\n",
              "      <td>0.11890</td>\n",
              "    </tr>\n",
              "    <tr>\n",
              "      <th>1</th>\n",
              "      <td>M</td>\n",
              "      <td>20.57</td>\n",
              "      <td>17.77</td>\n",
              "      <td>132.90</td>\n",
              "      <td>1326.0</td>\n",
              "      <td>0.08474</td>\n",
              "      <td>0.07864</td>\n",
              "      <td>0.0869</td>\n",
              "      <td>0.07017</td>\n",
              "      <td>0.1812</td>\n",
              "      <td>...</td>\n",
              "      <td>24.99</td>\n",
              "      <td>23.41</td>\n",
              "      <td>158.80</td>\n",
              "      <td>1956.0</td>\n",
              "      <td>0.1238</td>\n",
              "      <td>0.1866</td>\n",
              "      <td>0.2416</td>\n",
              "      <td>0.1860</td>\n",
              "      <td>0.2750</td>\n",
              "      <td>0.08902</td>\n",
              "    </tr>\n",
              "    <tr>\n",
              "      <th>2</th>\n",
              "      <td>M</td>\n",
              "      <td>19.69</td>\n",
              "      <td>21.25</td>\n",
              "      <td>130.00</td>\n",
              "      <td>1203.0</td>\n",
              "      <td>0.10960</td>\n",
              "      <td>0.15990</td>\n",
              "      <td>0.1974</td>\n",
              "      <td>0.12790</td>\n",
              "      <td>0.2069</td>\n",
              "      <td>...</td>\n",
              "      <td>23.57</td>\n",
              "      <td>25.53</td>\n",
              "      <td>152.50</td>\n",
              "      <td>1709.0</td>\n",
              "      <td>0.1444</td>\n",
              "      <td>0.4245</td>\n",
              "      <td>0.4504</td>\n",
              "      <td>0.2430</td>\n",
              "      <td>0.3613</td>\n",
              "      <td>0.08758</td>\n",
              "    </tr>\n",
              "    <tr>\n",
              "      <th>3</th>\n",
              "      <td>M</td>\n",
              "      <td>11.42</td>\n",
              "      <td>20.38</td>\n",
              "      <td>77.58</td>\n",
              "      <td>386.1</td>\n",
              "      <td>0.14250</td>\n",
              "      <td>0.28390</td>\n",
              "      <td>0.2414</td>\n",
              "      <td>0.10520</td>\n",
              "      <td>0.2597</td>\n",
              "      <td>...</td>\n",
              "      <td>14.91</td>\n",
              "      <td>26.50</td>\n",
              "      <td>98.87</td>\n",
              "      <td>567.7</td>\n",
              "      <td>0.2098</td>\n",
              "      <td>0.8663</td>\n",
              "      <td>0.6869</td>\n",
              "      <td>0.2575</td>\n",
              "      <td>0.6638</td>\n",
              "      <td>0.17300</td>\n",
              "    </tr>\n",
              "    <tr>\n",
              "      <th>4</th>\n",
              "      <td>M</td>\n",
              "      <td>20.29</td>\n",
              "      <td>14.34</td>\n",
              "      <td>135.10</td>\n",
              "      <td>1297.0</td>\n",
              "      <td>0.10030</td>\n",
              "      <td>0.13280</td>\n",
              "      <td>0.1980</td>\n",
              "      <td>0.10430</td>\n",
              "      <td>0.1809</td>\n",
              "      <td>...</td>\n",
              "      <td>22.54</td>\n",
              "      <td>16.67</td>\n",
              "      <td>152.20</td>\n",
              "      <td>1575.0</td>\n",
              "      <td>0.1374</td>\n",
              "      <td>0.2050</td>\n",
              "      <td>0.4000</td>\n",
              "      <td>0.1625</td>\n",
              "      <td>0.2364</td>\n",
              "      <td>0.07678</td>\n",
              "    </tr>\n",
              "  </tbody>\n",
              "</table>\n",
              "<p>5 rows × 31 columns</p>\n",
              "</div>\n",
              "    <div class=\"colab-df-buttons\">\n",
              "\n",
              "  <div class=\"colab-df-container\">\n",
              "    <button class=\"colab-df-convert\" onclick=\"convertToInteractive('df-4becdac0-9a86-49c5-889d-026653668ae2')\"\n",
              "            title=\"Convert this dataframe to an interactive table.\"\n",
              "            style=\"display:none;\">\n",
              "\n",
              "  <svg xmlns=\"http://www.w3.org/2000/svg\" height=\"24px\" viewBox=\"0 -960 960 960\">\n",
              "    <path d=\"M120-120v-720h720v720H120Zm60-500h600v-160H180v160Zm220 220h160v-160H400v160Zm0 220h160v-160H400v160ZM180-400h160v-160H180v160Zm440 0h160v-160H620v160ZM180-180h160v-160H180v160Zm440 0h160v-160H620v160Z\"/>\n",
              "  </svg>\n",
              "    </button>\n",
              "\n",
              "  <style>\n",
              "    .colab-df-container {\n",
              "      display:flex;\n",
              "      gap: 12px;\n",
              "    }\n",
              "\n",
              "    .colab-df-convert {\n",
              "      background-color: #E8F0FE;\n",
              "      border: none;\n",
              "      border-radius: 50%;\n",
              "      cursor: pointer;\n",
              "      display: none;\n",
              "      fill: #1967D2;\n",
              "      height: 32px;\n",
              "      padding: 0 0 0 0;\n",
              "      width: 32px;\n",
              "    }\n",
              "\n",
              "    .colab-df-convert:hover {\n",
              "      background-color: #E2EBFA;\n",
              "      box-shadow: 0px 1px 2px rgba(60, 64, 67, 0.3), 0px 1px 3px 1px rgba(60, 64, 67, 0.15);\n",
              "      fill: #174EA6;\n",
              "    }\n",
              "\n",
              "    .colab-df-buttons div {\n",
              "      margin-bottom: 4px;\n",
              "    }\n",
              "\n",
              "    [theme=dark] .colab-df-convert {\n",
              "      background-color: #3B4455;\n",
              "      fill: #D2E3FC;\n",
              "    }\n",
              "\n",
              "    [theme=dark] .colab-df-convert:hover {\n",
              "      background-color: #434B5C;\n",
              "      box-shadow: 0px 1px 3px 1px rgba(0, 0, 0, 0.15);\n",
              "      filter: drop-shadow(0px 1px 2px rgba(0, 0, 0, 0.3));\n",
              "      fill: #FFFFFF;\n",
              "    }\n",
              "  </style>\n",
              "\n",
              "    <script>\n",
              "      const buttonEl =\n",
              "        document.querySelector('#df-4becdac0-9a86-49c5-889d-026653668ae2 button.colab-df-convert');\n",
              "      buttonEl.style.display =\n",
              "        google.colab.kernel.accessAllowed ? 'block' : 'none';\n",
              "\n",
              "      async function convertToInteractive(key) {\n",
              "        const element = document.querySelector('#df-4becdac0-9a86-49c5-889d-026653668ae2');\n",
              "        const dataTable =\n",
              "          await google.colab.kernel.invokeFunction('convertToInteractive',\n",
              "                                                    [key], {});\n",
              "        if (!dataTable) return;\n",
              "\n",
              "        const docLinkHtml = 'Like what you see? Visit the ' +\n",
              "          '<a target=\"_blank\" href=https://colab.research.google.com/notebooks/data_table.ipynb>data table notebook</a>'\n",
              "          + ' to learn more about interactive tables.';\n",
              "        element.innerHTML = '';\n",
              "        dataTable['output_type'] = 'display_data';\n",
              "        await google.colab.output.renderOutput(dataTable, element);\n",
              "        const docLink = document.createElement('div');\n",
              "        docLink.innerHTML = docLinkHtml;\n",
              "        element.appendChild(docLink);\n",
              "      }\n",
              "    </script>\n",
              "  </div>\n",
              "\n",
              "\n",
              "    <div id=\"df-dee150f5-3e1a-47ed-aa1e-2b63c35e6854\">\n",
              "      <button class=\"colab-df-quickchart\" onclick=\"quickchart('df-dee150f5-3e1a-47ed-aa1e-2b63c35e6854')\"\n",
              "                title=\"Suggest charts\"\n",
              "                style=\"display:none;\">\n",
              "\n",
              "<svg xmlns=\"http://www.w3.org/2000/svg\" height=\"24px\"viewBox=\"0 0 24 24\"\n",
              "     width=\"24px\">\n",
              "    <g>\n",
              "        <path d=\"M19 3H5c-1.1 0-2 .9-2 2v14c0 1.1.9 2 2 2h14c1.1 0 2-.9 2-2V5c0-1.1-.9-2-2-2zM9 17H7v-7h2v7zm4 0h-2V7h2v10zm4 0h-2v-4h2v4z\"/>\n",
              "    </g>\n",
              "</svg>\n",
              "      </button>\n",
              "\n",
              "<style>\n",
              "  .colab-df-quickchart {\n",
              "      --bg-color: #E8F0FE;\n",
              "      --fill-color: #1967D2;\n",
              "      --hover-bg-color: #E2EBFA;\n",
              "      --hover-fill-color: #174EA6;\n",
              "      --disabled-fill-color: #AAA;\n",
              "      --disabled-bg-color: #DDD;\n",
              "  }\n",
              "\n",
              "  [theme=dark] .colab-df-quickchart {\n",
              "      --bg-color: #3B4455;\n",
              "      --fill-color: #D2E3FC;\n",
              "      --hover-bg-color: #434B5C;\n",
              "      --hover-fill-color: #FFFFFF;\n",
              "      --disabled-bg-color: #3B4455;\n",
              "      --disabled-fill-color: #666;\n",
              "  }\n",
              "\n",
              "  .colab-df-quickchart {\n",
              "    background-color: var(--bg-color);\n",
              "    border: none;\n",
              "    border-radius: 50%;\n",
              "    cursor: pointer;\n",
              "    display: none;\n",
              "    fill: var(--fill-color);\n",
              "    height: 32px;\n",
              "    padding: 0;\n",
              "    width: 32px;\n",
              "  }\n",
              "\n",
              "  .colab-df-quickchart:hover {\n",
              "    background-color: var(--hover-bg-color);\n",
              "    box-shadow: 0 1px 2px rgba(60, 64, 67, 0.3), 0 1px 3px 1px rgba(60, 64, 67, 0.15);\n",
              "    fill: var(--button-hover-fill-color);\n",
              "  }\n",
              "\n",
              "  .colab-df-quickchart-complete:disabled,\n",
              "  .colab-df-quickchart-complete:disabled:hover {\n",
              "    background-color: var(--disabled-bg-color);\n",
              "    fill: var(--disabled-fill-color);\n",
              "    box-shadow: none;\n",
              "  }\n",
              "\n",
              "  .colab-df-spinner {\n",
              "    border: 2px solid var(--fill-color);\n",
              "    border-color: transparent;\n",
              "    border-bottom-color: var(--fill-color);\n",
              "    animation:\n",
              "      spin 1s steps(1) infinite;\n",
              "  }\n",
              "\n",
              "  @keyframes spin {\n",
              "    0% {\n",
              "      border-color: transparent;\n",
              "      border-bottom-color: var(--fill-color);\n",
              "      border-left-color: var(--fill-color);\n",
              "    }\n",
              "    20% {\n",
              "      border-color: transparent;\n",
              "      border-left-color: var(--fill-color);\n",
              "      border-top-color: var(--fill-color);\n",
              "    }\n",
              "    30% {\n",
              "      border-color: transparent;\n",
              "      border-left-color: var(--fill-color);\n",
              "      border-top-color: var(--fill-color);\n",
              "      border-right-color: var(--fill-color);\n",
              "    }\n",
              "    40% {\n",
              "      border-color: transparent;\n",
              "      border-right-color: var(--fill-color);\n",
              "      border-top-color: var(--fill-color);\n",
              "    }\n",
              "    60% {\n",
              "      border-color: transparent;\n",
              "      border-right-color: var(--fill-color);\n",
              "    }\n",
              "    80% {\n",
              "      border-color: transparent;\n",
              "      border-right-color: var(--fill-color);\n",
              "      border-bottom-color: var(--fill-color);\n",
              "    }\n",
              "    90% {\n",
              "      border-color: transparent;\n",
              "      border-bottom-color: var(--fill-color);\n",
              "    }\n",
              "  }\n",
              "</style>\n",
              "\n",
              "      <script>\n",
              "        async function quickchart(key) {\n",
              "          const quickchartButtonEl =\n",
              "            document.querySelector('#' + key + ' button');\n",
              "          quickchartButtonEl.disabled = true;  // To prevent multiple clicks.\n",
              "          quickchartButtonEl.classList.add('colab-df-spinner');\n",
              "          try {\n",
              "            const charts = await google.colab.kernel.invokeFunction(\n",
              "                'suggestCharts', [key], {});\n",
              "          } catch (error) {\n",
              "            console.error('Error during call to suggestCharts:', error);\n",
              "          }\n",
              "          quickchartButtonEl.classList.remove('colab-df-spinner');\n",
              "          quickchartButtonEl.classList.add('colab-df-quickchart-complete');\n",
              "        }\n",
              "        (() => {\n",
              "          let quickchartButtonEl =\n",
              "            document.querySelector('#df-dee150f5-3e1a-47ed-aa1e-2b63c35e6854 button');\n",
              "          quickchartButtonEl.style.display =\n",
              "            google.colab.kernel.accessAllowed ? 'block' : 'none';\n",
              "        })();\n",
              "      </script>\n",
              "    </div>\n",
              "\n",
              "    </div>\n",
              "  </div>\n"
            ],
            "application/vnd.google.colaboratory.intrinsic+json": {
              "type": "dataframe",
              "variable_name": "df"
            }
          },
          "metadata": {},
          "execution_count": 27
        }
      ]
    },
    {
      "cell_type": "code",
      "source": [
        "X_train, X_test, y_train, y_test = train_test_split(df.drop('diagnosis', axis=1), df['diagnosis'], test_size=0.2, random_state=42)"
      ],
      "metadata": {
        "id": "wxLla7SS2_fT"
      },
      "execution_count": 31,
      "outputs": []
    },
    {
      "cell_type": "code",
      "source": [
        "scaler = StandardScaler()\n",
        "X_train = scaler.fit_transform(X_train)\n",
        "X_test = scaler.transform(X_test)\n",
        "\n",
        "encoder = LabelEncoder()\n",
        "y_train = encoder.fit_transform(y_train)\n",
        "y_test = encoder.transform(y_test)\n",
        "\n",
        "X_train_tensor = torch.from_numpy(X_train)\n",
        "X_test_tensor = torch.from_numpy(X_test)\n",
        "y_train_tensor = torch.from_numpy(y_train)\n",
        "y_test_tensor = torch.from_numpy(y_test)\n",
        "\n",
        "X_train_tensor = X_train_tensor.float()\n",
        "X_test_tensor = X_test_tensor.float()"
      ],
      "metadata": {
        "id": "IJ5wtfGk3BA6"
      },
      "execution_count": 34,
      "outputs": []
    },
    {
      "cell_type": "code",
      "source": [
        "class CustomDataset(Dataset):\n",
        "\n",
        "    def __init__(self, features, labels):\n",
        "        self.features = features\n",
        "        self.labels = labels\n",
        "\n",
        "    def __len__(self):\n",
        "        return self.features.shape[0]\n",
        "\n",
        "    def __getitem__(self, index):\n",
        "        return self.features[index], self.labels[index]"
      ],
      "metadata": {
        "id": "-C0mqljQ3Dmt"
      },
      "execution_count": 35,
      "outputs": []
    },
    {
      "cell_type": "code",
      "source": [
        "train_dataset = CustomDataset(X_train_tensor, y_train_tensor)\n",
        "test_dataset = CustomDataset(X_test_tensor, y_test_tensor)"
      ],
      "metadata": {
        "id": "NJKBM2Gb3Ew0"
      },
      "execution_count": 36,
      "outputs": []
    },
    {
      "cell_type": "code",
      "source": [
        "train_loader = DataLoader(train_dataset, batch_size=32, shuffle=True)\n",
        "test_loader = DataLoader(test_dataset, batch_size=32, shuffle=False)"
      ],
      "metadata": {
        "id": "PLhWSXy93hXR"
      },
      "execution_count": 37,
      "outputs": []
    },
    {
      "cell_type": "code",
      "source": [
        "# create model class\n",
        "import torch\n",
        "import torch.nn as nn\n",
        "\n",
        "class Model(nn.Module):\n",
        "    def __init__(self, num_features):\n",
        "\n",
        "        super().__init__()\n",
        "        self.network = nn.Sequential(\n",
        "            nn.Linear(num_features, 5),\n",
        "            nn.ReLU(),\n",
        "            nn.Linear(5, 1),\n",
        "            nn.Sigmoid()\n",
        "        )\n",
        "\n",
        "\n",
        "    def forward(self, x):\n",
        "        out = self.network(x)\n",
        "\n",
        "        return out"
      ],
      "metadata": {
        "id": "l9lJqt943qVP"
      },
      "execution_count": 49,
      "outputs": []
    },
    {
      "cell_type": "code",
      "source": [
        "# Important Parameters\n",
        "learning_rate = 0.1\n",
        "epochs = 25"
      ],
      "metadata": {
        "id": "P-SUABQ03yy9"
      },
      "execution_count": 50,
      "outputs": []
    },
    {
      "cell_type": "code",
      "source": [
        "model = Model(X_train_tensor.shape[1])\n",
        "loss_function = nn.BCELoss()   # Binary Cross Entrophy\n",
        "optimizer = torch.optim.SGD(model.parameters(), lr=learning_rate)  # SDG : Stochastic Gradient"
      ],
      "metadata": {
        "id": "alMQqFSe30Jk"
      },
      "execution_count": 51,
      "outputs": []
    },
    {
      "cell_type": "code",
      "source": [
        "for epoch in range(epochs):\n",
        "    for batch_features, batch_labels in train_loader:\n",
        "        # Forward Pass\n",
        "        y_pred = model(batch_features)   # automatically calls the forward method\n",
        "\n",
        "        # Calculate Loss\n",
        "        loss = loss_function(y_pred.flatten(), batch_labels.float())\n",
        "\n",
        "        # Clear Gradients\n",
        "        optimizer.zero_grad()\n",
        "\n",
        "        # back prop\n",
        "        loss.backward()\n",
        "\n",
        "        # Update Parameters\n",
        "        optimizer.step()\n",
        "\n",
        "    print(f\"Epoch: {epoch+1}, Loss : {loss.item():.4f}\")"
      ],
      "metadata": {
        "colab": {
          "base_uri": "https://localhost:8080/"
        },
        "id": "jA4GnKXz4CW7",
        "outputId": "c5df7145-948a-421c-efb7-979d3f2b55ba"
      },
      "execution_count": 53,
      "outputs": [
        {
          "output_type": "stream",
          "name": "stdout",
          "text": [
            "Epoch: 1, Loss : 0.0516\n",
            "Epoch: 2, Loss : 0.3328\n",
            "Epoch: 3, Loss : 0.0105\n",
            "Epoch: 4, Loss : 0.0221\n",
            "Epoch: 5, Loss : 0.0027\n",
            "Epoch: 6, Loss : 0.0068\n",
            "Epoch: 7, Loss : 0.0158\n",
            "Epoch: 8, Loss : 0.0019\n",
            "Epoch: 9, Loss : 0.0535\n",
            "Epoch: 10, Loss : 0.0075\n",
            "Epoch: 11, Loss : 0.0067\n",
            "Epoch: 12, Loss : 0.0513\n",
            "Epoch: 13, Loss : 0.0197\n",
            "Epoch: 14, Loss : 0.0080\n",
            "Epoch: 15, Loss : 0.0530\n",
            "Epoch: 16, Loss : 0.0231\n",
            "Epoch: 17, Loss : 0.0023\n",
            "Epoch: 18, Loss : 0.0084\n",
            "Epoch: 19, Loss : 0.0430\n",
            "Epoch: 20, Loss : 0.0016\n",
            "Epoch: 21, Loss : 0.0004\n",
            "Epoch: 22, Loss : 0.0172\n",
            "Epoch: 23, Loss : 0.0145\n",
            "Epoch: 24, Loss : 0.0023\n",
            "Epoch: 25, Loss : 0.0212\n"
          ]
        }
      ]
    },
    {
      "cell_type": "code",
      "source": [
        "model.eval()\n",
        "accuracy_list = []\n",
        "\n",
        "with torch.no_grad():\n",
        "    for batch_features, batch_labels in test_loader:\n",
        "        y_pred = model(batch_features)\n",
        "        y_pred = (y_pred > 0.5).float()\n",
        "        accuracy = (y_pred.flatten() == batch_labels).float().mean()\n",
        "        accuracy_list.append(accuracy.item())\n",
        "\n",
        "overall_accuracy = sum(accuracy_list) / len(accuracy_list)\n",
        "print(f\"Overall Accuracy: {overall_accuracy:.4f}\")"
      ],
      "metadata": {
        "colab": {
          "base_uri": "https://localhost:8080/"
        },
        "id": "DYI0A0VT4Ysj",
        "outputId": "e66a2102-2bca-4461-ef5a-209f3c66ccb7"
      },
      "execution_count": 54,
      "outputs": [
        {
          "output_type": "stream",
          "name": "stdout",
          "text": [
            "Overall Accuracy: 0.9922\n"
          ]
        }
      ]
    },
    {
      "cell_type": "code",
      "source": [],
      "metadata": {
        "id": "pEbWIH1e450J"
      },
      "execution_count": null,
      "outputs": []
    }
  ]
}